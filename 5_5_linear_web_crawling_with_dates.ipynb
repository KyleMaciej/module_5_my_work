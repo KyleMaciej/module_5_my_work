{
 "cells": [
  {
   "cell_type": "markdown",
   "metadata": {},
   "source": [
    "# Linear Web Crawls with Dates\n",
    "\n",
    "In this section, we will look at using the `datetime` modules to create many urls that are based on dates."
   ]
  },
  {
   "cell_type": "markdown",
   "metadata": {},
   "source": [
    "## The Problem\n",
    "\n",
    "* We have to create many urls based on dates/time.\n",
    "    * Example: `http://www.thecurrent.org/playlist/2014-01-01/01`\n",
    "* Working with dates is tough\n",
    "    * different days per month\n",
    "    * leap years"
   ]
  },
  {
   "cell_type": "markdown",
   "metadata": {},
   "source": [
    "## The solution\n",
    "\n",
    "We can use the `datetime` module to\n",
    "\n",
    "* Create many dates\n",
    "* Print to a specific output"
   ]
  },
  {
   "cell_type": "code",
   "execution_count": 1,
   "metadata": {},
   "outputs": [],
   "source": [
    "import datetime"
   ]
  },
  {
   "cell_type": "markdown",
   "metadata": {},
   "source": [
    "## Example - Scraping The Current\n",
    "\n",
    "In a previous lab, we wrote a function get the information for a single page (1 hour of songs).  Here is the resulting functions."
   ]
  },
  {
   "cell_type": "code",
   "execution_count": 2,
   "metadata": {},
   "outputs": [],
   "source": [
    "import requests\n",
    "from bs4 import BeautifulSoup\n",
    "\n",
    "def get_period(soup):\n",
    "    search = soup('span', class_=\"hour-header open\")\n",
    "    if len(search) > 0:\n",
    "        return search[0].next.split('to')[0].rstrip()[-2:]\n",
    "    else:\n",
    "        return None\n",
    "\n",
    "def get_day(soup):\n",
    "    search = soup('a', class_=\"start-picker\")\n",
    "    if len(search) > 0:\n",
    "        return search[0].next.split(',')[0]\n",
    "    else:\n",
    "        return None\n",
    "    \n",
    "def get_song_info(url):\n",
    "    print(\"Starting {0} urls\".format(url))\n",
    "    date = url.split('/')[-2]\n",
    "    s = requests.Session()\n",
    "    r = s.get(url)\n",
    "    soup = BeautifulSoup(r.content, 'lxml')\n",
    "    period = get_period(soup)\n",
    "    day_of_week = get_day(soup)\n",
    "    soup = BeautifulSoup(r.content)\n",
    "    titles = [t.next.strip() for t in soup.findAll('h5', class_=\"title\")]\n",
    "    artists = [a.next.strip() for a in soup.findAll('h5',class_='artist')]\n",
    "    times = [d.time.next.strip() for d in soup('div', class_=\"two columns songTime\")]\n",
    "    song_info = [(day_of_week, date, time, period, title, artist) \n",
    "             for time, title, artist in zip(times, titles, artists)]\n",
    "    return song_info"
   ]
  },
  {
   "cell_type": "markdown",
   "metadata": {},
   "source": [
    "# Collecting a weeks worth of music\n",
    "\n",
    "## Step 1 - Identify the url pattern\n",
    "\n",
    "The Current uses urls of the following pattern\n",
    "\n",
    "    'http://www.thecurrent.org/playlist/2017-05-04/10'\n",
    "\n",
    "or \n",
    "\n",
    "    'http://www.thecurrent.org/playlist/year-month-day/hour'"
   ]
  },
  {
   "cell_type": "markdown",
   "metadata": {},
   "source": [
    "## Question: How might you generate all combinations for a given year?\n",
    "\n",
    "**Answer:** Python has a tool for that!"
   ]
  },
  {
   "cell_type": "code",
   "execution_count": 3,
   "metadata": {},
   "outputs": [
    {
     "data": {
      "text/plain": [
       "[datetime.datetime(2020, 10, 27, 11, 38, 18, 783062),\n",
       " datetime.datetime(2020, 10, 27, 10, 38, 18, 783062),\n",
       " datetime.datetime(2020, 10, 27, 9, 38, 18, 783062),\n",
       " datetime.datetime(2020, 10, 27, 8, 38, 18, 783062),\n",
       " datetime.datetime(2020, 10, 27, 7, 38, 18, 783062),\n",
       " datetime.datetime(2020, 10, 27, 6, 38, 18, 783062),\n",
       " datetime.datetime(2020, 10, 27, 5, 38, 18, 783062),\n",
       " datetime.datetime(2020, 10, 27, 4, 38, 18, 783062),\n",
       " datetime.datetime(2020, 10, 27, 3, 38, 18, 783062),\n",
       " datetime.datetime(2020, 10, 27, 2, 38, 18, 783062),\n",
       " datetime.datetime(2020, 10, 27, 1, 38, 18, 783062),\n",
       " datetime.datetime(2020, 10, 27, 0, 38, 18, 783062),\n",
       " datetime.datetime(2020, 10, 26, 23, 38, 18, 783062),\n",
       " datetime.datetime(2020, 10, 26, 22, 38, 18, 783062),\n",
       " datetime.datetime(2020, 10, 26, 21, 38, 18, 783062),\n",
       " datetime.datetime(2020, 10, 26, 20, 38, 18, 783062),\n",
       " datetime.datetime(2020, 10, 26, 19, 38, 18, 783062),\n",
       " datetime.datetime(2020, 10, 26, 18, 38, 18, 783062),\n",
       " datetime.datetime(2020, 10, 26, 17, 38, 18, 783062),\n",
       " datetime.datetime(2020, 10, 26, 16, 38, 18, 783062),\n",
       " datetime.datetime(2020, 10, 26, 15, 38, 18, 783062),\n",
       " datetime.datetime(2020, 10, 26, 14, 38, 18, 783062),\n",
       " datetime.datetime(2020, 10, 26, 13, 38, 18, 783062),\n",
       " datetime.datetime(2020, 10, 26, 12, 38, 18, 783062),\n",
       " datetime.datetime(2020, 10, 26, 11, 38, 18, 783062),\n",
       " datetime.datetime(2020, 10, 26, 10, 38, 18, 783062),\n",
       " datetime.datetime(2020, 10, 26, 9, 38, 18, 783062),\n",
       " datetime.datetime(2020, 10, 26, 8, 38, 18, 783062),\n",
       " datetime.datetime(2020, 10, 26, 7, 38, 18, 783062),\n",
       " datetime.datetime(2020, 10, 26, 6, 38, 18, 783062),\n",
       " datetime.datetime(2020, 10, 26, 5, 38, 18, 783062),\n",
       " datetime.datetime(2020, 10, 26, 4, 38, 18, 783062),\n",
       " datetime.datetime(2020, 10, 26, 3, 38, 18, 783062),\n",
       " datetime.datetime(2020, 10, 26, 2, 38, 18, 783062),\n",
       " datetime.datetime(2020, 10, 26, 1, 38, 18, 783062),\n",
       " datetime.datetime(2020, 10, 26, 0, 38, 18, 783062),\n",
       " datetime.datetime(2020, 10, 25, 23, 38, 18, 783062),\n",
       " datetime.datetime(2020, 10, 25, 22, 38, 18, 783062),\n",
       " datetime.datetime(2020, 10, 25, 21, 38, 18, 783062),\n",
       " datetime.datetime(2020, 10, 25, 20, 38, 18, 783062),\n",
       " datetime.datetime(2020, 10, 25, 19, 38, 18, 783062),\n",
       " datetime.datetime(2020, 10, 25, 18, 38, 18, 783062),\n",
       " datetime.datetime(2020, 10, 25, 17, 38, 18, 783062),\n",
       " datetime.datetime(2020, 10, 25, 16, 38, 18, 783062),\n",
       " datetime.datetime(2020, 10, 25, 15, 38, 18, 783062),\n",
       " datetime.datetime(2020, 10, 25, 14, 38, 18, 783062),\n",
       " datetime.datetime(2020, 10, 25, 13, 38, 18, 783062),\n",
       " datetime.datetime(2020, 10, 25, 12, 38, 18, 783062),\n",
       " datetime.datetime(2020, 10, 25, 11, 38, 18, 783062),\n",
       " datetime.datetime(2020, 10, 25, 10, 38, 18, 783062),\n",
       " datetime.datetime(2020, 10, 25, 9, 38, 18, 783062),\n",
       " datetime.datetime(2020, 10, 25, 8, 38, 18, 783062),\n",
       " datetime.datetime(2020, 10, 25, 7, 38, 18, 783062),\n",
       " datetime.datetime(2020, 10, 25, 6, 38, 18, 783062),\n",
       " datetime.datetime(2020, 10, 25, 5, 38, 18, 783062),\n",
       " datetime.datetime(2020, 10, 25, 4, 38, 18, 783062),\n",
       " datetime.datetime(2020, 10, 25, 3, 38, 18, 783062),\n",
       " datetime.datetime(2020, 10, 25, 2, 38, 18, 783062),\n",
       " datetime.datetime(2020, 10, 25, 1, 38, 18, 783062),\n",
       " datetime.datetime(2020, 10, 25, 0, 38, 18, 783062),\n",
       " datetime.datetime(2020, 10, 24, 23, 38, 18, 783062),\n",
       " datetime.datetime(2020, 10, 24, 22, 38, 18, 783062),\n",
       " datetime.datetime(2020, 10, 24, 21, 38, 18, 783062),\n",
       " datetime.datetime(2020, 10, 24, 20, 38, 18, 783062),\n",
       " datetime.datetime(2020, 10, 24, 19, 38, 18, 783062),\n",
       " datetime.datetime(2020, 10, 24, 18, 38, 18, 783062),\n",
       " datetime.datetime(2020, 10, 24, 17, 38, 18, 783062),\n",
       " datetime.datetime(2020, 10, 24, 16, 38, 18, 783062),\n",
       " datetime.datetime(2020, 10, 24, 15, 38, 18, 783062),\n",
       " datetime.datetime(2020, 10, 24, 14, 38, 18, 783062),\n",
       " datetime.datetime(2020, 10, 24, 13, 38, 18, 783062),\n",
       " datetime.datetime(2020, 10, 24, 12, 38, 18, 783062),\n",
       " datetime.datetime(2020, 10, 24, 11, 38, 18, 783062),\n",
       " datetime.datetime(2020, 10, 24, 10, 38, 18, 783062),\n",
       " datetime.datetime(2020, 10, 24, 9, 38, 18, 783062),\n",
       " datetime.datetime(2020, 10, 24, 8, 38, 18, 783062),\n",
       " datetime.datetime(2020, 10, 24, 7, 38, 18, 783062),\n",
       " datetime.datetime(2020, 10, 24, 6, 38, 18, 783062),\n",
       " datetime.datetime(2020, 10, 24, 5, 38, 18, 783062),\n",
       " datetime.datetime(2020, 10, 24, 4, 38, 18, 783062),\n",
       " datetime.datetime(2020, 10, 24, 3, 38, 18, 783062),\n",
       " datetime.datetime(2020, 10, 24, 2, 38, 18, 783062),\n",
       " datetime.datetime(2020, 10, 24, 1, 38, 18, 783062),\n",
       " datetime.datetime(2020, 10, 24, 0, 38, 18, 783062),\n",
       " datetime.datetime(2020, 10, 23, 23, 38, 18, 783062),\n",
       " datetime.datetime(2020, 10, 23, 22, 38, 18, 783062),\n",
       " datetime.datetime(2020, 10, 23, 21, 38, 18, 783062),\n",
       " datetime.datetime(2020, 10, 23, 20, 38, 18, 783062),\n",
       " datetime.datetime(2020, 10, 23, 19, 38, 18, 783062),\n",
       " datetime.datetime(2020, 10, 23, 18, 38, 18, 783062),\n",
       " datetime.datetime(2020, 10, 23, 17, 38, 18, 783062),\n",
       " datetime.datetime(2020, 10, 23, 16, 38, 18, 783062),\n",
       " datetime.datetime(2020, 10, 23, 15, 38, 18, 783062),\n",
       " datetime.datetime(2020, 10, 23, 14, 38, 18, 783062),\n",
       " datetime.datetime(2020, 10, 23, 13, 38, 18, 783062),\n",
       " datetime.datetime(2020, 10, 23, 12, 38, 18, 783062),\n",
       " datetime.datetime(2020, 10, 23, 11, 38, 18, 783062),\n",
       " datetime.datetime(2020, 10, 23, 10, 38, 18, 783062),\n",
       " datetime.datetime(2020, 10, 23, 9, 38, 18, 783062),\n",
       " datetime.datetime(2020, 10, 23, 8, 38, 18, 783062),\n",
       " datetime.datetime(2020, 10, 23, 7, 38, 18, 783062),\n",
       " datetime.datetime(2020, 10, 23, 6, 38, 18, 783062),\n",
       " datetime.datetime(2020, 10, 23, 5, 38, 18, 783062),\n",
       " datetime.datetime(2020, 10, 23, 4, 38, 18, 783062),\n",
       " datetime.datetime(2020, 10, 23, 3, 38, 18, 783062),\n",
       " datetime.datetime(2020, 10, 23, 2, 38, 18, 783062),\n",
       " datetime.datetime(2020, 10, 23, 1, 38, 18, 783062),\n",
       " datetime.datetime(2020, 10, 23, 0, 38, 18, 783062),\n",
       " datetime.datetime(2020, 10, 22, 23, 38, 18, 783062),\n",
       " datetime.datetime(2020, 10, 22, 22, 38, 18, 783062),\n",
       " datetime.datetime(2020, 10, 22, 21, 38, 18, 783062),\n",
       " datetime.datetime(2020, 10, 22, 20, 38, 18, 783062),\n",
       " datetime.datetime(2020, 10, 22, 19, 38, 18, 783062),\n",
       " datetime.datetime(2020, 10, 22, 18, 38, 18, 783062),\n",
       " datetime.datetime(2020, 10, 22, 17, 38, 18, 783062),\n",
       " datetime.datetime(2020, 10, 22, 16, 38, 18, 783062),\n",
       " datetime.datetime(2020, 10, 22, 15, 38, 18, 783062),\n",
       " datetime.datetime(2020, 10, 22, 14, 38, 18, 783062),\n",
       " datetime.datetime(2020, 10, 22, 13, 38, 18, 783062),\n",
       " datetime.datetime(2020, 10, 22, 12, 38, 18, 783062),\n",
       " datetime.datetime(2020, 10, 22, 11, 38, 18, 783062),\n",
       " datetime.datetime(2020, 10, 22, 10, 38, 18, 783062),\n",
       " datetime.datetime(2020, 10, 22, 9, 38, 18, 783062),\n",
       " datetime.datetime(2020, 10, 22, 8, 38, 18, 783062),\n",
       " datetime.datetime(2020, 10, 22, 7, 38, 18, 783062),\n",
       " datetime.datetime(2020, 10, 22, 6, 38, 18, 783062),\n",
       " datetime.datetime(2020, 10, 22, 5, 38, 18, 783062),\n",
       " datetime.datetime(2020, 10, 22, 4, 38, 18, 783062),\n",
       " datetime.datetime(2020, 10, 22, 3, 38, 18, 783062),\n",
       " datetime.datetime(2020, 10, 22, 2, 38, 18, 783062),\n",
       " datetime.datetime(2020, 10, 22, 1, 38, 18, 783062),\n",
       " datetime.datetime(2020, 10, 22, 0, 38, 18, 783062),\n",
       " datetime.datetime(2020, 10, 21, 23, 38, 18, 783062),\n",
       " datetime.datetime(2020, 10, 21, 22, 38, 18, 783062),\n",
       " datetime.datetime(2020, 10, 21, 21, 38, 18, 783062),\n",
       " datetime.datetime(2020, 10, 21, 20, 38, 18, 783062),\n",
       " datetime.datetime(2020, 10, 21, 19, 38, 18, 783062),\n",
       " datetime.datetime(2020, 10, 21, 18, 38, 18, 783062),\n",
       " datetime.datetime(2020, 10, 21, 17, 38, 18, 783062),\n",
       " datetime.datetime(2020, 10, 21, 16, 38, 18, 783062),\n",
       " datetime.datetime(2020, 10, 21, 15, 38, 18, 783062),\n",
       " datetime.datetime(2020, 10, 21, 14, 38, 18, 783062),\n",
       " datetime.datetime(2020, 10, 21, 13, 38, 18, 783062),\n",
       " datetime.datetime(2020, 10, 21, 12, 38, 18, 783062),\n",
       " datetime.datetime(2020, 10, 21, 11, 38, 18, 783062),\n",
       " datetime.datetime(2020, 10, 21, 10, 38, 18, 783062),\n",
       " datetime.datetime(2020, 10, 21, 9, 38, 18, 783062),\n",
       " datetime.datetime(2020, 10, 21, 8, 38, 18, 783062),\n",
       " datetime.datetime(2020, 10, 21, 7, 38, 18, 783062),\n",
       " datetime.datetime(2020, 10, 21, 6, 38, 18, 783062),\n",
       " datetime.datetime(2020, 10, 21, 5, 38, 18, 783062),\n",
       " datetime.datetime(2020, 10, 21, 4, 38, 18, 783062),\n",
       " datetime.datetime(2020, 10, 21, 3, 38, 18, 783062),\n",
       " datetime.datetime(2020, 10, 21, 2, 38, 18, 783062),\n",
       " datetime.datetime(2020, 10, 21, 1, 38, 18, 783062),\n",
       " datetime.datetime(2020, 10, 21, 0, 38, 18, 783062),\n",
       " datetime.datetime(2020, 10, 20, 23, 38, 18, 783062),\n",
       " datetime.datetime(2020, 10, 20, 22, 38, 18, 783062),\n",
       " datetime.datetime(2020, 10, 20, 21, 38, 18, 783062),\n",
       " datetime.datetime(2020, 10, 20, 20, 38, 18, 783062),\n",
       " datetime.datetime(2020, 10, 20, 19, 38, 18, 783062),\n",
       " datetime.datetime(2020, 10, 20, 18, 38, 18, 783062),\n",
       " datetime.datetime(2020, 10, 20, 17, 38, 18, 783062),\n",
       " datetime.datetime(2020, 10, 20, 16, 38, 18, 783062),\n",
       " datetime.datetime(2020, 10, 20, 15, 38, 18, 783062),\n",
       " datetime.datetime(2020, 10, 20, 14, 38, 18, 783062),\n",
       " datetime.datetime(2020, 10, 20, 13, 38, 18, 783062),\n",
       " datetime.datetime(2020, 10, 20, 12, 38, 18, 783062)]"
      ]
     },
     "execution_count": 3,
     "metadata": {},
     "output_type": "execute_result"
    }
   ],
   "source": [
    "numdays = 7\n",
    "# Set the base url as today\n",
    "base = datetime.datetime.today()\n",
    "# Make new times by subracting an hour at a time.\n",
    "dts = [base - datetime.timedelta(hours = h) for h in range(0, numdays*24)]\n",
    "dts"
   ]
  },
  {
   "cell_type": "markdown",
   "metadata": {},
   "source": [
    "## Outputing the time in a specific format.\n",
    "\n",
    "* datetime objects have a `strftime` method for outputing formatted dates\n",
    "    * `%Y` is the year in 4 digits\n",
    "    * `%m` is the month in 2 digits\n",
    "    * etc.\n",
    "* See [this site](https://docs.python.org/3/library/datetime.html#strftime-strptime-behavior) for more information."
   ]
  },
  {
   "cell_type": "code",
   "execution_count": 4,
   "metadata": {},
   "outputs": [
    {
     "data": {
      "text/plain": [
       "'http://www.thecurrent.org/playlist/2000-01-01/01'"
      ]
     },
     "execution_count": 4,
     "metadata": {},
     "output_type": "execute_result"
    }
   ],
   "source": [
    "fmt = 'http://www.thecurrent.org/playlist/%Y-%m-%d/%H'\n",
    "\n",
    "date = datetime.datetime(2000,1,1,1)\n",
    "date.strftime(fmt)"
   ]
  },
  {
   "cell_type": "markdown",
   "metadata": {},
   "source": [
    "## Let's make some functions"
   ]
  },
  {
   "cell_type": "code",
   "execution_count": 5,
   "metadata": {},
   "outputs": [],
   "source": [
    "def output_address(dt):\n",
    "    fmt = 'http://www.thecurrent.org/playlist/%Y-%m-%d/%H'\n",
    "    return dt.strftime(fmt)\n",
    "\n",
    "def test_output_address():\n",
    "    date = datetime.datetime(2000,1,1,1)\n",
    "    assert output_address(date) == 'http://www.thecurrent.org/playlist/2000-01-01/01'\n",
    "test_output_address()"
   ]
  },
  {
   "cell_type": "code",
   "execution_count": 6,
   "metadata": {},
   "outputs": [
    {
     "data": {
      "text/plain": [
       "['http://www.thecurrent.org/playlist/2020-10-27/11',\n",
       " 'http://www.thecurrent.org/playlist/2020-10-27/10',\n",
       " 'http://www.thecurrent.org/playlist/2020-10-27/09',\n",
       " 'http://www.thecurrent.org/playlist/2020-10-27/08',\n",
       " 'http://www.thecurrent.org/playlist/2020-10-27/07',\n",
       " 'http://www.thecurrent.org/playlist/2020-10-27/06',\n",
       " 'http://www.thecurrent.org/playlist/2020-10-27/05',\n",
       " 'http://www.thecurrent.org/playlist/2020-10-27/04',\n",
       " 'http://www.thecurrent.org/playlist/2020-10-27/03',\n",
       " 'http://www.thecurrent.org/playlist/2020-10-27/02']"
      ]
     },
     "execution_count": 6,
     "metadata": {},
     "output_type": "execute_result"
    }
   ],
   "source": [
    "urls = [output_address(d) for d in dts]\n",
    "urls[:10]"
   ]
  },
  {
   "cell_type": "code",
   "execution_count": 7,
   "metadata": {},
   "outputs": [
    {
     "name": "stdout",
     "output_type": "stream",
     "text": [
      "Starting http://www.thecurrent.org/playlist/2020-10-27/11 urls\n",
      "Starting http://www.thecurrent.org/playlist/2020-10-27/10 urls\n",
      "Starting http://www.thecurrent.org/playlist/2020-10-27/09 urls\n",
      "Starting http://www.thecurrent.org/playlist/2020-10-27/08 urls\n",
      "Starting http://www.thecurrent.org/playlist/2020-10-27/07 urls\n"
     ]
    },
    {
     "ename": "KeyboardInterrupt",
     "evalue": "",
     "output_type": "error",
     "traceback": [
      "\u001b[0;31m---------------------------------------------------------------------------\u001b[0m",
      "\u001b[0;31mKeyboardInterrupt\u001b[0m                         Traceback (most recent call last)",
      "\u001b[0;32m<ipython-input-7-1ccb81da14f9>\u001b[0m in \u001b[0;36m<module>\u001b[0;34m\u001b[0m\n\u001b[0;32m----> 1\u001b[0;31m \u001b[0minfo_lists\u001b[0m \u001b[0;34m=\u001b[0m \u001b[0;34m[\u001b[0m\u001b[0mget_song_info\u001b[0m\u001b[0;34m(\u001b[0m\u001b[0murl\u001b[0m\u001b[0;34m)\u001b[0m \u001b[0;32mfor\u001b[0m \u001b[0murl\u001b[0m \u001b[0;32min\u001b[0m \u001b[0murls\u001b[0m\u001b[0;34m]\u001b[0m\u001b[0;34m\u001b[0m\u001b[0;34m\u001b[0m\u001b[0m\n\u001b[0m\u001b[1;32m      2\u001b[0m \u001b[0mflat_info\u001b[0m \u001b[0;34m=\u001b[0m \u001b[0;34m[\u001b[0m\u001b[0mrow\u001b[0m \u001b[0;32mfor\u001b[0m \u001b[0minfo_list\u001b[0m \u001b[0;32min\u001b[0m \u001b[0minfo_lists\u001b[0m \u001b[0;32mfor\u001b[0m \u001b[0mrow\u001b[0m \u001b[0;32min\u001b[0m \u001b[0minfo_list\u001b[0m\u001b[0;34m]\u001b[0m\u001b[0;34m\u001b[0m\u001b[0;34m\u001b[0m\u001b[0m\n\u001b[1;32m      3\u001b[0m \u001b[0mlines\u001b[0m \u001b[0;34m=\u001b[0m \u001b[0;34m[\u001b[0m\u001b[0;34m\",\"\u001b[0m\u001b[0;34m.\u001b[0m\u001b[0mjoin\u001b[0m\u001b[0;34m(\u001b[0m\u001b[0mrow\u001b[0m\u001b[0;34m)\u001b[0m \u001b[0;32mfor\u001b[0m \u001b[0mrow\u001b[0m \u001b[0;32min\u001b[0m \u001b[0mflat_info\u001b[0m\u001b[0;34m]\u001b[0m\u001b[0;34m\u001b[0m\u001b[0;34m\u001b[0m\u001b[0m\n\u001b[1;32m      4\u001b[0m \u001b[0;34m\u001b[0m\u001b[0m\n\u001b[1;32m      5\u001b[0m \u001b[0;32mwith\u001b[0m \u001b[0mopen\u001b[0m\u001b[0;34m(\u001b[0m\u001b[0;34m'the_current_last_year.csv'\u001b[0m\u001b[0;34m,\u001b[0m \u001b[0;34m'w'\u001b[0m\u001b[0;34m)\u001b[0m \u001b[0;32mas\u001b[0m \u001b[0moutfile\u001b[0m\u001b[0;34m:\u001b[0m\u001b[0;34m\u001b[0m\u001b[0;34m\u001b[0m\u001b[0m\n",
      "\u001b[0;32m<ipython-input-7-1ccb81da14f9>\u001b[0m in \u001b[0;36m<listcomp>\u001b[0;34m(.0)\u001b[0m\n\u001b[0;32m----> 1\u001b[0;31m \u001b[0minfo_lists\u001b[0m \u001b[0;34m=\u001b[0m \u001b[0;34m[\u001b[0m\u001b[0mget_song_info\u001b[0m\u001b[0;34m(\u001b[0m\u001b[0murl\u001b[0m\u001b[0;34m)\u001b[0m \u001b[0;32mfor\u001b[0m \u001b[0murl\u001b[0m \u001b[0;32min\u001b[0m \u001b[0murls\u001b[0m\u001b[0;34m]\u001b[0m\u001b[0;34m\u001b[0m\u001b[0;34m\u001b[0m\u001b[0m\n\u001b[0m\u001b[1;32m      2\u001b[0m \u001b[0mflat_info\u001b[0m \u001b[0;34m=\u001b[0m \u001b[0;34m[\u001b[0m\u001b[0mrow\u001b[0m \u001b[0;32mfor\u001b[0m \u001b[0minfo_list\u001b[0m \u001b[0;32min\u001b[0m \u001b[0minfo_lists\u001b[0m \u001b[0;32mfor\u001b[0m \u001b[0mrow\u001b[0m \u001b[0;32min\u001b[0m \u001b[0minfo_list\u001b[0m\u001b[0;34m]\u001b[0m\u001b[0;34m\u001b[0m\u001b[0;34m\u001b[0m\u001b[0m\n\u001b[1;32m      3\u001b[0m \u001b[0mlines\u001b[0m \u001b[0;34m=\u001b[0m \u001b[0;34m[\u001b[0m\u001b[0;34m\",\"\u001b[0m\u001b[0;34m.\u001b[0m\u001b[0mjoin\u001b[0m\u001b[0;34m(\u001b[0m\u001b[0mrow\u001b[0m\u001b[0;34m)\u001b[0m \u001b[0;32mfor\u001b[0m \u001b[0mrow\u001b[0m \u001b[0;32min\u001b[0m \u001b[0mflat_info\u001b[0m\u001b[0;34m]\u001b[0m\u001b[0;34m\u001b[0m\u001b[0;34m\u001b[0m\u001b[0m\n\u001b[1;32m      4\u001b[0m \u001b[0;34m\u001b[0m\u001b[0m\n\u001b[1;32m      5\u001b[0m \u001b[0;32mwith\u001b[0m \u001b[0mopen\u001b[0m\u001b[0;34m(\u001b[0m\u001b[0;34m'the_current_last_year.csv'\u001b[0m\u001b[0;34m,\u001b[0m \u001b[0;34m'w'\u001b[0m\u001b[0;34m)\u001b[0m \u001b[0;32mas\u001b[0m \u001b[0moutfile\u001b[0m\u001b[0;34m:\u001b[0m\u001b[0;34m\u001b[0m\u001b[0;34m\u001b[0m\u001b[0m\n",
      "\u001b[0;32m<ipython-input-2-5df1d77b9f70>\u001b[0m in \u001b[0;36mget_song_info\u001b[0;34m(url)\u001b[0m\n\u001b[1;32m     24\u001b[0m     \u001b[0mperiod\u001b[0m \u001b[0;34m=\u001b[0m \u001b[0mget_period\u001b[0m\u001b[0;34m(\u001b[0m\u001b[0msoup\u001b[0m\u001b[0;34m)\u001b[0m\u001b[0;34m\u001b[0m\u001b[0;34m\u001b[0m\u001b[0m\n\u001b[1;32m     25\u001b[0m     \u001b[0mday_of_week\u001b[0m \u001b[0;34m=\u001b[0m \u001b[0mget_day\u001b[0m\u001b[0;34m(\u001b[0m\u001b[0msoup\u001b[0m\u001b[0;34m)\u001b[0m\u001b[0;34m\u001b[0m\u001b[0;34m\u001b[0m\u001b[0m\n\u001b[0;32m---> 26\u001b[0;31m     \u001b[0msoup\u001b[0m \u001b[0;34m=\u001b[0m \u001b[0mBeautifulSoup\u001b[0m\u001b[0;34m(\u001b[0m\u001b[0mr\u001b[0m\u001b[0;34m.\u001b[0m\u001b[0mcontent\u001b[0m\u001b[0;34m)\u001b[0m\u001b[0;34m\u001b[0m\u001b[0;34m\u001b[0m\u001b[0m\n\u001b[0m\u001b[1;32m     27\u001b[0m     \u001b[0mtitles\u001b[0m \u001b[0;34m=\u001b[0m \u001b[0;34m[\u001b[0m\u001b[0mt\u001b[0m\u001b[0;34m.\u001b[0m\u001b[0mnext\u001b[0m\u001b[0;34m.\u001b[0m\u001b[0mstrip\u001b[0m\u001b[0;34m(\u001b[0m\u001b[0;34m)\u001b[0m \u001b[0;32mfor\u001b[0m \u001b[0mt\u001b[0m \u001b[0;32min\u001b[0m \u001b[0msoup\u001b[0m\u001b[0;34m.\u001b[0m\u001b[0mfindAll\u001b[0m\u001b[0;34m(\u001b[0m\u001b[0;34m'h5'\u001b[0m\u001b[0;34m,\u001b[0m \u001b[0mclass_\u001b[0m\u001b[0;34m=\u001b[0m\u001b[0;34m\"title\"\u001b[0m\u001b[0;34m)\u001b[0m\u001b[0;34m]\u001b[0m\u001b[0;34m\u001b[0m\u001b[0;34m\u001b[0m\u001b[0m\n\u001b[1;32m     28\u001b[0m     \u001b[0martists\u001b[0m \u001b[0;34m=\u001b[0m \u001b[0;34m[\u001b[0m\u001b[0ma\u001b[0m\u001b[0;34m.\u001b[0m\u001b[0mnext\u001b[0m\u001b[0;34m.\u001b[0m\u001b[0mstrip\u001b[0m\u001b[0;34m(\u001b[0m\u001b[0;34m)\u001b[0m \u001b[0;32mfor\u001b[0m \u001b[0ma\u001b[0m \u001b[0;32min\u001b[0m \u001b[0msoup\u001b[0m\u001b[0;34m.\u001b[0m\u001b[0mfindAll\u001b[0m\u001b[0;34m(\u001b[0m\u001b[0;34m'h5'\u001b[0m\u001b[0;34m,\u001b[0m\u001b[0mclass_\u001b[0m\u001b[0;34m=\u001b[0m\u001b[0;34m'artist'\u001b[0m\u001b[0;34m)\u001b[0m\u001b[0;34m]\u001b[0m\u001b[0;34m\u001b[0m\u001b[0;34m\u001b[0m\u001b[0m\n",
      "\u001b[0;32m~/.pyenv/versions/anaconda3-2020.02/lib/python3.7/site-packages/bs4/__init__.py\u001b[0m in \u001b[0;36m__init__\u001b[0;34m(self, markup, features, builder, parse_only, from_encoding, exclude_encodings, element_classes, **kwargs)\u001b[0m\n\u001b[1;32m    343\u001b[0m          \u001b[0mself\u001b[0m\u001b[0;34m.\u001b[0m\u001b[0mcontains_replacement_characters\u001b[0m\u001b[0;34m)\u001b[0m \u001b[0;32min\u001b[0m \u001b[0;34m(\u001b[0m\u001b[0;34m\u001b[0m\u001b[0;34m\u001b[0m\u001b[0m\n\u001b[1;32m    344\u001b[0m              self.builder.prepare_markup(\n\u001b[0;32m--> 345\u001b[0;31m                  markup, from_encoding, exclude_encodings=exclude_encodings)):\n\u001b[0m\u001b[1;32m    346\u001b[0m             \u001b[0mself\u001b[0m\u001b[0;34m.\u001b[0m\u001b[0mreset\u001b[0m\u001b[0;34m(\u001b[0m\u001b[0;34m)\u001b[0m\u001b[0;34m\u001b[0m\u001b[0;34m\u001b[0m\u001b[0m\n\u001b[1;32m    347\u001b[0m             \u001b[0;32mtry\u001b[0m\u001b[0;34m:\u001b[0m\u001b[0;34m\u001b[0m\u001b[0;34m\u001b[0m\u001b[0m\n",
      "\u001b[0;32m~/.pyenv/versions/anaconda3-2020.02/lib/python3.7/site-packages/bs4/builder/_lxml.py\u001b[0m in \u001b[0;36mprepare_markup\u001b[0;34m(self, markup, user_specified_encoding, exclude_encodings, document_declared_encoding)\u001b[0m\n\u001b[1;32m    184\u001b[0m         detector = EncodingDetector(\n\u001b[1;32m    185\u001b[0m             markup, try_encodings, is_html, exclude_encodings)\n\u001b[0;32m--> 186\u001b[0;31m         \u001b[0;32mfor\u001b[0m \u001b[0mencoding\u001b[0m \u001b[0;32min\u001b[0m \u001b[0mdetector\u001b[0m\u001b[0;34m.\u001b[0m\u001b[0mencodings\u001b[0m\u001b[0;34m:\u001b[0m\u001b[0;34m\u001b[0m\u001b[0;34m\u001b[0m\u001b[0m\n\u001b[0m\u001b[1;32m    187\u001b[0m             \u001b[0;32myield\u001b[0m \u001b[0;34m(\u001b[0m\u001b[0mdetector\u001b[0m\u001b[0;34m.\u001b[0m\u001b[0mmarkup\u001b[0m\u001b[0;34m,\u001b[0m \u001b[0mencoding\u001b[0m\u001b[0;34m,\u001b[0m \u001b[0mdocument_declared_encoding\u001b[0m\u001b[0;34m,\u001b[0m \u001b[0;32mFalse\u001b[0m\u001b[0;34m)\u001b[0m\u001b[0;34m\u001b[0m\u001b[0;34m\u001b[0m\u001b[0m\n\u001b[1;32m    188\u001b[0m \u001b[0;34m\u001b[0m\u001b[0m\n",
      "\u001b[0;32m~/.pyenv/versions/anaconda3-2020.02/lib/python3.7/site-packages/bs4/dammit.py\u001b[0m in \u001b[0;36mencodings\u001b[0;34m(self)\u001b[0m\n\u001b[1;32m    307\u001b[0m         \u001b[0;31m# encoding.\u001b[0m\u001b[0;34m\u001b[0m\u001b[0;34m\u001b[0m\u001b[0;34m\u001b[0m\u001b[0m\n\u001b[1;32m    308\u001b[0m         \u001b[0;32mif\u001b[0m \u001b[0mself\u001b[0m\u001b[0;34m.\u001b[0m\u001b[0mchardet_encoding\u001b[0m \u001b[0;32mis\u001b[0m \u001b[0;32mNone\u001b[0m\u001b[0;34m:\u001b[0m\u001b[0;34m\u001b[0m\u001b[0;34m\u001b[0m\u001b[0m\n\u001b[0;32m--> 309\u001b[0;31m             \u001b[0mself\u001b[0m\u001b[0;34m.\u001b[0m\u001b[0mchardet_encoding\u001b[0m \u001b[0;34m=\u001b[0m \u001b[0mchardet_dammit\u001b[0m\u001b[0;34m(\u001b[0m\u001b[0mself\u001b[0m\u001b[0;34m.\u001b[0m\u001b[0mmarkup\u001b[0m\u001b[0;34m)\u001b[0m\u001b[0;34m\u001b[0m\u001b[0;34m\u001b[0m\u001b[0m\n\u001b[0m\u001b[1;32m    310\u001b[0m         \u001b[0;32mif\u001b[0m \u001b[0mself\u001b[0m\u001b[0;34m.\u001b[0m\u001b[0m_usable\u001b[0m\u001b[0;34m(\u001b[0m\u001b[0mself\u001b[0m\u001b[0;34m.\u001b[0m\u001b[0mchardet_encoding\u001b[0m\u001b[0;34m,\u001b[0m \u001b[0mtried\u001b[0m\u001b[0;34m)\u001b[0m\u001b[0;34m:\u001b[0m\u001b[0;34m\u001b[0m\u001b[0;34m\u001b[0m\u001b[0m\n\u001b[1;32m    311\u001b[0m             \u001b[0;32myield\u001b[0m \u001b[0mself\u001b[0m\u001b[0;34m.\u001b[0m\u001b[0mchardet_encoding\u001b[0m\u001b[0;34m\u001b[0m\u001b[0;34m\u001b[0m\u001b[0m\n",
      "\u001b[0;32m~/.pyenv/versions/anaconda3-2020.02/lib/python3.7/site-packages/bs4/dammit.py\u001b[0m in \u001b[0;36mchardet_dammit\u001b[0;34m(s)\u001b[0m\n\u001b[1;32m     35\u001b[0m             \u001b[0;32mif\u001b[0m \u001b[0misinstance\u001b[0m\u001b[0;34m(\u001b[0m\u001b[0ms\u001b[0m\u001b[0;34m,\u001b[0m \u001b[0mstr\u001b[0m\u001b[0;34m)\u001b[0m\u001b[0;34m:\u001b[0m\u001b[0;34m\u001b[0m\u001b[0;34m\u001b[0m\u001b[0m\n\u001b[1;32m     36\u001b[0m                 \u001b[0;32mreturn\u001b[0m \u001b[0;32mNone\u001b[0m\u001b[0;34m\u001b[0m\u001b[0;34m\u001b[0m\u001b[0m\n\u001b[0;32m---> 37\u001b[0;31m             \u001b[0;32mreturn\u001b[0m \u001b[0mchardet\u001b[0m\u001b[0;34m.\u001b[0m\u001b[0mdetect\u001b[0m\u001b[0;34m(\u001b[0m\u001b[0ms\u001b[0m\u001b[0;34m)\u001b[0m\u001b[0;34m[\u001b[0m\u001b[0;34m'encoding'\u001b[0m\u001b[0;34m]\u001b[0m\u001b[0;34m\u001b[0m\u001b[0;34m\u001b[0m\u001b[0m\n\u001b[0m\u001b[1;32m     38\u001b[0m         \u001b[0;31m#import chardet.constants\u001b[0m\u001b[0;34m\u001b[0m\u001b[0;34m\u001b[0m\u001b[0;34m\u001b[0m\u001b[0m\n\u001b[1;32m     39\u001b[0m         \u001b[0;31m#chardet.constants._debug = 1\u001b[0m\u001b[0;34m\u001b[0m\u001b[0;34m\u001b[0m\u001b[0;34m\u001b[0m\u001b[0m\n",
      "\u001b[0;32m~/.pyenv/versions/anaconda3-2020.02/lib/python3.7/site-packages/chardet/__init__.py\u001b[0m in \u001b[0;36mdetect\u001b[0;34m(byte_str)\u001b[0m\n\u001b[1;32m     36\u001b[0m             \u001b[0mbyte_str\u001b[0m \u001b[0;34m=\u001b[0m \u001b[0mbytearray\u001b[0m\u001b[0;34m(\u001b[0m\u001b[0mbyte_str\u001b[0m\u001b[0;34m)\u001b[0m\u001b[0;34m\u001b[0m\u001b[0;34m\u001b[0m\u001b[0m\n\u001b[1;32m     37\u001b[0m     \u001b[0mdetector\u001b[0m \u001b[0;34m=\u001b[0m \u001b[0mUniversalDetector\u001b[0m\u001b[0;34m(\u001b[0m\u001b[0;34m)\u001b[0m\u001b[0;34m\u001b[0m\u001b[0;34m\u001b[0m\u001b[0m\n\u001b[0;32m---> 38\u001b[0;31m     \u001b[0mdetector\u001b[0m\u001b[0;34m.\u001b[0m\u001b[0mfeed\u001b[0m\u001b[0;34m(\u001b[0m\u001b[0mbyte_str\u001b[0m\u001b[0;34m)\u001b[0m\u001b[0;34m\u001b[0m\u001b[0;34m\u001b[0m\u001b[0m\n\u001b[0m\u001b[1;32m     39\u001b[0m     \u001b[0;32mreturn\u001b[0m \u001b[0mdetector\u001b[0m\u001b[0;34m.\u001b[0m\u001b[0mclose\u001b[0m\u001b[0;34m(\u001b[0m\u001b[0;34m)\u001b[0m\u001b[0;34m\u001b[0m\u001b[0;34m\u001b[0m\u001b[0m\n",
      "\u001b[0;32m~/.pyenv/versions/anaconda3-2020.02/lib/python3.7/site-packages/chardet/universaldetector.py\u001b[0m in \u001b[0;36mfeed\u001b[0;34m(self, byte_str)\u001b[0m\n\u001b[1;32m    209\u001b[0m                 \u001b[0mself\u001b[0m\u001b[0;34m.\u001b[0m\u001b[0m_charset_probers\u001b[0m\u001b[0;34m.\u001b[0m\u001b[0mappend\u001b[0m\u001b[0;34m(\u001b[0m\u001b[0mLatin1Prober\u001b[0m\u001b[0;34m(\u001b[0m\u001b[0;34m)\u001b[0m\u001b[0;34m)\u001b[0m\u001b[0;34m\u001b[0m\u001b[0;34m\u001b[0m\u001b[0m\n\u001b[1;32m    210\u001b[0m             \u001b[0;32mfor\u001b[0m \u001b[0mprober\u001b[0m \u001b[0;32min\u001b[0m \u001b[0mself\u001b[0m\u001b[0;34m.\u001b[0m\u001b[0m_charset_probers\u001b[0m\u001b[0;34m:\u001b[0m\u001b[0;34m\u001b[0m\u001b[0;34m\u001b[0m\u001b[0m\n\u001b[0;32m--> 211\u001b[0;31m                 \u001b[0;32mif\u001b[0m \u001b[0mprober\u001b[0m\u001b[0;34m.\u001b[0m\u001b[0mfeed\u001b[0m\u001b[0;34m(\u001b[0m\u001b[0mbyte_str\u001b[0m\u001b[0;34m)\u001b[0m \u001b[0;34m==\u001b[0m \u001b[0mProbingState\u001b[0m\u001b[0;34m.\u001b[0m\u001b[0mFOUND_IT\u001b[0m\u001b[0;34m:\u001b[0m\u001b[0;34m\u001b[0m\u001b[0;34m\u001b[0m\u001b[0m\n\u001b[0m\u001b[1;32m    212\u001b[0m                     self.result = {'encoding': prober.charset_name,\n\u001b[1;32m    213\u001b[0m                                    \u001b[0;34m'confidence'\u001b[0m\u001b[0;34m:\u001b[0m \u001b[0mprober\u001b[0m\u001b[0;34m.\u001b[0m\u001b[0mget_confidence\u001b[0m\u001b[0;34m(\u001b[0m\u001b[0;34m)\u001b[0m\u001b[0;34m,\u001b[0m\u001b[0;34m\u001b[0m\u001b[0;34m\u001b[0m\u001b[0m\n",
      "\u001b[0;32m~/.pyenv/versions/anaconda3-2020.02/lib/python3.7/site-packages/chardet/charsetgroupprober.py\u001b[0m in \u001b[0;36mfeed\u001b[0;34m(self, byte_str)\u001b[0m\n\u001b[1;32m     69\u001b[0m             \u001b[0;32mif\u001b[0m \u001b[0;32mnot\u001b[0m \u001b[0mprober\u001b[0m\u001b[0;34m.\u001b[0m\u001b[0mactive\u001b[0m\u001b[0;34m:\u001b[0m\u001b[0;34m\u001b[0m\u001b[0;34m\u001b[0m\u001b[0m\n\u001b[1;32m     70\u001b[0m                 \u001b[0;32mcontinue\u001b[0m\u001b[0;34m\u001b[0m\u001b[0;34m\u001b[0m\u001b[0m\n\u001b[0;32m---> 71\u001b[0;31m             \u001b[0mstate\u001b[0m \u001b[0;34m=\u001b[0m \u001b[0mprober\u001b[0m\u001b[0;34m.\u001b[0m\u001b[0mfeed\u001b[0m\u001b[0;34m(\u001b[0m\u001b[0mbyte_str\u001b[0m\u001b[0;34m)\u001b[0m\u001b[0;34m\u001b[0m\u001b[0;34m\u001b[0m\u001b[0m\n\u001b[0m\u001b[1;32m     72\u001b[0m             \u001b[0;32mif\u001b[0m \u001b[0;32mnot\u001b[0m \u001b[0mstate\u001b[0m\u001b[0;34m:\u001b[0m\u001b[0;34m\u001b[0m\u001b[0;34m\u001b[0m\u001b[0m\n\u001b[1;32m     73\u001b[0m                 \u001b[0;32mcontinue\u001b[0m\u001b[0;34m\u001b[0m\u001b[0;34m\u001b[0m\u001b[0m\n",
      "\u001b[0;32m~/.pyenv/versions/anaconda3-2020.02/lib/python3.7/site-packages/chardet/utf8prober.py\u001b[0m in \u001b[0;36mfeed\u001b[0;34m(self, byte_str)\u001b[0m\n\u001b[1;32m     57\u001b[0m     \u001b[0;32mdef\u001b[0m \u001b[0mfeed\u001b[0m\u001b[0;34m(\u001b[0m\u001b[0mself\u001b[0m\u001b[0;34m,\u001b[0m \u001b[0mbyte_str\u001b[0m\u001b[0;34m)\u001b[0m\u001b[0;34m:\u001b[0m\u001b[0;34m\u001b[0m\u001b[0;34m\u001b[0m\u001b[0m\n\u001b[1;32m     58\u001b[0m         \u001b[0;32mfor\u001b[0m \u001b[0mc\u001b[0m \u001b[0;32min\u001b[0m \u001b[0mbyte_str\u001b[0m\u001b[0;34m:\u001b[0m\u001b[0;34m\u001b[0m\u001b[0;34m\u001b[0m\u001b[0m\n\u001b[0;32m---> 59\u001b[0;31m             \u001b[0mcoding_state\u001b[0m \u001b[0;34m=\u001b[0m \u001b[0mself\u001b[0m\u001b[0;34m.\u001b[0m\u001b[0mcoding_sm\u001b[0m\u001b[0;34m.\u001b[0m\u001b[0mnext_state\u001b[0m\u001b[0;34m(\u001b[0m\u001b[0mc\u001b[0m\u001b[0;34m)\u001b[0m\u001b[0;34m\u001b[0m\u001b[0;34m\u001b[0m\u001b[0m\n\u001b[0m\u001b[1;32m     60\u001b[0m             \u001b[0;32mif\u001b[0m \u001b[0mcoding_state\u001b[0m \u001b[0;34m==\u001b[0m \u001b[0mMachineState\u001b[0m\u001b[0;34m.\u001b[0m\u001b[0mERROR\u001b[0m\u001b[0;34m:\u001b[0m\u001b[0;34m\u001b[0m\u001b[0;34m\u001b[0m\u001b[0m\n\u001b[1;32m     61\u001b[0m                 \u001b[0mself\u001b[0m\u001b[0;34m.\u001b[0m\u001b[0m_state\u001b[0m \u001b[0;34m=\u001b[0m \u001b[0mProbingState\u001b[0m\u001b[0;34m.\u001b[0m\u001b[0mNOT_ME\u001b[0m\u001b[0;34m\u001b[0m\u001b[0;34m\u001b[0m\u001b[0m\n",
      "\u001b[0;32m~/.pyenv/versions/anaconda3-2020.02/lib/python3.7/site-packages/chardet/codingstatemachine.py\u001b[0m in \u001b[0;36mnext_state\u001b[0;34m(self, c)\u001b[0m\n\u001b[1;32m     72\u001b[0m             \u001b[0mself\u001b[0m\u001b[0;34m.\u001b[0m\u001b[0m_curr_char_len\u001b[0m \u001b[0;34m=\u001b[0m \u001b[0mself\u001b[0m\u001b[0;34m.\u001b[0m\u001b[0m_model\u001b[0m\u001b[0;34m[\u001b[0m\u001b[0;34m'char_len_table'\u001b[0m\u001b[0;34m]\u001b[0m\u001b[0;34m[\u001b[0m\u001b[0mbyte_class\u001b[0m\u001b[0;34m]\u001b[0m\u001b[0;34m\u001b[0m\u001b[0;34m\u001b[0m\u001b[0m\n\u001b[1;32m     73\u001b[0m         \u001b[0;31m# from byte's class and state_table, we get its next state\u001b[0m\u001b[0;34m\u001b[0m\u001b[0;34m\u001b[0m\u001b[0;34m\u001b[0m\u001b[0m\n\u001b[0;32m---> 74\u001b[0;31m         curr_state = (self._curr_state * self._model['class_factor']\n\u001b[0m\u001b[1;32m     75\u001b[0m                       + byte_class)\n\u001b[1;32m     76\u001b[0m         \u001b[0mself\u001b[0m\u001b[0;34m.\u001b[0m\u001b[0m_curr_state\u001b[0m \u001b[0;34m=\u001b[0m \u001b[0mself\u001b[0m\u001b[0;34m.\u001b[0m\u001b[0m_model\u001b[0m\u001b[0;34m[\u001b[0m\u001b[0;34m'state_table'\u001b[0m\u001b[0;34m]\u001b[0m\u001b[0;34m[\u001b[0m\u001b[0mcurr_state\u001b[0m\u001b[0;34m]\u001b[0m\u001b[0;34m\u001b[0m\u001b[0;34m\u001b[0m\u001b[0m\n",
      "\u001b[0;31mKeyboardInterrupt\u001b[0m: "
     ]
    }
   ],
   "source": [
    "\n",
    "info_lists = [get_song_info(url) for url in urls]\n",
    "flat_info = [row for info_list in info_lists for row in info_list]\n",
    "lines = [\",\".join(row) for row in flat_info]\n",
    "\n",
    "with open('the_current_last_year.csv', 'w') as outfile:\n",
    "    header = \"Weekday,Date,Time,Period,Song_Title,Artist\"\n",
    "    print(header, file=outfile)\n",
    "    count = 0\n",
    "    for url in urls:\n",
    "        for line in lines:\n",
    "            count += 1\n",
    "            if count % 5 == 0:\n",
    "                print(\"Processed {0} songs\".format(count))\n",
    "            print(line, file=outfile)"
   ]
  },
  {
   "cell_type": "code",
   "execution_count": null,
   "metadata": {
    "scrolled": true
   },
   "outputs": [],
   "source": []
  },
  {
   "cell_type": "code",
   "execution_count": null,
   "metadata": {
    "collapsed": true
   },
   "outputs": [],
   "source": []
  }
 ],
 "metadata": {
  "anaconda-cloud": {},
  "kernelspec": {
   "display_name": "Python 3",
   "language": "python",
   "name": "python3"
  },
  "language_info": {
   "codemirror_mode": {
    "name": "ipython",
    "version": 3
   },
   "file_extension": ".py",
   "mimetype": "text/x-python",
   "name": "python",
   "nbconvert_exporter": "python",
   "pygments_lexer": "ipython3",
   "version": "3.7.6"
  }
 },
 "nbformat": 4,
 "nbformat_minor": 1
}
