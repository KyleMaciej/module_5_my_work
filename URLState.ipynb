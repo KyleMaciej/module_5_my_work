{
 "cells": [
  {
   "cell_type": "code",
   "execution_count": 1,
   "metadata": {},
   "outputs": [],
   "source": [
    "from composablesoup import find, find_all, get_text, has_attr\n",
    "from composable.sequence import slice, head\n",
    "from composable.strict import map, filter\n",
    "from composable.string import replace, split\n",
    "from composable import from_toolz as tlz\n",
    "from composable import pipeable"
   ]
  },
  {
   "cell_type": "code",
   "execution_count": 3,
   "metadata": {},
   "outputs": [],
   "source": [
    "import requests\n",
    "from bs4 import BeautifulSoup\n",
    "s = requests.Session()\n",
    "r = s.get('https://electproject.github.io/Early-Vote-2020G/index.html')\n",
    "election = BeautifulSoup(r.content, \"html.parser\")"
   ]
  },
  {
   "cell_type": "code",
   "execution_count": 15,
   "metadata": {},
   "outputs": [
    {
     "data": {
      "text/plain": [
       "['https://electproject.github.io/Early-Vote-2020G/AK.html',\n",
       " 'https://electproject.github.io/Early-Vote-2020G/AL.html',\n",
       " 'https://electproject.github.io/Early-Vote-2020G/AR.html',\n",
       " 'https://electproject.github.io/Early-Vote-2020G/AZ.html',\n",
       " 'https://electproject.github.io/Early-Vote-2020G/CA.html',\n",
       " 'https://electproject.github.io/Early-Vote-2020G/CO.html',\n",
       " 'https://electproject.github.io/Early-Vote-2020G/CT.html',\n",
       " 'https://electproject.github.io/Early-Vote-2020G/DC.html',\n",
       " 'https://electproject.github.io/Early-Vote-2020G/DE.html',\n",
       " 'https://electproject.github.io/Early-Vote-2020G/FL.html',\n",
       " 'https://electproject.github.io/Early-Vote-2020G/GA.html',\n",
       " 'https://electproject.github.io/Early-Vote-2020G/HI.html',\n",
       " 'https://electproject.github.io/Early-Vote-2020G/IA.html',\n",
       " 'https://electproject.github.io/Early-Vote-2020G/ID.html',\n",
       " 'https://electproject.github.io/Early-Vote-2020G/IL.html',\n",
       " 'https://electproject.github.io/Early-Vote-2020G/IN.html',\n",
       " 'https://electproject.github.io/Early-Vote-2020G/KS.html',\n",
       " 'https://electproject.github.io/Early-Vote-2020G/KY.html',\n",
       " 'https://electproject.github.io/Early-Vote-2020G/LA.html',\n",
       " 'https://electproject.github.io/Early-Vote-2020G/MA.html',\n",
       " 'https://electproject.github.io/Early-Vote-2020G/MD.html',\n",
       " 'https://electproject.github.io/Early-Vote-2020G/ME.html',\n",
       " 'https://electproject.github.io/Early-Vote-2020G/MI.html',\n",
       " 'https://electproject.github.io/Early-Vote-2020G/MN.html',\n",
       " 'https://electproject.github.io/Early-Vote-2020G/MO.html',\n",
       " 'https://electproject.github.io/Early-Vote-2020G/MS.html',\n",
       " 'https://electproject.github.io/Early-Vote-2020G/MT.html',\n",
       " 'https://electproject.github.io/Early-Vote-2020G/NC.html',\n",
       " 'https://electproject.github.io/Early-Vote-2020G/ND.html',\n",
       " 'https://electproject.github.io/Early-Vote-2020G/NE.html',\n",
       " 'https://electproject.github.io/Early-Vote-2020G/NH.html',\n",
       " 'https://electproject.github.io/Early-Vote-2020G/NJ.html',\n",
       " 'https://electproject.github.io/Early-Vote-2020G/NM.html',\n",
       " 'https://electproject.github.io/Early-Vote-2020G/NV.html',\n",
       " 'https://electproject.github.io/Early-Vote-2020G/NY.html',\n",
       " 'https://electproject.github.io/Early-Vote-2020G/OH.html',\n",
       " 'https://electproject.github.io/Early-Vote-2020G/OK.html',\n",
       " 'https://electproject.github.io/Early-Vote-2020G/OR.html',\n",
       " 'https://electproject.github.io/Early-Vote-2020G/PA.html',\n",
       " 'https://electproject.github.io/Early-Vote-2020G/RI.html',\n",
       " 'https://electproject.github.io/Early-Vote-2020G/SC.html',\n",
       " 'https://electproject.github.io/Early-Vote-2020G/SD.html',\n",
       " 'https://electproject.github.io/Early-Vote-2020G/TN.html',\n",
       " 'https://electproject.github.io/Early-Vote-2020G/TX.html',\n",
       " 'https://electproject.github.io/Early-Vote-2020G/UT.html',\n",
       " 'https://electproject.github.io/Early-Vote-2020G/VA.html',\n",
       " 'https://electproject.github.io/Early-Vote-2020G/VT.html',\n",
       " 'https://electproject.github.io/Early-Vote-2020G/WA.html',\n",
       " 'https://electproject.github.io/Early-Vote-2020G/WI.html',\n",
       " 'https://electproject.github.io/Early-Vote-2020G/WV.html',\n",
       " 'https://electproject.github.io/Early-Vote-2020G/WY.html']"
      ]
     },
     "execution_count": 15,
     "metadata": {},
     "output_type": "execute_result"
    }
   ],
   "source": [
    "import re\n",
    "state_url = re.compile(r'Early-Vote-2020G/[A-Z]{2}\\.html')\n",
    "\n",
    "state_urls = [a['href'] for a in election.find_all('a') if state_url.search(a['href'])]\n",
    "state_urls"
   ]
  },
  {
   "cell_type": "code",
   "execution_count": 17,
   "metadata": {},
   "outputs": [],
   "source": [
    "example_state = state_urls[0]"
   ]
  }
 ],
 "metadata": {
  "kernelspec": {
   "display_name": "Python 3",
   "language": "python",
   "name": "python3"
  },
  "language_info": {
   "codemirror_mode": {
    "name": "ipython",
    "version": 3
   },
   "file_extension": ".py",
   "mimetype": "text/x-python",
   "name": "python",
   "nbconvert_exporter": "python",
   "pygments_lexer": "ipython3",
   "version": "3.7.6"
  }
 },
 "nbformat": 4,
 "nbformat_minor": 4
}
