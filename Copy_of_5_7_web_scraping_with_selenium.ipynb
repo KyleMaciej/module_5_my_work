{
  "nbformat": 4,
  "nbformat_minor": 0,
  "metadata": {
    "kernelspec": {
      "display_name": "Python 3",
      "language": "python",
      "name": "python3"
    },
    "language_info": {
      "codemirror_mode": {
        "name": "ipython",
        "version": 3
      },
      "file_extension": ".py",
      "mimetype": "text/x-python",
      "name": "python",
      "nbconvert_exporter": "python",
      "pygments_lexer": "ipython3",
      "version": "3.7.2"
    },
    "colab": {
      "name": "Copy of 5_7_web_scraping_with_selenium.ipynb",
      "provenance": [],
      "include_colab_link": true
    }
  },
  "cells": [
    {
      "cell_type": "markdown",
      "metadata": {
        "id": "view-in-github",
        "colab_type": "text"
      },
      "source": [
        "<a href=\"https://colab.research.google.com/github/KyleMaciej/module_5_my_work/blob/main/Copy_of_5_7_web_scraping_with_selenium.ipynb\" target=\"_parent\"><img src=\"https://colab.research.google.com/assets/colab-badge.svg\" alt=\"Open In Colab\"/></a>"
      ]
    },
    {
      "cell_type": "markdown",
      "metadata": {
        "id": "MUX0XHrkHa8n"
      },
      "source": [
        "# Lecture 5.7 - Web Scraping with Selenium"
      ]
    },
    {
      "cell_type": "code",
      "metadata": {
        "id": "92NMsYidHa8p"
      },
      "source": [
        "import requests\n",
        "from bs4 import BeautifulSoup\n",
        "\n",
        "s = requests.Session()\n",
        "r = s.get('https://wsu-datascience.github.io/binomial_simulation/index.html')\n",
        "binom_sim = BeautifulSoup(r.content, 'html.parser')"
      ],
      "execution_count": null,
      "outputs": []
    },
    {
      "cell_type": "code",
      "metadata": {
        "id": "VwD93ZtRHa86",
        "outputId": "9cd28072-5a9c-4b83-b25f-b1fd741b9d20",
        "colab": {
          "base_uri": "https://localhost:8080/"
        }
      },
      "source": [
        "binom_sim"
      ],
      "execution_count": null,
      "outputs": [
        {
          "output_type": "execute_result",
          "data": {
            "text/plain": [
              "<!DOCTYPE html>\n",
              "\n",
              "<html lang=\"en\">\n",
              "<head>\n",
              "<title>Binomial Simulation</title>\n",
              "</head>\n",
              "<link crossorigin=\"anonymous\" href=\"https://cdnjs.cloudflare.com/ajax/libs/KaTeX/0.7.1/katex.min.css\" integrity=\"sha384-wITovz90syo1dJWVh32uuETPVEtGigN07tkttEqPv+uR2SE/mbQcG7ATL28aI9H0\" rel=\"stylesheet\"/>\n",
              "<style>\n",
              "    /* LaTeX display environment will effect the LaTeX characters but not the layout on the page */\n",
              "    span.katex-display {\n",
              "      display: inherit; /* You may comment this out if you want the default behavior */\n",
              "    }\n",
              "  </style>\n",
              "<script crossorigin=\"anonymous\" integrity=\"sha384-/y1Nn9+QQAipbNQWU65krzJralCnuOasHncUFXGkdwntGeSvQicrYkiUBwsgUqc1\" src=\"https://cdnjs.cloudflare.com/ajax/libs/KaTeX/0.7.1/katex.min.js\"></script>\n",
              "<script crossorigin=\"anonymous\" integrity=\"sha384-dq1/gEHSxPZQ7DdrM82ID4YVol9BYyU7GbWlIwnwyPzotpoc57wDw/guX8EaYGPx\" src=\"https://cdnjs.cloudflare.com/ajax/libs/KaTeX/0.7.1/contrib/auto-render.min.js\"></script>\n",
              "<!-- These scripts link to the Vega-Lite runtime -->\n",
              "<script src=\"https://cdn.jsdelivr.net/npm/vega@3\"></script>\n",
              "<script src=\"https://cdn.jsdelivr.net/npm/vega-lite@2\"></script>\n",
              "<script src=\"https://cdn.jsdelivr.net/npm/vega-embed@3\"></script>\n",
              "<script src=\"main.js\"></script>\n",
              "</html>\n",
              "<body>\n",
              "<div id=\"elm\"></div>\n",
              "<script>\n",
              "    var app = Elm.Main.init({\n",
              "       node: document.getElementById('elm')\n",
              "    }); setTimeout(function () {\n",
              "      renderMathInElement(document.body, {delimiters: [{left: \"$begin-inline$\", right: \"$end-inline$\", display: false},{left: \"$begin-display$\", right: \"$end-display$\", display: true}]});\n",
              "    }, 0);\n",
              "\n",
              "    var requestAnimationFrame = window.requestAnimationFrame || window.mozRequestAnimationFrame || window.webkitRequestAnimationFrame || window.msRequestAnimationFrame;\n",
              "\n",
              "  let updateSamplePlot = function(spec){\n",
              "    console.log(spec);\n",
              "    requestAnimationFrame(function(){\n",
              "      vegaEmbed(\"#samplePlot\", spec, {actions: false}).catch(console.warn);\n",
              "      });\n",
              "   }\n",
              "\n",
              "  let updateDistPlot = function(spec){\n",
              "    console.log(spec);\n",
              "    requestAnimationFrame(function(){\n",
              "      vegaEmbed(\"#distPlot\", spec, {actions: false}).catch(console.warn);\n",
              "      });\n",
              "   }\n",
              "\n",
              "    app.ports.samplePlotToJS.subscribe(updateSamplePlot);\n",
              "    app.ports.distPlotToJS.subscribe(updateDistPlot);\n",
              "</script>\n",
              "</body>\n"
            ]
          },
          "metadata": {
            "tags": []
          },
          "execution_count": 2
        }
      ]
    },
    {
      "cell_type": "markdown",
      "metadata": {
        "id": "tGPWa3t3Ha9F"
      },
      "source": [
        "## <font color=\"red\"> Exercise 1 </font>\n",
        "\n",
        "Load the [binomial simulation app](https://wsu-datascience.github.io/binomial_simulation/index.html) in a browser and inspect some elements.  Verify that our usual technique failed to load the elements you find on the page."
      ]
    },
    {
      "cell_type": "markdown",
      "metadata": {
        "id": "DWp8lJCtHa9H"
      },
      "source": [
        "## Why use `selenium`\n",
        "\n",
        "`selenium` allows us to interact with the web page by\n",
        "\n",
        "1. Clicking on non-HTML elements on the page\n",
        "2. Filling in forms\n",
        "3. Waiting for elements to load\n",
        "4. Taking screen shots of the current state."
      ]
    },
    {
      "cell_type": "markdown",
      "metadata": {
        "id": "MiKjvNd2Ha9J"
      },
      "source": [
        "## Installation -- Installing the browser driver.\n",
        "\n",
        "First, we need to install a special driver that allows Python to interact with your browser.  Here we will be using Google Chrome and the [Chrome Driver](https://chromedriver.chromium.org/getting-started).  Be sure to install this driver (or the [one for your favorite browser](https://selenium-python.readthedocs.io/installation.html#drivers). "
      ]
    },
    {
      "cell_type": "markdown",
      "metadata": {
        "id": "Au-kP-8wHa9K"
      },
      "source": [
        "## Installation -- Installing `selenium`\n",
        "\n",
        "Next we will use `pip` to install the `selenium` package."
      ]
    },
    {
      "cell_type": "code",
      "metadata": {
        "scrolled": true,
        "id": "c7AiDt-nHa9L",
        "outputId": "7130395c-28f1-405c-be63-9636977badd7"
      },
      "source": [
        "# For local machine\n",
        "!pip install selenium"
      ],
      "execution_count": null,
      "outputs": [
        {
          "output_type": "stream",
          "text": [
            "Requirement already satisfied: selenium in /Users/bn8210wy/.pyenv/versions/anaconda3-5.3.1/lib/python3.7/site-packages (3.141.0)\n",
            "Requirement already satisfied: urllib3 in /Users/bn8210wy/.pyenv/versions/anaconda3-5.3.1/lib/python3.7/site-packages (from selenium) (1.23)\n",
            "\u001b[33mWARNING: You are using pip version 20.2.3; however, version 20.2.4 is available.\n",
            "You should consider upgrading via the '/Users/bn8210wy/.pyenv/versions/anaconda3-5.3.1/bin/python -m pip install --upgrade pip' command.\u001b[0m\n"
          ],
          "name": "stdout"
        }
      ]
    },
    {
      "cell_type": "code",
      "metadata": {
        "id": "YTzqYjzAHwLq"
      },
      "source": [
        "# For running in colab\n",
        "!pip install kora -q"
      ],
      "execution_count": null,
      "outputs": []
    },
    {
      "cell_type": "markdown",
      "metadata": {
        "id": "Cmw2_5UTHa9R"
      },
      "source": [
        "## Starting a `selenium` session\n",
        "\n",
        "Note that this will pop up a Chrome window that will be controlled by your Python `driver` object.  **Don't close this window**"
      ]
    },
    {
      "cell_type": "code",
      "metadata": {
        "id": "-05gotLAHa9S",
        "outputId": "381c8619-de50-4bbf-fafd-e925d3ffaed2",
        "colab": {
          "base_uri": "https://localhost:8080/",
          "height": 425
        }
      },
      "source": [
        "# For running locally (with a pop up browser)\n",
        "from selenium import webdriver\n",
        "\n",
        "DRIVER_PATH = '/Users/bn8210wy/Downloads/chromedriver'\n",
        "url = 'https://duckduckgo.com/'\n",
        "driver = webdriver.Chrome(executable_path=DRIVER_PATH)\n",
        "driver.get(url)"
      ],
      "execution_count": null,
      "outputs": [
        {
          "output_type": "error",
          "ename": "WebDriverException",
          "evalue": "ignored",
          "traceback": [
            "\u001b[0;31m---------------------------------------------------------------------------\u001b[0m",
            "\u001b[0;31mFileNotFoundError\u001b[0m                         Traceback (most recent call last)",
            "\u001b[0;32m/usr/local/lib/python3.6/dist-packages/selenium/webdriver/common/service.py\u001b[0m in \u001b[0;36mstart\u001b[0;34m(self)\u001b[0m\n\u001b[1;32m     75\u001b[0m                                             \u001b[0mstderr\u001b[0m\u001b[0;34m=\u001b[0m\u001b[0mself\u001b[0m\u001b[0;34m.\u001b[0m\u001b[0mlog_file\u001b[0m\u001b[0;34m,\u001b[0m\u001b[0;34m\u001b[0m\u001b[0;34m\u001b[0m\u001b[0m\n\u001b[0;32m---> 76\u001b[0;31m                                             stdin=PIPE)\n\u001b[0m\u001b[1;32m     77\u001b[0m         \u001b[0;32mexcept\u001b[0m \u001b[0mTypeError\u001b[0m\u001b[0;34m:\u001b[0m\u001b[0;34m\u001b[0m\u001b[0;34m\u001b[0m\u001b[0m\n",
            "\u001b[0;32m/usr/lib/python3.6/subprocess.py\u001b[0m in \u001b[0;36m__init__\u001b[0;34m(self, args, bufsize, executable, stdin, stdout, stderr, preexec_fn, close_fds, shell, cwd, env, universal_newlines, startupinfo, creationflags, restore_signals, start_new_session, pass_fds, encoding, errors)\u001b[0m\n\u001b[1;32m    728\u001b[0m                                 \u001b[0merrread\u001b[0m\u001b[0;34m,\u001b[0m \u001b[0merrwrite\u001b[0m\u001b[0;34m,\u001b[0m\u001b[0;34m\u001b[0m\u001b[0;34m\u001b[0m\u001b[0m\n\u001b[0;32m--> 729\u001b[0;31m                                 restore_signals, start_new_session)\n\u001b[0m\u001b[1;32m    730\u001b[0m         \u001b[0;32mexcept\u001b[0m\u001b[0;34m:\u001b[0m\u001b[0;34m\u001b[0m\u001b[0;34m\u001b[0m\u001b[0m\n",
            "\u001b[0;32m/usr/lib/python3.6/subprocess.py\u001b[0m in \u001b[0;36m_execute_child\u001b[0;34m(self, args, executable, preexec_fn, close_fds, pass_fds, cwd, env, startupinfo, creationflags, shell, p2cread, p2cwrite, c2pread, c2pwrite, errread, errwrite, restore_signals, start_new_session)\u001b[0m\n\u001b[1;32m   1363\u001b[0m                             \u001b[0merr_msg\u001b[0m \u001b[0;34m+=\u001b[0m \u001b[0;34m': '\u001b[0m \u001b[0;34m+\u001b[0m \u001b[0mrepr\u001b[0m\u001b[0;34m(\u001b[0m\u001b[0merr_filename\u001b[0m\u001b[0;34m)\u001b[0m\u001b[0;34m\u001b[0m\u001b[0;34m\u001b[0m\u001b[0m\n\u001b[0;32m-> 1364\u001b[0;31m                     \u001b[0;32mraise\u001b[0m \u001b[0mchild_exception_type\u001b[0m\u001b[0;34m(\u001b[0m\u001b[0merrno_num\u001b[0m\u001b[0;34m,\u001b[0m \u001b[0merr_msg\u001b[0m\u001b[0;34m,\u001b[0m \u001b[0merr_filename\u001b[0m\u001b[0;34m)\u001b[0m\u001b[0;34m\u001b[0m\u001b[0;34m\u001b[0m\u001b[0m\n\u001b[0m\u001b[1;32m   1365\u001b[0m                 \u001b[0;32mraise\u001b[0m \u001b[0mchild_exception_type\u001b[0m\u001b[0;34m(\u001b[0m\u001b[0merr_msg\u001b[0m\u001b[0;34m)\u001b[0m\u001b[0;34m\u001b[0m\u001b[0;34m\u001b[0m\u001b[0m\n",
            "\u001b[0;31mFileNotFoundError\u001b[0m: [Errno 2] No such file or directory: '/Users/bn8210wy/Downloads/chromedriver': '/Users/bn8210wy/Downloads/chromedriver'",
            "\nDuring handling of the above exception, another exception occurred:\n",
            "\u001b[0;31mWebDriverException\u001b[0m                        Traceback (most recent call last)",
            "\u001b[0;32m<ipython-input-6-9dbceab42ab5>\u001b[0m in \u001b[0;36m<module>\u001b[0;34m()\u001b[0m\n\u001b[1;32m      4\u001b[0m \u001b[0mDRIVER_PATH\u001b[0m \u001b[0;34m=\u001b[0m \u001b[0;34m'/Users/bn8210wy/Downloads/chromedriver'\u001b[0m\u001b[0;34m\u001b[0m\u001b[0;34m\u001b[0m\u001b[0m\n\u001b[1;32m      5\u001b[0m \u001b[0murl\u001b[0m \u001b[0;34m=\u001b[0m \u001b[0;34m'https://duckduckgo.com/'\u001b[0m\u001b[0;34m\u001b[0m\u001b[0;34m\u001b[0m\u001b[0m\n\u001b[0;32m----> 6\u001b[0;31m \u001b[0mdriver\u001b[0m \u001b[0;34m=\u001b[0m \u001b[0mwebdriver\u001b[0m\u001b[0;34m.\u001b[0m\u001b[0mChrome\u001b[0m\u001b[0;34m(\u001b[0m\u001b[0mexecutable_path\u001b[0m\u001b[0;34m=\u001b[0m\u001b[0mDRIVER_PATH\u001b[0m\u001b[0;34m)\u001b[0m\u001b[0;34m\u001b[0m\u001b[0;34m\u001b[0m\u001b[0m\n\u001b[0m\u001b[1;32m      7\u001b[0m \u001b[0mdriver\u001b[0m\u001b[0;34m.\u001b[0m\u001b[0mget\u001b[0m\u001b[0;34m(\u001b[0m\u001b[0murl\u001b[0m\u001b[0;34m)\u001b[0m\u001b[0;34m\u001b[0m\u001b[0;34m\u001b[0m\u001b[0m\n",
            "\u001b[0;32m/usr/local/lib/python3.6/dist-packages/selenium/webdriver/chrome/webdriver.py\u001b[0m in \u001b[0;36m__init__\u001b[0;34m(self, executable_path, port, options, service_args, desired_capabilities, service_log_path, chrome_options, keep_alive)\u001b[0m\n\u001b[1;32m     71\u001b[0m             \u001b[0mservice_args\u001b[0m\u001b[0;34m=\u001b[0m\u001b[0mservice_args\u001b[0m\u001b[0;34m,\u001b[0m\u001b[0;34m\u001b[0m\u001b[0;34m\u001b[0m\u001b[0m\n\u001b[1;32m     72\u001b[0m             log_path=service_log_path)\n\u001b[0;32m---> 73\u001b[0;31m         \u001b[0mself\u001b[0m\u001b[0;34m.\u001b[0m\u001b[0mservice\u001b[0m\u001b[0;34m.\u001b[0m\u001b[0mstart\u001b[0m\u001b[0;34m(\u001b[0m\u001b[0;34m)\u001b[0m\u001b[0;34m\u001b[0m\u001b[0;34m\u001b[0m\u001b[0m\n\u001b[0m\u001b[1;32m     74\u001b[0m \u001b[0;34m\u001b[0m\u001b[0m\n\u001b[1;32m     75\u001b[0m         \u001b[0;32mtry\u001b[0m\u001b[0;34m:\u001b[0m\u001b[0;34m\u001b[0m\u001b[0;34m\u001b[0m\u001b[0m\n",
            "\u001b[0;32m/usr/local/lib/python3.6/dist-packages/selenium/webdriver/common/service.py\u001b[0m in \u001b[0;36mstart\u001b[0;34m(self)\u001b[0m\n\u001b[1;32m     81\u001b[0m                 raise WebDriverException(\n\u001b[1;32m     82\u001b[0m                     \"'%s' executable needs to be in PATH. %s\" % (\n\u001b[0;32m---> 83\u001b[0;31m                         os.path.basename(self.path), self.start_error_message)\n\u001b[0m\u001b[1;32m     84\u001b[0m                 )\n\u001b[1;32m     85\u001b[0m             \u001b[0;32melif\u001b[0m \u001b[0merr\u001b[0m\u001b[0;34m.\u001b[0m\u001b[0merrno\u001b[0m \u001b[0;34m==\u001b[0m \u001b[0merrno\u001b[0m\u001b[0;34m.\u001b[0m\u001b[0mEACCES\u001b[0m\u001b[0;34m:\u001b[0m\u001b[0;34m\u001b[0m\u001b[0;34m\u001b[0m\u001b[0m\n",
            "\u001b[0;31mWebDriverException\u001b[0m: Message: 'chromedriver' executable needs to be in PATH. Please see https://sites.google.com/a/chromium.org/chromedriver/home\n"
          ]
        }
      ]
    },
    {
      "cell_type": "code",
      "metadata": {
        "id": "xA1MPCv9HkL2"
      },
      "source": [
        "# For running in colab\n",
        "url = 'https://duckduckgo.com/'\n",
        "from kora.selenium import wd as driver\n",
        "driver.get(url)"
      ],
      "execution_count": null,
      "outputs": []
    },
    {
      "cell_type": "markdown",
      "metadata": {
        "id": "u9ry2cQbH9ux"
      },
      "source": [
        "## Note on working in Google colab\n",
        "\n",
        "Since you don't have the pop up browser, you will need to open another browser window and mimic the steps you perform with the selenium driver."
      ]
    },
    {
      "cell_type": "code",
      "metadata": {
        "id": "RgpR8CNoHa9Y",
        "outputId": "c7d10583-3efe-415e-9462-586c5b6d2598",
        "colab": {
          "base_uri": "https://localhost:8080/",
          "height": 103
        }
      },
      "source": [
        "driver.page_source"
      ],
      "execution_count": null,
      "outputs": [
        {
          "output_type": "execute_result",
          "data": {
            "application/vnd.google.colaboratory.intrinsic+json": {
              "type": "string"
            },
            "text/plain": [
              "'<html lang=\"en_US\" class=\"has-zcm   is-mobile-header-exp js no-touch opacity csstransforms3d csstransitions svg cssfilters is-not-mobile-device full-urls has-footer\"><head><script type=\"text/javascript\" src=\"s2477.js\"></script><meta http-equiv=\"content-type\" content=\"text/html; charset=utf-8\"><title>Silas Bergen at DuckDuckGo</title><link rel=\"stylesheet\" href=\"/s1936.css\" type=\"text/css\"><link rel=\"stylesheet\" href=\"/r1936.css\" type=\"text/css\"><meta name=\"robots\" content=\"noindex,nofollow\"><meta name=\"referrer\" content=\"origin\"><meta name=\"apple-mobile-web-app-title\" content=\"Silas Bergen\"><link rel=\"preload\" href=\"/font/ProximaNova-Reg-webfont.woff2\" as=\"font\" type=\"font/woff2\" crossorigin=\"anonymous\"><link rel=\"preload\" href=\"/font/ProximaNova-Sbold-webfont.woff2\" as=\"font\" type=\"font/woff2\" crossorigin=\"anonymous\"><link rel=\"shortcut icon\" href=\"/favicon.ico\" type=\"image/x-icon\"><link id=\"icon60\" rel=\"apple-touch-icon\" href=\"/assets/icons/meta/DDG-iOS-icon_60x60.png?v=2\"><link id=\"icon76\" rel=\"apple-touch-icon\" sizes=\"76x76\" href=\"/assets/icons/meta/DDG-iOS-icon_76x76.png?v=2\"><link id=\"icon120\" rel=\"apple-touch-icon\" sizes=\"120x120\" href=\"/assets/icons/meta/DDG-iOS-icon_120x120.png?v=2\"><link id=\"icon152\" rel=\"apple-touch-icon\" sizes=\"152x152\" href=\"/assets/icons/meta/DDG-iOS-icon_152x152.png?v=2\"><link rel=\"image_src\" href=\"/assets/icons/meta/DDG-icon_256x256.png\"><script type=\"text/javascript\" async=\"\" src=\"/t.js?q=Silas%20Bergen&amp;t=N&amp;l=wt-wt&amp;s=0&amp;ct=US&amp;ss_mkt=us&amp;p_ent=&amp;ex=-1&amp;prdsdexp=c&amp;biaexp=b&amp;msvrtexp=b\"></script><script type=\"text/javascript\">var ct,fd,fq,it,iqa,iqm,iqs,iqp,iqq,qw,dl,ra,rv,rad,r1hc,r1c,r2c,r3c,rfq,rq,rds,rs,rt,rl,y,y1,ti,tig,iqd,shfl,locale,settings_js_version=\\'s2477.js\\',is_twitter=\\'\\',rpl=1;fq=0;fd=1;it=0;iqa=0;iqbi=0;iqm=0;iqs=0;iqp=0;iqq=0;qw=2;dl=\\'\\';ct=\\'US\\';iqd=0;r1hc=0;r1c=0;r3c=0;rq=\\'Silas%20Bergen\\';rqd=\"Silas Bergen\";rfq=0;rt=\\'N\\';ra=\\'h_\\';rv=\\'\\';rad=\\'\\';rds=30;rs=0;spice_version=\\'2000\\';spice_paths=\\'{}\\';locale=\\'en_US\\';settings_url_params={};rl=\\'wt-wt\\';shfl=0;rlo=0;df=\\'\\';ds=\\'\\';sfq=\\'\\';iar=\\'\\';vqd=\\'3-258352749540065450294438057215618183677-313127225571904235320049101278864187736\\';safe_ddg=0;show_covid=0;</script><meta name=\"viewport\" content=\"width=device-width, initial-scale=1\"><meta name=\"HandheldFriendly\" content=\"true\"><meta name=\"apple-mobile-web-app-capable\" content=\"no\"><link title=\"DuckDuckGo\" type=\"application/opensearchdescription+xml\" rel=\"search\" href=\"https://duckduckgo.com/opensearch.xml?atb=v246-2__\"></head><body class=\"body--serp\"><input id=\"state_hidden\" name=\"state_hidden\" type=\"text\" size=\"1\"><span class=\"hide\">Ignore this box please.</span><div id=\"spacing_hidden_wrapper\"><div id=\"spacing_hidden\"></div></div><script type=\"text/javascript\" src=\"/lib/l118.js\"></script><script type=\"text/javascript\" src=\"/locale/en_US/duckduckgo14.js\"></script><script type=\"text/javascript\" src=\"/util/u496.js\"></script><script type=\"text/javascript\" src=\"/d2869.js\"></script><div class=\"site-wrapper  js-site-wrapper\" style=\"min-height: 600px;\"><div class=\"welcome-wrap js-welcome-wrap\"></div><div id=\"header_wrapper\" class=\"header-wrap js-header-wrap\"><div id=\"header\" class=\"header  cw\"><div class=\"header__search-wrap\"><a tabindex=\"-1\" href=\"/?t=h_&amp;\" class=\"header__logo-wrap js-header-logo\"><span class=\"header__logo js-logo-ddg\">DuckDuckGo</span></a><div class=\"header__content  header__search\"><form id=\"search_form\" class=\"search--adv  search--header  search--mobile-exp js-search-form has-text\" name=\"x\" action=\"/\" method=\"GET\"><input type=\"text\" name=\"q\" tabindex=\"1\" autocomplete=\"off\" id=\"search_form_input\" class=\"search__input--adv js-search-input\" value=\"Silas Bergen\" autocapitalize=\"off\" autocorrect=\"off\"><input id=\"search_form_input_clear\" class=\"search__clear  js-search-clear\" type=\"button\" tabindex=\"3\" value=\"X\"><input id=\"search_button\" class=\"search__button  js-search-button\" type=\"submit\" tabindex=\"2\" value=\"S\"><a id=\"search_dropdown\" class=\"search__dropdown\" href=\"javascript:;\" tabindex=\"4\"></a><div id=\"search_elements_hidden\" class=\"search__hidden  js-search-hidden\"><input type=\"hidden\" class=\"js-search-hidden-field\" name=\"t\" value=\"h_\"></div><div class=\"search__autocomplete\"><div class=\"acp-wrap js-acp-wrap\"></div><div class=\"acp-footer is-hidden js-acp-footer\"><span class=\"acp-footer__instructions\">Shortcuts to other sites to search off DuckDuckGo</span><span class=\"acp-footer__link\"><a class=\"no-visited js-acp-footer-link\" href=\"/bang\">Learn More</a></span></div></div></form></div></div><div class=\"zcm-wrap-wrap\"><div id=\"duckbar\" class=\"zcm-wrap  zcm-wrap--header  is-noscript-hidden\"><div class=\"zcm\"><ul class=\"zcm__menu zcm__constant has-zci\" id=\"duckbar_static\"><li class=\"zcm__item\"><a data-zci-link=\"web\" class=\"zcm__link  js-zci-link  js-zci-link--web  is-active\" href=\"#\">All</a></li><li class=\"zcm__item\"><a data-zci-link=\"images\" class=\"zcm__link  js-zci-link  js-zci-link--images\" href=\"#\">Images</a></li><li class=\"zcm__item\"><a data-zci-link=\"videos\" class=\"zcm__link  js-zci-link  js-zci-link--videos\" href=\"#\">Videos</a></li><li class=\"zcm__item\"><a data-zci-link=\"news\" class=\"zcm__link  js-zci-link  js-zci-link--news\" href=\"#\">News</a></li><li class=\"zcm__item\"><a data-zci-link=\"maps_expanded\" class=\"zcm__link  js-zci-link  js-zci-link--maps_expanded\" href=\"#\">Maps</a></li></ul><ul class=\"zcm__menu zcm__dynamic\" id=\"duckbar_new\"><span id=\"duckbar_dynamic_sep\" class=\"zcm__sep--h sep--before is-hidden\"></span></ul><ul class=\"zcm__menu zcm__dropdowns js-duckbar-dropdowns\" id=\"duckbar_dropdowns\"><span class=\"zcm__sep--h sep--before is-hidden js-duckbar-dropdowns-separator\"></span><li class=\"zcm__item\"><div class=\"dropdown dropdown--settings\"><a class=\"zcm__link dropdown__button js-dropdown-button \">Settings</a></div></li></ul></div></div><div class=\"zcm--right js-zcm-right\"></div></div></div><div class=\"header--aside js-header-aside is-hidden\"><a class=\"header__button--menu  js-side-menu-open\" href=\"#\">⇶</a><div class=\"header--aside__item showcase header__label\"><span class=\"header__clickable js-hl-button\" data-type=\"showcase\"><span class=\"js-popout-trig\" aria-haspopup=\"true\" aria-label=\"Check out the list of things that we\\'ve also made.\" role=\"button\" aria-pressed=\"false\"><span id=\"wedonttrack\">Privacy, simplified.</span></span><span class=\"popout-trig  js-popout\"><span class=\"js-popout-link js-showcase-popout ddgsi ddgsi-down\" aria-hidden=\"true\" data-type=\"showcase\"></span><div class=\"modal modal--popout modal--popout--bottom-left modal--popout--sm  js-popout-main\" data-type=\"showcase\"><div class=\"modal__box\"><div class=\"modal__body\"><nav aria-labelledby=\"wedonttrack\"><section class=\"showcase__dropdown-top\"><ul aria-label=\"Here are some things that we made that you might like.\"><li class=\"fix showcase__dropdown__list\"><a href=\"/app\" class=\"eighteen js-hl-item\" aria-hidden=\"true\" data-type=\"showcase\" data-id=\"app\"><div class=\"woman-icon\"></div></a><a href=\"/app\" class=\"text-left showcase__link eighty js-hl-item\" data-type=\"showcase\" data-id=\"app\"><h1 class=\"showcase__heading\">Get Our App &amp; Extension</h1><p class=\"showcase__subheading\">Protect your data on every device.</p></a></li><li class=\"fix showcase__dropdown__list\"><a href=\"/newsletter\" class=\"eighteen js-hl-item\" aria-hidden=\"true\" data-type=\"showcase\" data-id=\"newsletter\"><div class=\"mailbox-icon\"></div></a><a href=\"/newsletter\" class=\"text-left showcase__link eighty js-hl-item\" data-type=\"showcase\" data-id=\"newsletter\"><h1 class=\"showcase__heading\">Privacy in Your Inbox</h1><p class=\"showcase__subheading\">Stay protected and informed with our privacy newsletters.</p></a></li><li class=\"fix showcase__dropdown__list\"><a href=\"https://spreadprivacy.com/tag/device-privacy-tips/\" class=\"eighteen js-hl-item\" aria-hidden=\"true\" data-type=\"showcase\" data-id=\"blog\"><div class=\"privacy-simplified-icon\"></div></a><a href=\"https://spreadprivacy.com/tag/device-privacy-tips/\" class=\"text-left showcase__link eighty js-hl-item\" data-type=\"showcase\" data-id=\"blog\"><h1 class=\"showcase__heading\">Protect Your Devices</h1><p class=\"showcase__subheading\">Check out our privacy device guides.</p></a></li><li class=\"fix showcase__dropdown__list\"><a href=\"https://duckduckgo.com/spread\" class=\"eighteen js-hl-item\" aria-hidden=\"true\" data-type=\"showcase\" data-id=\"spread\"><div class=\"spread-icon\"></div></a><a href=\"https://duckduckgo.com/spread\" class=\"text-left showcase__link eighty js-hl-item\" data-type=\"showcase\" data-id=\"spread\"><h1 class=\"showcase__heading\">Spread DuckDuckGo</h1><p class=\"showcase__subheading\">Help your friends and family join the Duck Side!</p></a></li></ul></section><section class=\"showcase__dropdown-bottom\"><ul class=\"text-left\" aria-label=\"We\\'ve got even more things for you.\"><li class=\"fix showcase__dropdown__list\"><a href=\"https://duckduckgo.com/donations\" class=\"eighteen showcase__icon js-hl-item\" aria-hidden=\"true\" data-type=\"showcase\" data-id=\"donations\"><div class=\"donations-icon\"></div></a><a href=\"https://duckduckgo.com/donations\" class=\"text-left showcase__link eighty showcase__text js-hl-item\" data-type=\"showcase\" data-id=\"donations\">$2,650,000 in privacy donations!</a></li><li class=\"fix showcase__dropdown__list\"><a href=\"https://duckduckgo.com/traffic\" class=\"eighteen showcase__icon js-hl-item\" aria-hidden=\"true\" data-type=\"showcase\" data-id=\"traffic\"><div class=\"traffic-icon\"></div></a><a href=\"https://duckduckgo.com/traffic\" class=\"text-left showcase__link eighty showcase__text js-hl-item\" data-type=\"showcase\" data-id=\"traffic\">Over 59 Billion anonymous searches.</a></li><li class=\"fix showcase__dropdown__list\"><a href=\"https://donttrack.us/\" class=\"eighteen showcase__icon js-hl-item\" aria-hidden=\"true\" data-type=\"showcase\" data-id=\"dnt\"><div class=\"privacy-tips-icon\"></div></a><a href=\"https://donttrack.us/\" class=\"text-left showcase__link eighty showcase__text js-hl-item\" data-type=\"showcase\" data-id=\"dnt\">Learn why reducing tracking is important.</a></li></ul></section></nav></div></div></div></span></span></div><div class=\"header--aside__item header--aside__social header__label social\"><span class=\"header__clickable js-hl-button\" data-type=\"social\"><span class=\"js-popout-trig header--aside__social-icon \" aria-haspopup=\"true\" aria-label=\"Keep in touch\" role=\"button\" aria-pressed=\"false\"><span class=\"ddgsi ddgsi-horn\" data-type=\"social\"></span></span><span class=\"popout-trig js-popout\"><span class=\"js-popout-link ddgsi ddgsi-down\" aria-hidden=\"true\" data-type=\"social\"></span><div class=\"modal modal--popout modal--popout--bottom-left modal--popout--sm  js-popout-main\" data-type=\"social\"><div class=\"modal__box\"><div class=\"modal__body\"><div class=\"social__link\"><a href=\"https://twitter.com/duckduckgo\" class=\"js-hl-item social__link__text\" data-type=\"social\" data-id=\"twitter\"><img class=\"social__icon js-lazysvg\" data-src=\"/assets/icons/header/twitter.svg\"><span>Twitter</span></a></div><div class=\"social__link\"><a href=\"https://reddit.com/r/duckduckgo\" class=\"js-hl-item social__link__text\" data-type=\"social\" data-id=\"reddit\"><img class=\"social__icon js-lazysvg\" data-src=\"/assets/icons/header/reddit.svg\"><span>Reddit</span></a></div><div class=\"social__link\"><a href=\"https://spreadprivacy.com\" class=\"js-hl-item social__link__text\" data-type=\"social\" data-id=\"blog\"><img class=\"social__icon js-lazysvg\" data-src=\"/assets/icons/header/blog.svg\"><span>Blog</span></a></div><div class=\"social__link\"><a href=\"https://duckduckgo.com/newsletter\" class=\"js-hl-item social__link__text\" data-type=\"social\" data-id=\"newsletter\"><img class=\"social__icon js-lazysvg\" data-src=\"/assets/icons/header/newsletter.svg\"><span>Newsletter</span></a></div></div></div></div></span></span></div></div></div><div id=\"zero_click_wrapper\" class=\"zci-wrap\"></div><div id=\"vertical_wrapper\" class=\"verticals\"></div><div id=\"web_content_wrapper\" class=\"content-wrap\"><div class=\"serp__top-right  js-serp-top-right\"></div><div class=\"serp__bottom-right  js-serp-bottom-right\"><div class=\"js-feedback-btn-wrap\"><div class=\"btn feedback-btn\"><a href=\"#\" class=\"feedback-btn__send js-feedback-start\">Send feedback</a><div class=\"feedback-btn__icon-wrap is-hidden js-feedback-icon-wrap\"><a href=\"#\" class=\"feedback-btn__icon ddgsi feedback-btn__icon--love js-feedback-love\"></a><a href=\"#\" class=\"feedback-btn__icon ddgsi feedback-btn__icon--nolove js-feedback-nolove\"></a></div></div></div></div><div class=\"cw\"><div id=\"links_wrapper\" class=\"serp__results js-serp-results\"><div class=\"results--main\"><div class=\"search-filters-wrap\"><div class=\"js-search-filters search-filters\"><div class=\"dropdown dropdown--region \"><a class=\"dropdown__button dropdown__button js-dropdown-button\">All Regions</a></div><div class=\"dropdown  dropdown--safe-search \"><a href=\"#\" class=\"dropdown__button js-dropdown-button\">Safe Search: Moderate</a></div><div class=\"dropdown  dropdown--date \"><a href=\"#\" class=\"dropdown__button js-dropdown-button\">Any Time</a></div></div></div><noscript><meta http-equiv=\"refresh\" content=\"0;URL=/html?q=Silas%20Bergen\"><link href=\"/css/noscript.css\" rel=\"stylesheet\" type=\"text/css\"><div class=\"msg msg--noscript\"><p class=\"msg-title--noscript\">You are being redirected to the non-JavaScript site.</p>Click <a href=\"/html/?q=Silas%20Bergen\">here</a> if it doesn\\'t happen automatically.</div></noscript><div id=\"message\" class=\"results--message\"></div><div class=\"ia-modules js-ia-modules\"></div><div id=\"ads\" class=\"results--ads results--ads--main js-results-ads\"></div><div id=\"links\" class=\"results js-results\"><div id=\"r1-0\" class=\"result results_links_deep highlight_d result--url-above-snippet\" data-domain=\"driftlessdata.space\" data-hostname=\"driftlessdata.space\" data-nir=\"1\"><div class=\"result__body links_main links_deep\"><h2 class=\"result__title\"><a class=\"result__a\" rel=\"noopener\" href=\"http://driftlessdata.space/\"><b>Silas</b> <b>Bergen</b></a><a rel=\"noopener\" class=\"result__check\" href=\"http://driftlessdata.space/\"><span class=\"result__check__tt\">Your browser indicates if you\\'ve visited this link</span></a></h2><div class=\"result__extras js-result-extras\"><div class=\"result__extras__url\"><span class=\"result__icon \"><a href=\"/?q=Silas%20Bergen+site:driftlessdata.space&amp;t=h_\" title=\"Search domain driftlessdata.space\" class=\"js-result-extras-site_search\"><img data-src=\"//external-content.duckduckgo.com/ip3/driftlessdata.space.ico\" height=\"16\" width=\"16\" title=\"Search domain driftlessdata.space\" class=\"result__icon__img js-lazyload-icons\" src=\"//external-content.duckduckgo.com/ip3/driftlessdata.space.ico\"></a></span><a href=\"http://driftlessdata.space/\" rel=\"noopener\" class=\"result__url js-result-extras-url\"><span class=\"result__url__domain\">driftlessdata.space</span><span class=\"result__url__full\"></span></a></div></div><div class=\"result__snippet js-result-snippet\">Toggle navigation. <b>Silas</b> <b>Bergen</b>. Home. Teaching. <b>Silas</b> <b>Bergen</b>. Associate professor of statistics and data science. Winona State University.</div></div></div><div id=\"organic-module\"></div><div id=\"r1-1\" class=\"result results_links_deep highlight_d result--url-above-snippet\" data-domain=\"www.pubfacts.com\" data-hostname=\"www.pubfacts.com\" data-nir=\"1\"><div class=\"result__body links_main links_deep\"><h2 class=\"result__title\"><a class=\"result__a\" rel=\"noopener\" href=\"https://www.pubfacts.com/author/Silas+Bergen\">Publications Authored by <b>Silas</b> <b>Bergen</b> | PubFacts</a><a rel=\"noopener\" class=\"result__check\" href=\"https://www.pubfacts.com/author/Silas+Bergen\"><span class=\"result__check__tt\">Your browser indicates if you\\'ve visited this link</span></a></h2><div class=\"result__extras js-result-extras\"><div class=\"result__extras__url\"><span class=\"result__icon \"><a href=\"/?q=Silas%20Bergen+site:www.pubfacts.com&amp;t=h_\" title=\"Search domain www.pubfacts.com/author/Silas+Bergen\" class=\"js-result-extras-site_search\"><img data-src=\"//external-content.duckduckgo.com/ip3/www.pubfacts.com.ico\" height=\"16\" width=\"16\" title=\"Search domain www.pubfacts.com/author/Silas+Bergen\" class=\"result__icon__img js-lazyload-icons\" src=\"//external-content.duckduckgo.com/ip3/www.pubfacts.com.ico\"></a></span><a href=\"https://www.pubfacts.com/author/Silas+Bergen\" rel=\"noopener\" class=\"result__url js-result-extras-url\"><span class=\"result__url__domain\">https://www.pubfacts.com</span><span class=\"result__url__full\">/author/Silas+Bergen</span></a></div></div><div class=\"result__snippet js-result-snippet\"><b>Silas</b> <b>Bergen</b>. About publications (9) network. Statistics, Department of Mathematics and Statistics (Dr <b>Bergen</b>), Winona State University, Minnesota.</div></div></div><div id=\"r1-2\" class=\"result results_links_deep highlight_d result--url-above-snippet\" data-domain=\"www.facebook.com\" data-hostname=\"www.facebook.com\" data-nir=\"1\"><div class=\"result__body links_main links_deep\"><h2 class=\"result__title\"><a class=\"result__a\" rel=\"noopener\" href=\"https://www.facebook.com/silas.bergen.5\"><b>Silas</b> <b>Bergen</b> | Facebook</a><a rel=\"noopener\" class=\"result__check\" href=\"https://www.facebook.com/silas.bergen.5\"><span class=\"result__check__tt\">Your browser indicates if you\\'ve visited this link</span></a></h2><div class=\"result__extras js-result-extras\"><div class=\"result__extras__url\"><span class=\"result__icon \"><a href=\"/?q=Silas%20Bergen+site:www.facebook.com&amp;t=h_\" title=\"Search domain www.facebook.com/silas.bergen.5\" class=\"js-result-extras-site_search\"><img data-src=\"//external-content.duckduckgo.com/ip3/www.facebook.com.ico\" height=\"16\" width=\"16\" title=\"Search domain www.facebook.com/silas.bergen.5\" class=\"result__icon__img js-lazyload-icons\" src=\"//external-content.duckduckgo.com/ip3/www.facebook.com.ico\"></a></span><a href=\"https://www.facebook.com/silas.bergen.5\" rel=\"noopener\" class=\"result__url js-result-extras-url\"><span class=\"result__url__domain\">https://www.facebook.com</span><span class=\"result__url__full\">/silas.bergen.5</span></a></div></div><div class=\"result__snippet js-result-snippet\"><b>Silas</b> <b>Bergen</b> is on Facebook. Join Facebook to connect with <b>Silas</b> <b>Bergen</b> and others you may know.</div></div></div><div id=\"r1-3\" class=\"result results_links_deep highlight_d result--url-above-snippet\" data-domain=\"www.semanticscholar.org\" data-hostname=\"www.semanticscholar.org\" data-nir=\"1\"><div class=\"result__body links_main links_deep\"><h2 class=\"result__title\"><a class=\"result__a\" rel=\"noopener\" href=\"https://www.semanticscholar.org/author/Silas-Bergen/48578284\"><b>Silas</b> <b>Bergen</b> | Semantic Scholar</a><a rel=\"noopener\" class=\"result__check\" href=\"https://www.semanticscholar.org/author/Silas-Bergen/48578284\"><span class=\"result__check__tt\">Your browser indicates if you\\'ve visited this link</span></a></h2><div class=\"result__extras js-result-extras\"><div class=\"result__extras__url\"><span class=\"result__icon \"><a href=\"/?q=Silas%20Bergen+site:www.semanticscholar.org&amp;t=h_\" title=\"Search domain www.semanticscholar.org/author/Silas-Bergen/48578284\" class=\"js-result-extras-site_search\"><img data-src=\"//external-content.duckduckgo.com/ip3/www.semanticscholar.org.ico\" height=\"16\" width=\"16\" title=\"Search domain www.semanticscholar.org/author/Silas-Bergen/48578284\" class=\"result__icon__img js-lazyload-icons\" src=\"//external-content.duckduckgo.com/ip3/www.semanticscholar.org.ico\"></a></span><a href=\"https://www.semanticscholar.org/author/Silas-Bergen/48578284\" rel=\"noopener\" class=\"result__url js-result-extras-url\"><span class=\"result__url__domain\">https://www.semanticscholar.org</span><span class=\"result__url__full\">/author/Silas-Bergen/48578284</span></a></div></div><div class=\"result__snippet js-result-snippet\">Semantic Scholar profile for <b>Silas</b> <b>Bergen</b>, with 1 highly influential citations and 12 scientific research papers.</div></div></div><div id=\"r1-4\" class=\"result results_links_deep highlight_d result--url-above-snippet\" data-domain=\"www.goodreads.com\" data-hostname=\"www.goodreads.com\" data-nir=\"1\"><div class=\"result__body links_main links_deep\"><h2 class=\"result__title\"><a class=\"result__a\" rel=\"noopener\" href=\"https://www.goodreads.com/user/show/55807579-silas-bergen\"><b>Silas</b> <b>Bergen</b> - Winona, MN (67 books)</a><a rel=\"noopener\" class=\"result__check\" href=\"https://www.goodreads.com/user/show/55807579-silas-bergen\"><span class=\"result__check__tt\">Your browser indicates if you\\'ve visited this link</span></a></h2><div class=\"result__extras js-result-extras\"><div class=\"result__extras__url\"><span class=\"result__icon \"><a href=\"/?q=Silas%20Bergen+site:www.goodreads.com&amp;t=h_\" title=\"Search domain www.goodreads.com/user/show/55807579-silas-bergen\" class=\"js-result-extras-site_search\"><img data-src=\"//external-content.duckduckgo.com/ip3/www.goodreads.com.ico\" height=\"16\" width=\"16\" title=\"Search domain www.goodreads.com/user/show/55807579-silas-bergen\" class=\"result__icon__img js-lazyload-icons\"></a></span><a href=\"https://www.goodreads.com/user/show/55807579-silas-bergen\" rel=\"noopener\" class=\"result__url js-result-extras-url\"><span class=\"result__url__domain\">https://www.goodreads.com</span><span class=\"result__url__full\">/user/show/55807579-silas-bergen</span></a></div></div><div class=\"result__snippet js-result-snippet\">Block <b>Silas</b> <b>Bergen</b>? This will prevent <b>Silas</b> from sending you messages, friend request or from viewing your profile. They will not be notified. Comments on discussion boards from them will be hidden by...</div></div></div><div id=\"r1-5\" class=\"result results_links_deep highlight_d result--url-above-snippet\" data-domain=\"www.instagram.com\" data-hostname=\"www.instagram.com\" data-nir=\"1\"><div class=\"result__body links_main links_deep\"><h2 class=\"result__title\"><a class=\"result__a\" rel=\"noopener\" href=\"https://www.instagram.com/silasbjerregaard/?hl=en\"><b>Silas</b> Bjerregaard (@silasbjerregaard) • Instagram photos and videos</a><a rel=\"noopener\" class=\"result__check\" href=\"https://www.instagram.com/silasbjerregaard/?hl=en\"><span class=\"result__check__tt\">Your browser indicates if you\\'ve visited this link</span></a></h2><div class=\"result__extras js-result-extras\"><div class=\"result__extras__url\"><span class=\"result__icon \"><a href=\"/?q=Silas%20Bergen+site:www.instagram.com&amp;t=h_\" title=\"Search domain www.instagram.com/silasbjerregaard/?hl=en\" class=\"js-result-extras-site_search\"><img data-src=\"//external-content.duckduckgo.com/ip3/www.instagram.com.ico\" height=\"16\" width=\"16\" title=\"Search domain www.instagram.com/silasbjerregaard/?hl=en\" class=\"result__icon__img js-lazyload-icons\"></a></span><a href=\"https://www.instagram.com/silasbjerregaard/?hl=en\" rel=\"noopener\" class=\"result__url js-result-extras-url\"><span class=\"result__url__domain\">https://www.instagram.com</span><span class=\"result__url__full\">/silasbjerregaard/?hl=en</span></a></div></div><div class=\"result__snippet js-result-snippet\"><b>Silas</b> Bjerregaard (@silasbjerregaard) has 679 posts on their Instagram profile. Sign up to see all their posts in your feed.</div></div></div><div id=\"r1-6\" class=\"result results_links_deep highlight_d result--url-above-snippet\" data-domain=\"en.visitbergen.com\" data-hostname=\"en.visitbergen.com\" data-nir=\"1\"><div class=\"result__body links_main links_deep\"><h2 class=\"result__title\"><a class=\"result__a\" rel=\"noopener\" href=\"https://en.visitbergen.com/visitor-information/travel-information/skyss-bus-and-bergen-light-rail-p913973\">Skyss (bus and <b>Bergen</b> Light Rail) - visitBergen.com</a><a rel=\"noopener\" class=\"result__check\" href=\"https://en.visitbergen.com/visitor-information/travel-information/skyss-bus-and-bergen-light-rail-p913973\"><span class=\"result__check__tt\">Your browser indicates if you\\'ve visited this link</span></a></h2><div class=\"result__extras js-result-extras\"><div class=\"result__extras__url\"><span class=\"result__icon \"><a href=\"/?q=Silas%20Bergen+site:en.visitbergen.com&amp;t=h_\" title=\"Search domain en.visitbergen.com/visitor-information/travel-information/skyss-bus-and-bergen-light-rail-p913973\" class=\"js-result-extras-site_search\"><img data-src=\"//external-content.duckduckgo.com/ip3/en.visitbergen.com.ico\" height=\"16\" width=\"16\" title=\"Search domain en.visitbergen.com/visitor-information/travel-information/skyss-bus-and-bergen-light-rail-p913973\" class=\"result__icon__img js-lazyload-icons\"></a></span><a href=\"https://en.visitbergen.com/visitor-information/travel-information/skyss-bus-and-bergen-light-rail-p913973\" rel=\"noopener\" class=\"result__url js-result-extras-url\"><span class=\"result__url__domain\">https://en.visitbergen.com</span><span class=\"result__url__full\">/visitor-information/travel-information/skyss-bus-and-bergen-light-rail-p913973</span></a></div></div><div class=\"result__snippet js-result-snippet\">Travel by bus or the <b>Bergen</b> Light Rail to explore <b>Bergen</b> and the fjords! Skyss provides public transport throughout the entire region of Hordaland.</div></div></div><div id=\"r1-7\" class=\"result results_links_deep highlight_d result--url-above-snippet\" data-domain=\"en.wikipedia.org\" data-hostname=\"en.wikipedia.org\" data-nir=\"1\"><div class=\"result__body links_main links_deep\"><h2 class=\"result__title\"><a class=\"result__a\" rel=\"noopener\" href=\"https://en.wikipedia.org/wiki/Silas_Young\"><b>Silas</b> Young - Wikipedia</a><a rel=\"noopener\" class=\"result__check\" href=\"https://en.wikipedia.org/wiki/Silas_Young\"><span class=\"result__check__tt\">Your browser indicates if you\\'ve visited this link</span></a></h2><div class=\"result__extras js-result-extras\"><div class=\"result__extras__url\"><span class=\"result__icon \"><a href=\"/?q=Silas%20Bergen+site:en.wikipedia.org&amp;t=h_\" title=\"Search domain en.wikipedia.org/wiki/Silas_Young\" class=\"js-result-extras-site_search\"><img data-src=\"/assets/icons/favicons/wikipedia.png\" height=\"16\" width=\"16\" title=\"Search domain en.wikipedia.org/wiki/Silas_Young\" class=\"result__icon__img js-lazyload-icons\"></a></span><a href=\"https://en.wikipedia.org/wiki/Silas_Young\" rel=\"noopener\" class=\"result__url js-result-extras-url\"><span class=\"result__url__domain\">https://en.wikipedia.org</span><span class=\"result__url__full\">/wiki/Silas_Young</span></a></div></div><div class=\"result__snippet js-result-snippet\">Caleb DeWall is an American professional wrestler, better known by his ring name <b>Silas</b> Young. He is currently working for Ring of Honor, where he is a two-time ROH World Television Champion. Young made his World Wrestling Entertainment debut on the September 24, 2007 episode of Heat...</div></div></div><div id=\"r1-8\" class=\"result results_links_deep highlight_d result--url-above-snippet\" data-domain=\"highlander.fandom.com\" data-hostname=\"highlander.fandom.com\" data-nir=\"1\"><div class=\"result__body links_main links_deep\"><h2 class=\"result__title\"><a class=\"result__a\" rel=\"noopener\" href=\"https://highlander.fandom.com/wiki/Silas\"><b>Silas</b> | Highlander Wiki | Fandom</a><a rel=\"noopener\" class=\"result__check\" href=\"https://highlander.fandom.com/wiki/Silas\"><span class=\"result__check__tt\">Your browser indicates if you\\'ve visited this link</span></a></h2><div class=\"result__extras js-result-extras\"><div class=\"result__extras__url\"><span class=\"result__icon \"><a href=\"/?q=Silas%20Bergen+site:highlander.fandom.com&amp;t=h_\" title=\"Search domain highlander.fandom.com/wiki/Silas\" class=\"js-result-extras-site_search\"><img data-src=\"//external-content.duckduckgo.com/ip3/highlander.fandom.com.ico\" height=\"16\" width=\"16\" title=\"Search domain highlander.fandom.com/wiki/Silas\" class=\"result__icon__img js-lazyload-icons\"></a></span><a href=\"https://highlander.fandom.com/wiki/Silas\" rel=\"noopener\" class=\"result__url js-result-extras-url\"><span class=\"result__url__domain\">https://highlander.fandom.com</span><span class=\"result__url__full\">/wiki/Silas</span></a></div></div><div class=\"result__snippet js-result-snippet\"><b>Silas</b> was an Immortal, also known as War of \"The Four Horsemen, \" a group of Immortals who pillaged and killed during the Bronze Age. A brutal murderer, he also had an almost childlike quality when not engaged in the Horsemen business.</div></div></div><div id=\"r1-9\" class=\"result results_links_deep highlight_d result--url-above-snippet\" data-domain=\"www.imdb.com\" data-hostname=\"www.imdb.com\" data-nir=\"1\"><div class=\"result__body links_main links_deep\"><h2 class=\"result__title\"><a class=\"result__a\" rel=\"noopener\" href=\"https://www.imdb.com/title/tt0081929/\"><b>Silas</b> (TV Mini-Series 1981) - IMDb</a><a rel=\"noopener\" class=\"result__check\" href=\"https://www.imdb.com/title/tt0081929/\"><span class=\"result__check__tt\">Your browser indicates if you\\'ve visited this link</span></a></h2><div class=\"result__extras js-result-extras\"><div class=\"result__extras__url\"><span class=\"result__icon \"><a href=\"/?q=Silas%20Bergen+site:www.imdb.com&amp;t=h_\" title=\"Search domain www.imdb.com/title/tt0081929/\" class=\"js-result-extras-site_search\"><img data-src=\"//external-content.duckduckgo.com/ip3/www.imdb.com.ico\" height=\"16\" width=\"16\" title=\"Search domain www.imdb.com/title/tt0081929/\" class=\"result__icon__img js-lazyload-icons\"></a></span><a href=\"https://www.imdb.com/title/tt0081929/\" rel=\"noopener\" class=\"result__url js-result-extras-url\"><span class=\"result__url__domain\">https://www.imdb.com</span><span class=\"result__url__full\">/title/tt0081929/</span></a></div></div><div class=\"result__snippet js-result-snippet\">With Patrick Bach, Lucki Molocher, Ingeborg Lapsien, Nina Rothemund. <b>Silas</b>, a 13 year old boy runs away from the circus to have adventures.</div></div></div><div class=\"result result--more\" id=\"rld-1\"><a href=\"javascript:;\" class=\"result--more__btn btn btn--full\">More results</a></div><div id=\"rrd-1\" class=\"js-result-hidden-el\" style=\"display: none;\"></div></div></div><div class=\"results--sidebar js-results-sidebar\"><div class=\"sidebar-modules js-sidebar-modules\"></div><div class=\"js-sidebar-ads\"></div></div></div></div></div><div id=\"bottom_spacing2\"> </div><div class=\"nav-menu--slideout\"><ul class=\"nav-menu__list\"><i class=\"nav-menu__close  js-side-menu-close\">X</i><ul class=\"nav-menu--theme\"><li class=\"nav-menu__heading\"><span>Settings</span></li><li class=\"nav-menu__item clear\"><a href=\"/settings#theme\" data-settings=\"1\">Themes</a></li><li class=\"nav-menu__item\"><a href=\"/settings\" tabindex=\"-1\" data-settings=\"1\">Other Settings</a></li><li class=\"nav-menu__item\"><a href=\"/bangs\">!Bang Search Shortcuts</a></li></ul><ul><li class=\"nav-menu__heading\"><span>Privacy Essentials</span></li><li class=\"nav-menu__item\"><a href=\"https://duckduckgo.com/\">Private Search</a></li><li class=\"nav-menu__item\"><a href=\"/app\">App and Extension</a></li></ul><ul><li class=\"nav-menu__heading\"><span>Why Privacy</span></li><li class=\"nav-menu__item\"><a href=\"https://spreadprivacy.com/\">Privacy Blog</a></li><li class=\"nav-menu__item\"><a href=\"https://duckduckgo.com/newsletter\">Privacy Crash Course</a></li><li class=\"nav-menu__item\"><a href=\"/spread\">Help Spread Privacy</a></li></ul><ul><li class=\"nav-menu__heading\"><span>Who We Are</span></li><li class=\"nav-menu__item\"><a href=\"/about\">About Us</a></li><li class=\"nav-menu__item\"><a href=\"/privacy\">Privacy Policy</a></li><li class=\"nav-menu__item\"><a href=\"/hiring\">Careers</a></li><li class=\"nav-menu__item\"><a href=\"/press\">Press Kit</a></li></ul><ul><li class=\"nav-menu__heading\"><span>Keep in Touch</span></li><li class=\"nav-menu__item\"><a href=\"https://twitter.com/duckduckgo\">Twitter</a></li><li class=\"nav-menu__item\"><a href=\"https://duckduckgo.merchmadeeasy.com/\">Store</a></li><li class=\"nav-menu__item\"><a href=\"https://reddit.com/r/duckduckgo\">Reddit</a></li><li class=\"nav-menu__item\"><a href=\"https://help.duckduckgo.com/\">Help</a></li></ul></ul></div><div class=\"badge-link badge-link--serp  ddg-extension-hide js-badge-link\"><a class=\"badge-link__wrap js-badge-main-msg\" href=\"/install?t=h_\" target=\"_blank\"><div class=\"badge-link__thumb\"><img class=\"badge-link__thumb__img\" src=\"assets/onboarding/robot-icon-frameless.svg\"></div><p class=\"badge-link__title js-badge-link__title\">Switch to DuckDuckGo and take back your privacy!</p><ol class=\"badge-link__bullets\"><li class=\"badge-link__bullet\"><span class=\"badge-link__bullet-num\">1</span>We don\\'t store your personal info.</li><li class=\"badge-link__bullet\"><span class=\"badge-link__bullet-num\">2</span>We don\\'t follow you around with ads.</li><li class=\"badge-link__bullet\"><span class=\"badge-link__bullet-num\">3</span>We don\\'t track you. Ever.</li></ol><div class=\"badge-link__btn-group\"><span class=\"badge-link__btn btn btn--primary js-badge-link-button\">Add DuckDuckGo to Chrome</span></div><span class=\"ddgsi badge-link__close js-badge-link-dismiss\">×</span></a><div class=\"badge-link__wrap badge-link__wrap--hidden js-badge-cookie-msg\"><div class=\"badge-link__cookie-msg\"><p>Clear your cookies often?</p><p>Try our homepage that never shows these messages:</p><p><b><a href=\"https://start.duckduckgo.com\">start.duckduckgo.com</a></b></p></div><span class=\"ddgsi badge-link__close js-badge-link-close\">×</span></div></div></div><div class=\"footer\" style=\"display: block;\"><div class=\"footer__left\"><div class=\"footer_cards\"><a class=\"footer__card js-footer-card bg-clr--white\" href=\"https://duckduckgo.com/newsletter\" data-id=\"su\"><img class=\"footer__card__icon js-footer-lazysvg\" data-src=\"/assets/icons/mailbox.svg\" alt=\"\" aria-hidden=\"true\" loading=\"lazy\" height=\"50\" width=\"50\"><h3 class=\"footer__card__title tx-clr--slate\">Privacy in Your Inbox</h3><p class=\"footer__text\">Stay protected and informed with our privacy newsletters.</p></a><a class=\"footer__card js-footer-card bg-clr--white\" href=\"https://duckduckgo.com/spread\" data-id=\"sp\"><img class=\"footer__card__icon js-footer-lazysvg\" data-src=\"/assets/icons/spread.svg\" alt=\"\" aria-hidden=\"true\" loading=\"lazy\" height=\"50\" width=\"50\"><h3 class=\"footer__card__title tx-clr--slate\">Help Spread DuckDuckGo</h3><p class=\"footer__text\">Help your friends and family join the Duck Side!</p></a><a class=\"footer__card js-footer-card bg-clr--white\" href=\"https://duckduckgo.com/app\" data-id=\"bl\"><img class=\"footer__card__icon js-footer-lazysvg\" data-src=\"/assets/icons/woman.svg\" alt=\"\" aria-hidden=\"true\" loading=\"lazy\" height=\"50\" width=\"50\"><h3 class=\"footer__card__title tx-clr--slate\">Get Our App &amp; Extension</h3><p class=\"footer__text\">Protect your data on every device.</p></a></div></div><div class=\"footer__right\"><div class=\"footer__column\"><h2 class=\"footer__title tx-clr--slate-light\">Stay Informed</h2><p class=\"footer__text\">We don\\'t track you, but others do.</p><p class=\"footer__text\">Learn how to protect your privacy.</p><div class=\"footer__links\"><a href=\"https://spreadprivacy.com\" class=\"js-footer-link\" data-id=\"bl\"><img class=\"footer__social-icon js-footer-lazysvg\" data-src=\"/assets/icons/footer/blog.svg\" alt=\"\" aria-hidden=\"true\" loading=\"lazy\" height=\"20\" width=\"20\" src=\"/assets/icons/footer/blog.svg\"></a><a href=\"https://twitter.com/duckduckgo\" class=\"js-footer-link\" data-id=\"tw\"><img class=\"footer__social-icon js-footer-lazysvg\" data-src=\"/assets/icons/footer/twr.svg\" alt=\"\" aria-hidden=\"true\" loading=\"lazy\" height=\"20\" width=\"20\" src=\"/assets/icons/footer/twr.svg\"></a><a href=\"https://reddit.com/r/duckduckgo\" class=\"js-footer-link\" data-id=\"rd\"><img class=\"footer__social-icon js-footer-lazysvg\" data-src=\"/assets/icons/footer/reddit.svg\" alt=\"\" aria-hidden=\"true\" loading=\"lazy\" height=\"20\" width=\"20\" src=\"/assets/icons/footer/reddit.svg\"></a><a href=\"https://duckduckgo.com/newsletter\" class=\"js-footer-link\" data-id=\"nl\"><img class=\"footer__social-icon js-footer-lazysvg\" data-src=\"/assets/icons/footer/newsletter.svg\" alt=\"\" aria-hidden=\"true\" loading=\"lazy\" height=\"20\" width=\"20\" src=\"/assets/icons/footer/newsletter.svg\"></a></div></div></div></div><script type=\"text/javascript\"></script><script type=\"text/JavaScript\">function nrji() {nrj(\\'/t.js?q=Silas%20Bergen&t=N&l=wt-wt&s=0&ct=US&ss_mkt=us&p_ent=&ex=-1\\');nrj(\\'/d.js?q=Silas%20Bergen&t=N&l=wt-wt&s=0&a=h_&ct=US&ss_mkt=us&vqd=3-258352749540065450294438057215618183677-313127225571904235320049101278864187736&p_ent=&ex=-1&sp=1\\');;};DDG.ready(nrji, 1);</script><script src=\"/g2470.js\"></script><script type=\"text/javascript\">DDG.page = new DDG.Pages.SERP({ showSafeSearch: 0, instantAnswerAds: false, hostRegion: \"use\" });</script><div id=\"z2\"> </div><div id=\"z\"></div><script type=\"text/JavaScript\">DDG.index = DDG.index || {}; DDG.index.signalSummary = \"\";</script><iframe id=\"iframe_hidden\" src=\"/post2.html\"></iframe><style>@font-face {font-family: \\'DDG_ProximaNova_UI_0\\';src: url(\\'/font/turkish/ProximaNova-Sbold-webfont.eot\\');src: url(\\'/font/turkish/ProximaNova-Sbold-webfont.eot?#iefix\\') format(\\'embedded-opentype\\'),url(\\'/font/turkish/ProximaNova-Sbold-webfont.woff2\\') format(\\'woff2\\'),url(\\'/font/turkish/ProximaNova-Sbold-webfont.woff\\') format(\\'woff\\'),url(\\'/font/turkish/ProximaNova-Sbold-webfont.ttf\\') format(\\'truetype\\'),url(\\'/font/turkish/ProximaNova-Sbold-webfont.svg#proxima_nova_ltsemibold\\') format(\\'svg\\');font-weight: 600;font-style: normal;}@font-face {font-family: \\'DDG_ProximaNova_UI_0\\';src: url(\\'/font/turkish/ProximaNova-Reg-webfont.eot\\');src: url(\\'/font/turkish/ProximaNova-Reg-webfont.eot?#iefix\\') format(\\'embedded-opentype\\'),url(\\'/font/turkish/ProximaNova-Reg-webfont.woff2\\') format(\\'woff2\\'),url(\\'/font/turkish/ProximaNova-Reg-webfont.woff\\') format(\\'woff\\'),url(\\'/font/turkish/ProximaNova-Reg-webfont.ttf\\') format(\\'truetype\\'),url(\\'/font/turkish/ProximaNova-Reg-webfont.svg#proxima_nova_rgregular\\') format(\\'svg\\');font-weight: normal;font-style: normal;}</style></body></html>'"
            ]
          },
          "metadata": {
            "tags": []
          },
          "execution_count": 40
        }
      ]
    },
    {
      "cell_type": "code",
      "metadata": {
        "id": "V7i5B-5gHa9g",
        "outputId": "6cae206f-eef1-470d-bb35-cca60b2924c0",
        "colab": {
          "base_uri": "https://localhost:8080/",
          "height": 35
        }
      },
      "source": [
        "driver.title"
      ],
      "execution_count": null,
      "outputs": [
        {
          "output_type": "execute_result",
          "data": {
            "application/vnd.google.colaboratory.intrinsic+json": {
              "type": "string"
            },
            "text/plain": [
              "'Silas Bergen at DuckDuckGo'"
            ]
          },
          "metadata": {
            "tags": []
          },
          "execution_count": 41
        }
      ]
    },
    {
      "cell_type": "code",
      "metadata": {
        "id": "bzM0joSoHa9k",
        "outputId": "3d35e928-022c-4215-b7d9-7bd605c96b55",
        "colab": {
          "base_uri": "https://localhost:8080/",
          "height": 35
        }
      },
      "source": [
        "driver.current_url"
      ],
      "execution_count": null,
      "outputs": [
        {
          "output_type": "execute_result",
          "data": {
            "application/vnd.google.colaboratory.intrinsic+json": {
              "type": "string"
            },
            "text/plain": [
              "'https://duckduckgo.com/'"
            ]
          },
          "metadata": {
            "tags": []
          },
          "execution_count": 23
        }
      ]
    },
    {
      "cell_type": "markdown",
      "metadata": {
        "id": "LMn-ampCHa9n"
      },
      "source": [
        "## Locating the First Element\n",
        "\n",
        "Can locate by\n",
        "\n",
        "* Tag name\n",
        "* Class name\n",
        "* IDs\n",
        "* XPath\n",
        "* CSS selectors\n",
        "\n",
        "**Note:** This is the same as `find` in `bs4`"
      ]
    },
    {
      "cell_type": "code",
      "metadata": {
        "id": "AsvhFeKKHa9o",
        "outputId": "cc05fb16-42fa-468c-fa33-441788c43ee0",
        "colab": {
          "base_uri": "https://localhost:8080/"
        }
      },
      "source": [
        "p = driver.find_element_by_tag_name('p')\n",
        "p"
      ],
      "execution_count": null,
      "outputs": [
        {
          "output_type": "execute_result",
          "data": {
            "text/plain": [
              "<p class=\"showcase__subheading\">Protect your data on every device.</p>"
            ]
          },
          "metadata": {
            "tags": []
          },
          "execution_count": 24
        }
      ]
    },
    {
      "cell_type": "code",
      "metadata": {
        "id": "veFJLAiRHa9u",
        "outputId": "da14e7a5-2563-4117-dada-9e63ffdb465e",
        "colab": {
          "base_uri": "https://localhost:8080/"
        }
      },
      "source": [
        "faq_button = driver.find_element_by_class_name('faq__button')\n",
        "faq_button"
      ],
      "execution_count": null,
      "outputs": [
        {
          "output_type": "execute_result",
          "data": {
            "text/plain": [
              "<button class=\"faq__button\" aria-expanded=\"true\" aria-disabled=\"true\" aria-controls=\"faq-answer-0\" id=\"faq-btn-0\"><svg width=\"20\" height=\"21\" viewBox=\"0 0 20 21\" fill=\"none\" xmlns=\"http://www.w3.org/2000/svg\"><circle cx=\"10\" cy=\"10.5\" r=\"10\" transform=\"rotate(-180 10 10.5)\" fill=\"#E5E5E5\"></circle><path d=\"M9.94454 12.8483L13.5355 9.25736C13.7308 9.0621 14.0474 9.0621 14.2426 9.25736C14.4379 9.45262 14.4379 9.7692 14.2426 9.96447L10.3536 13.8536C10.2418 13.9653 10.0903 14.0131 9.94454 13.9969C9.79879 14.0131 9.64729 13.9653 9.53553 13.8536L5.64645 9.96447C5.45118 9.7692 5.45118 9.45262 5.64645 9.25736C5.84171 9.0621 6.15829 9.0621 6.35355 9.25736L9.94454 12.8483Z\" fill=\"#353748\"></path></svg></button>"
            ]
          },
          "metadata": {
            "tags": []
          },
          "execution_count": 25
        }
      ]
    },
    {
      "cell_type": "code",
      "metadata": {
        "id": "gjMgVcCsHa9z",
        "outputId": "9a70ea29-e4a3-45bd-a8b3-f50b5c9587e3",
        "colab": {
          "base_uri": "https://localhost:8080/"
        }
      },
      "source": [
        "error_div = driver.find_element_by_id('error_homepage')\n",
        "error_div"
      ],
      "execution_count": null,
      "outputs": [
        {
          "output_type": "execute_result",
          "data": {
            "text/plain": [
              "<div id=\"error_homepage\"></div>"
            ]
          },
          "metadata": {
            "tags": []
          },
          "execution_count": 26
        }
      ]
    },
    {
      "cell_type": "markdown",
      "metadata": {
        "id": "fLHdcrXPHa93"
      },
      "source": [
        "## Locating all the Elements\n",
        "\n",
        "Use the plural (i.e. `elements`) to `find_all` tags."
      ]
    },
    {
      "cell_type": "code",
      "metadata": {
        "id": "CVDKvV3PHa95",
        "outputId": "6e06bda5-3e15-4b70-da29-13eb2037f8cf",
        "colab": {
          "base_uri": "https://localhost:8080/"
        }
      },
      "source": [
        "a_tags = driver.find_elements_by_tag_name('a')\n",
        "a_tags"
      ],
      "execution_count": null,
      "outputs": [
        {
          "output_type": "execute_result",
          "data": {
            "text/plain": [
              "[<a tabindex=\"-1\" href=\"/?t=h_&amp;\" class=\"header__logo-wrap js-header-logo\"><span class=\"header__logo js-logo-ddg\">DuckDuckGo</span></a>,\n",
              " <a id=\"search_dropdown\" class=\"search__dropdown\" href=\"javascript:;\" tabindex=\"4\"></a>,\n",
              " <a class=\"no-visited js-acp-footer-link\" href=\"/bang\">Learn More</a>,\n",
              " <a data-zci-link=\"web\" class=\"zcm__link  js-zci-link  js-zci-link--web  is-active\" href=\"#\">All</a>,\n",
              " <a data-zci-link=\"images\" class=\"zcm__link  js-zci-link  js-zci-link--images\" href=\"#\">Images</a>,\n",
              " <a data-zci-link=\"videos\" class=\"zcm__link  js-zci-link  js-zci-link--videos\" href=\"#\">Videos</a>,\n",
              " <a data-zci-link=\"news\" class=\"zcm__link  js-zci-link  js-zci-link--news\" href=\"#\">News</a>,\n",
              " <a data-zci-link=\"maps_expanded\" class=\"zcm__link  js-zci-link  js-zci-link--maps_expanded\" href=\"#\">Maps</a>,\n",
              " <a class=\"zcm__link dropdown__button js-dropdown-button \">Settings</a>,\n",
              " <a class=\"header__button--menu  js-side-menu-open\" href=\"#\">⇶</a>,\n",
              " <a href=\"/app\" class=\"eighteen js-hl-item\" aria-hidden=\"true\" data-type=\"showcase\" data-id=\"app\"><div class=\"woman-icon\"></div></a>,\n",
              " <a href=\"/app\" class=\"text-left showcase__link eighty js-hl-item\" data-type=\"showcase\" data-id=\"app\"><h1 class=\"showcase__heading\">Get Our App &amp; Extension</h1><p class=\"showcase__subheading\">Protect your data on every device.</p></a>,\n",
              " <a href=\"/newsletter\" class=\"eighteen js-hl-item\" aria-hidden=\"true\" data-type=\"showcase\" data-id=\"newsletter\"><div class=\"mailbox-icon\"></div></a>,\n",
              " <a href=\"/newsletter\" class=\"text-left showcase__link eighty js-hl-item\" data-type=\"showcase\" data-id=\"newsletter\"><h1 class=\"showcase__heading\">Privacy in Your Inbox</h1><p class=\"showcase__subheading\">Stay protected and informed with our privacy newsletters.</p></a>,\n",
              " <a href=\"https://spreadprivacy.com/tag/device-privacy-tips/\" class=\"eighteen js-hl-item\" aria-hidden=\"true\" data-type=\"showcase\" data-id=\"blog\"><div class=\"privacy-simplified-icon\"></div></a>,\n",
              " <a href=\"https://spreadprivacy.com/tag/device-privacy-tips/\" class=\"text-left showcase__link eighty js-hl-item\" data-type=\"showcase\" data-id=\"blog\"><h1 class=\"showcase__heading\">Protect Your Devices</h1><p class=\"showcase__subheading\">Check out our privacy device guides.</p></a>,\n",
              " <a href=\"https://duckduckgo.com/spread\" class=\"eighteen js-hl-item\" aria-hidden=\"true\" data-type=\"showcase\" data-id=\"spread\"><div class=\"spread-icon\"></div></a>,\n",
              " <a href=\"https://duckduckgo.com/spread\" class=\"text-left showcase__link eighty js-hl-item\" data-type=\"showcase\" data-id=\"spread\"><h1 class=\"showcase__heading\">Spread DuckDuckGo</h1><p class=\"showcase__subheading\">Help your friends and family join the Duck Side!</p></a>,\n",
              " <a href=\"https://duckduckgo.com/donations\" class=\"eighteen showcase__icon js-hl-item\" aria-hidden=\"true\" data-type=\"showcase\" data-id=\"donations\"><div class=\"donations-icon\"></div></a>,\n",
              " <a href=\"https://duckduckgo.com/donations\" class=\"text-left showcase__link eighty showcase__text js-hl-item\" data-type=\"showcase\" data-id=\"donations\">$2,650,000 in privacy donations!</a>,\n",
              " <a href=\"https://duckduckgo.com/traffic\" class=\"eighteen showcase__icon js-hl-item\" aria-hidden=\"true\" data-type=\"showcase\" data-id=\"traffic\"><div class=\"traffic-icon\"></div></a>,\n",
              " <a href=\"https://duckduckgo.com/traffic\" class=\"text-left showcase__link eighty showcase__text js-hl-item\" data-type=\"showcase\" data-id=\"traffic\">Over 59 Billion anonymous searches.</a>,\n",
              " <a href=\"https://donttrack.us/\" class=\"eighteen showcase__icon js-hl-item\" aria-hidden=\"true\" data-type=\"showcase\" data-id=\"dnt\"><div class=\"privacy-tips-icon\"></div></a>,\n",
              " <a href=\"https://donttrack.us/\" class=\"text-left showcase__link eighty showcase__text js-hl-item\" data-type=\"showcase\" data-id=\"dnt\">Learn why reducing tracking is important.</a>,\n",
              " <a href=\"https://twitter.com/duckduckgo\" class=\"js-hl-item social__link__text\" data-type=\"social\" data-id=\"twitter\"><img class=\"social__icon js-lazysvg\" data-src=\"/assets/icons/header/twitter.svg\"><span>Twitter</span></a>,\n",
              " <a href=\"https://reddit.com/r/duckduckgo\" class=\"js-hl-item social__link__text\" data-type=\"social\" data-id=\"reddit\"><img class=\"social__icon js-lazysvg\" data-src=\"/assets/icons/header/reddit.svg\"><span>Reddit</span></a>,\n",
              " <a href=\"https://spreadprivacy.com\" class=\"js-hl-item social__link__text\" data-type=\"social\" data-id=\"blog\"><img class=\"social__icon js-lazysvg\" data-src=\"/assets/icons/header/blog.svg\"><span>Blog</span></a>,\n",
              " <a href=\"https://duckduckgo.com/newsletter\" class=\"js-hl-item social__link__text\" data-type=\"social\" data-id=\"newsletter\"><img class=\"social__icon js-lazysvg\" data-src=\"/assets/icons/header/newsletter.svg\"><span>Newsletter</span></a>,\n",
              " <a href=\"#\" class=\"feedback-btn__send js-feedback-start\">Send feedback</a>,\n",
              " <a href=\"#\" class=\"feedback-btn__icon ddgsi feedback-btn__icon--love js-feedback-love\"></a>,\n",
              " <a href=\"#\" class=\"feedback-btn__icon ddgsi feedback-btn__icon--nolove js-feedback-nolove\"></a>,\n",
              " <a class=\"dropdown__button dropdown__button js-dropdown-button\">All Regions</a>,\n",
              " <a href=\"#\" class=\"dropdown__button js-dropdown-button\">Safe Search: Moderate</a>,\n",
              " <a href=\"#\" class=\"dropdown__button js-dropdown-button\">Any Time</a>,\n",
              " <a class=\"result__a\" rel=\"noopener\" href=\"http://driftlessdata.space/\"><b>Silas</b> <b>Bergen</b></a>,\n",
              " <a rel=\"noopener\" class=\"result__check\" href=\"http://driftlessdata.space/\"><span class=\"result__check__tt\">Your browser indicates if you've visited this link</span></a>,\n",
              " <a href=\"/?q=Silas%20Bergen+site:driftlessdata.space&amp;t=h_\" title=\"Search domain driftlessdata.space\" class=\"js-result-extras-site_search\"><img data-src=\"//external-content.duckduckgo.com/ip3/driftlessdata.space.ico\" height=\"16\" width=\"16\" title=\"Search domain driftlessdata.space\" class=\"result__icon__img js-lazyload-icons\" src=\"//external-content.duckduckgo.com/ip3/driftlessdata.space.ico\"></a>,\n",
              " <a href=\"http://driftlessdata.space/\" rel=\"noopener\" class=\"result__url js-result-extras-url\"><span class=\"result__url__domain\">driftlessdata.space</span><span class=\"result__url__full\"></span></a>,\n",
              " <a class=\"result__a\" rel=\"noopener\" href=\"https://www.pubfacts.com/author/Silas+Bergen\">Publications Authored by <b>Silas</b> <b>Bergen</b> | PubFacts</a>,\n",
              " <a rel=\"noopener\" class=\"result__check\" href=\"https://www.pubfacts.com/author/Silas+Bergen\"><span class=\"result__check__tt\">Your browser indicates if you've visited this link</span></a>,\n",
              " <a href=\"/?q=Silas%20Bergen+site:www.pubfacts.com&amp;t=h_\" title=\"Search domain www.pubfacts.com/author/Silas+Bergen\" class=\"js-result-extras-site_search\"><img data-src=\"//external-content.duckduckgo.com/ip3/www.pubfacts.com.ico\" height=\"16\" width=\"16\" title=\"Search domain www.pubfacts.com/author/Silas+Bergen\" class=\"result__icon__img js-lazyload-icons\" src=\"//external-content.duckduckgo.com/ip3/www.pubfacts.com.ico\"></a>,\n",
              " <a href=\"https://www.pubfacts.com/author/Silas+Bergen\" rel=\"noopener\" class=\"result__url js-result-extras-url\"><span class=\"result__url__domain\">https://www.pubfacts.com</span><span class=\"result__url__full\">/author/Silas+Bergen</span></a>,\n",
              " <a class=\"result__a\" rel=\"noopener\" href=\"https://www.facebook.com/silas.bergen.5\"><b>Silas</b> <b>Bergen</b> | Facebook</a>,\n",
              " <a rel=\"noopener\" class=\"result__check\" href=\"https://www.facebook.com/silas.bergen.5\"><span class=\"result__check__tt\">Your browser indicates if you've visited this link</span></a>,\n",
              " <a href=\"/?q=Silas%20Bergen+site:www.facebook.com&amp;t=h_\" title=\"Search domain www.facebook.com/silas.bergen.5\" class=\"js-result-extras-site_search\"><img data-src=\"//external-content.duckduckgo.com/ip3/www.facebook.com.ico\" height=\"16\" width=\"16\" title=\"Search domain www.facebook.com/silas.bergen.5\" class=\"result__icon__img js-lazyload-icons\" src=\"//external-content.duckduckgo.com/ip3/www.facebook.com.ico\"></a>,\n",
              " <a href=\"https://www.facebook.com/silas.bergen.5\" rel=\"noopener\" class=\"result__url js-result-extras-url\"><span class=\"result__url__domain\">https://www.facebook.com</span><span class=\"result__url__full\">/silas.bergen.5</span></a>,\n",
              " <a class=\"result__a\" rel=\"noopener\" href=\"https://www.semanticscholar.org/author/Silas-Bergen/48578284\"><b>Silas</b> <b>Bergen</b> | Semantic Scholar</a>,\n",
              " <a rel=\"noopener\" class=\"result__check\" href=\"https://www.semanticscholar.org/author/Silas-Bergen/48578284\"><span class=\"result__check__tt\">Your browser indicates if you've visited this link</span></a>,\n",
              " <a href=\"/?q=Silas%20Bergen+site:www.semanticscholar.org&amp;t=h_\" title=\"Search domain www.semanticscholar.org/author/Silas-Bergen/48578284\" class=\"js-result-extras-site_search\"><img data-src=\"//external-content.duckduckgo.com/ip3/www.semanticscholar.org.ico\" height=\"16\" width=\"16\" title=\"Search domain www.semanticscholar.org/author/Silas-Bergen/48578284\" class=\"result__icon__img js-lazyload-icons\" src=\"//external-content.duckduckgo.com/ip3/www.semanticscholar.org.ico\"></a>,\n",
              " <a href=\"https://www.semanticscholar.org/author/Silas-Bergen/48578284\" rel=\"noopener\" class=\"result__url js-result-extras-url\"><span class=\"result__url__domain\">https://www.semanticscholar.org</span><span class=\"result__url__full\">/author/Silas-Bergen/48578284</span></a>,\n",
              " <a class=\"result__a\" rel=\"noopener\" href=\"https://www.goodreads.com/user/show/55807579-silas-bergen\"><b>Silas</b> <b>Bergen</b> - Winona, MN (67 books)</a>,\n",
              " <a rel=\"noopener\" class=\"result__check\" href=\"https://www.goodreads.com/user/show/55807579-silas-bergen\"><span class=\"result__check__tt\">Your browser indicates if you've visited this link</span></a>,\n",
              " <a href=\"/?q=Silas%20Bergen+site:www.goodreads.com&amp;t=h_\" title=\"Search domain www.goodreads.com/user/show/55807579-silas-bergen\" class=\"js-result-extras-site_search\"><img data-src=\"//external-content.duckduckgo.com/ip3/www.goodreads.com.ico\" height=\"16\" width=\"16\" title=\"Search domain www.goodreads.com/user/show/55807579-silas-bergen\" class=\"result__icon__img js-lazyload-icons\"></a>,\n",
              " <a href=\"https://www.goodreads.com/user/show/55807579-silas-bergen\" rel=\"noopener\" class=\"result__url js-result-extras-url\"><span class=\"result__url__domain\">https://www.goodreads.com</span><span class=\"result__url__full\">/user/show/55807579-silas-bergen</span></a>,\n",
              " <a class=\"result__a\" rel=\"noopener\" href=\"https://www.instagram.com/silasbjerregaard/?hl=en\"><b>Silas</b> Bjerregaard (@silasbjerregaard) • Instagram photos and videos</a>,\n",
              " <a rel=\"noopener\" class=\"result__check\" href=\"https://www.instagram.com/silasbjerregaard/?hl=en\"><span class=\"result__check__tt\">Your browser indicates if you've visited this link</span></a>,\n",
              " <a href=\"/?q=Silas%20Bergen+site:www.instagram.com&amp;t=h_\" title=\"Search domain www.instagram.com/silasbjerregaard/?hl=en\" class=\"js-result-extras-site_search\"><img data-src=\"//external-content.duckduckgo.com/ip3/www.instagram.com.ico\" height=\"16\" width=\"16\" title=\"Search domain www.instagram.com/silasbjerregaard/?hl=en\" class=\"result__icon__img js-lazyload-icons\"></a>,\n",
              " <a href=\"https://www.instagram.com/silasbjerregaard/?hl=en\" rel=\"noopener\" class=\"result__url js-result-extras-url\"><span class=\"result__url__domain\">https://www.instagram.com</span><span class=\"result__url__full\">/silasbjerregaard/?hl=en</span></a>,\n",
              " <a class=\"result__a\" rel=\"noopener\" href=\"https://en.visitbergen.com/visitor-information/travel-information/skyss-bus-and-bergen-light-rail-p913973\">Skyss (bus and <b>Bergen</b> Light Rail) - visitBergen.com</a>,\n",
              " <a rel=\"noopener\" class=\"result__check\" href=\"https://en.visitbergen.com/visitor-information/travel-information/skyss-bus-and-bergen-light-rail-p913973\"><span class=\"result__check__tt\">Your browser indicates if you've visited this link</span></a>,\n",
              " <a href=\"/?q=Silas%20Bergen+site:en.visitbergen.com&amp;t=h_\" title=\"Search domain en.visitbergen.com/visitor-information/travel-information/skyss-bus-and-bergen-light-rail-p913973\" class=\"js-result-extras-site_search\"><img data-src=\"//external-content.duckduckgo.com/ip3/en.visitbergen.com.ico\" height=\"16\" width=\"16\" title=\"Search domain en.visitbergen.com/visitor-information/travel-information/skyss-bus-and-bergen-light-rail-p913973\" class=\"result__icon__img js-lazyload-icons\"></a>,\n",
              " <a href=\"https://en.visitbergen.com/visitor-information/travel-information/skyss-bus-and-bergen-light-rail-p913973\" rel=\"noopener\" class=\"result__url js-result-extras-url\"><span class=\"result__url__domain\">https://en.visitbergen.com</span><span class=\"result__url__full\">/visitor-information/travel-information/skyss-bus-and-bergen-light-rail-p913973</span></a>,\n",
              " <a class=\"result__a\" rel=\"noopener\" href=\"https://en.wikipedia.org/wiki/Silas_Young\"><b>Silas</b> Young - Wikipedia</a>,\n",
              " <a rel=\"noopener\" class=\"result__check\" href=\"https://en.wikipedia.org/wiki/Silas_Young\"><span class=\"result__check__tt\">Your browser indicates if you've visited this link</span></a>,\n",
              " <a href=\"/?q=Silas%20Bergen+site:en.wikipedia.org&amp;t=h_\" title=\"Search domain en.wikipedia.org/wiki/Silas_Young\" class=\"js-result-extras-site_search\"><img data-src=\"/assets/icons/favicons/wikipedia.png\" height=\"16\" width=\"16\" title=\"Search domain en.wikipedia.org/wiki/Silas_Young\" class=\"result__icon__img js-lazyload-icons\"></a>,\n",
              " <a href=\"https://en.wikipedia.org/wiki/Silas_Young\" rel=\"noopener\" class=\"result__url js-result-extras-url\"><span class=\"result__url__domain\">https://en.wikipedia.org</span><span class=\"result__url__full\">/wiki/Silas_Young</span></a>,\n",
              " <a class=\"result__a\" rel=\"noopener\" href=\"https://highlander.fandom.com/wiki/Silas\"><b>Silas</b> | Highlander Wiki | Fandom</a>,\n",
              " <a rel=\"noopener\" class=\"result__check\" href=\"https://highlander.fandom.com/wiki/Silas\"><span class=\"result__check__tt\">Your browser indicates if you've visited this link</span></a>,\n",
              " <a href=\"/?q=Silas%20Bergen+site:highlander.fandom.com&amp;t=h_\" title=\"Search domain highlander.fandom.com/wiki/Silas\" class=\"js-result-extras-site_search\"><img data-src=\"//external-content.duckduckgo.com/ip3/highlander.fandom.com.ico\" height=\"16\" width=\"16\" title=\"Search domain highlander.fandom.com/wiki/Silas\" class=\"result__icon__img js-lazyload-icons\"></a>,\n",
              " <a href=\"https://highlander.fandom.com/wiki/Silas\" rel=\"noopener\" class=\"result__url js-result-extras-url\"><span class=\"result__url__domain\">https://highlander.fandom.com</span><span class=\"result__url__full\">/wiki/Silas</span></a>,\n",
              " <a class=\"result__a\" rel=\"noopener\" href=\"https://www.imdb.com/title/tt0081929/\"><b>Silas</b> (TV Mini-Series 1981) - IMDb</a>,\n",
              " <a rel=\"noopener\" class=\"result__check\" href=\"https://www.imdb.com/title/tt0081929/\"><span class=\"result__check__tt\">Your browser indicates if you've visited this link</span></a>,\n",
              " <a href=\"/?q=Silas%20Bergen+site:www.imdb.com&amp;t=h_\" title=\"Search domain www.imdb.com/title/tt0081929/\" class=\"js-result-extras-site_search\"><img data-src=\"//external-content.duckduckgo.com/ip3/www.imdb.com.ico\" height=\"16\" width=\"16\" title=\"Search domain www.imdb.com/title/tt0081929/\" class=\"result__icon__img js-lazyload-icons\"></a>,\n",
              " <a href=\"https://www.imdb.com/title/tt0081929/\" rel=\"noopener\" class=\"result__url js-result-extras-url\"><span class=\"result__url__domain\">https://www.imdb.com</span><span class=\"result__url__full\">/title/tt0081929/</span></a>,\n",
              " <a href=\"javascript:;\" class=\"result--more__btn btn btn--full\">More results</a>,\n",
              " <a href=\"/settings#theme\" data-settings=\"1\">Themes</a>,\n",
              " <a href=\"/settings\" tabindex=\"-1\" data-settings=\"1\">Other Settings</a>,\n",
              " <a href=\"/bangs\">!Bang Search Shortcuts</a>,\n",
              " <a href=\"https://duckduckgo.com/\">Private Search</a>,\n",
              " <a href=\"/app\">App and Extension</a>,\n",
              " <a href=\"https://spreadprivacy.com/\">Privacy Blog</a>,\n",
              " <a href=\"https://duckduckgo.com/newsletter\">Privacy Crash Course</a>,\n",
              " <a href=\"/spread\">Help Spread Privacy</a>,\n",
              " <a href=\"/about\">About Us</a>,\n",
              " <a href=\"/privacy\">Privacy Policy</a>,\n",
              " <a href=\"/hiring\">Careers</a>,\n",
              " <a href=\"/press\">Press Kit</a>,\n",
              " <a href=\"https://twitter.com/duckduckgo\">Twitter</a>,\n",
              " <a href=\"https://duckduckgo.merchmadeeasy.com/\">Store</a>,\n",
              " <a href=\"https://reddit.com/r/duckduckgo\">Reddit</a>,\n",
              " <a href=\"https://help.duckduckgo.com/\">Help</a>,\n",
              " <a class=\"badge-link__wrap js-badge-main-msg\" href=\"/install?t=h_\" target=\"_blank\"><div class=\"badge-link__thumb\"><img class=\"badge-link__thumb__img\" src=\"assets/onboarding/robot-icon-frameless.svg\"></div><p class=\"badge-link__title js-badge-link__title\">Switch to DuckDuckGo and take back your privacy!</p><ol class=\"badge-link__bullets\"><li class=\"badge-link__bullet\"><span class=\"badge-link__bullet-num\">1</span>We don't store your personal info.</li><li class=\"badge-link__bullet\"><span class=\"badge-link__bullet-num\">2</span>We don't follow you around with ads.</li><li class=\"badge-link__bullet\"><span class=\"badge-link__bullet-num\">3</span>We don't track you. Ever.</li></ol><div class=\"badge-link__btn-group\"><span class=\"badge-link__btn btn btn--primary js-badge-link-button\">Add DuckDuckGo to Chrome</span></div><span class=\"ddgsi badge-link__close js-badge-link-dismiss\">×</span></a>,\n",
              " <a href=\"https://start.duckduckgo.com\">start.duckduckgo.com</a>,\n",
              " <a class=\"footer__card js-footer-card bg-clr--white\" href=\"https://duckduckgo.com/newsletter\" data-id=\"su\"><img class=\"footer__card__icon js-footer-lazysvg\" data-src=\"/assets/icons/mailbox.svg\" alt=\"\" aria-hidden=\"true\" loading=\"lazy\" height=\"50\" width=\"50\"><h3 class=\"footer__card__title tx-clr--slate\">Privacy in Your Inbox</h3><p class=\"footer__text\">Stay protected and informed with our privacy newsletters.</p></a>,\n",
              " <a class=\"footer__card js-footer-card bg-clr--white\" href=\"https://duckduckgo.com/spread\" data-id=\"sp\"><img class=\"footer__card__icon js-footer-lazysvg\" data-src=\"/assets/icons/spread.svg\" alt=\"\" aria-hidden=\"true\" loading=\"lazy\" height=\"50\" width=\"50\"><h3 class=\"footer__card__title tx-clr--slate\">Help Spread DuckDuckGo</h3><p class=\"footer__text\">Help your friends and family join the Duck Side!</p></a>,\n",
              " <a class=\"footer__card js-footer-card bg-clr--white\" href=\"https://duckduckgo.com/app\" data-id=\"bl\"><img class=\"footer__card__icon js-footer-lazysvg\" data-src=\"/assets/icons/woman.svg\" alt=\"\" aria-hidden=\"true\" loading=\"lazy\" height=\"50\" width=\"50\"><h3 class=\"footer__card__title tx-clr--slate\">Get Our App &amp; Extension</h3><p class=\"footer__text\">Protect your data on every device.</p></a>,\n",
              " <a href=\"https://spreadprivacy.com\" class=\"js-footer-link\" data-id=\"bl\"><img class=\"footer__social-icon js-footer-lazysvg\" data-src=\"/assets/icons/footer/blog.svg\" alt=\"\" aria-hidden=\"true\" loading=\"lazy\" height=\"20\" width=\"20\" src=\"/assets/icons/footer/blog.svg\"></a>,\n",
              " <a href=\"https://twitter.com/duckduckgo\" class=\"js-footer-link\" data-id=\"tw\"><img class=\"footer__social-icon js-footer-lazysvg\" data-src=\"/assets/icons/footer/twr.svg\" alt=\"\" aria-hidden=\"true\" loading=\"lazy\" height=\"20\" width=\"20\" src=\"/assets/icons/footer/twr.svg\"></a>,\n",
              " <a href=\"https://reddit.com/r/duckduckgo\" class=\"js-footer-link\" data-id=\"rd\"><img class=\"footer__social-icon js-footer-lazysvg\" data-src=\"/assets/icons/footer/reddit.svg\" alt=\"\" aria-hidden=\"true\" loading=\"lazy\" height=\"20\" width=\"20\" src=\"/assets/icons/footer/reddit.svg\"></a>,\n",
              " <a href=\"https://duckduckgo.com/newsletter\" class=\"js-footer-link\" data-id=\"nl\"><img class=\"footer__social-icon js-footer-lazysvg\" data-src=\"/assets/icons/footer/newsletter.svg\" alt=\"\" aria-hidden=\"true\" loading=\"lazy\" height=\"20\" width=\"20\" src=\"/assets/icons/footer/newsletter.svg\"></a>]"
            ]
          },
          "metadata": {
            "tags": []
          },
          "execution_count": 42
        }
      ]
    },
    {
      "cell_type": "markdown",
      "metadata": {
        "id": "9hTlolsJHa9_"
      },
      "source": [
        "## The `WebElement` object\n",
        "\n",
        "`selenium` object representing an `html` tag."
      ]
    },
    {
      "cell_type": "code",
      "metadata": {
        "id": "w-KLMKXLHa-A",
        "outputId": "71a4fd55-e2a9-46d4-9db9-162e0f3a065e",
        "colab": {
          "base_uri": "https://localhost:8080/",
          "height": 35
        }
      },
      "source": [
        "p.text"
      ],
      "execution_count": null,
      "outputs": [
        {
          "output_type": "execute_result",
          "data": {
            "application/vnd.google.colaboratory.intrinsic+json": {
              "type": "string"
            },
            "text/plain": [
              "''"
            ]
          },
          "metadata": {
            "tags": []
          },
          "execution_count": 28
        }
      ]
    },
    {
      "cell_type": "code",
      "metadata": {
        "id": "QB1IIuDUHa-E",
        "outputId": "070c0e09-e78a-40dd-c309-6fdd2b4cee9f",
        "colab": {
          "base_uri": "https://localhost:8080/",
          "height": 323
        }
      },
      "source": [
        "faq_button.click()"
      ],
      "execution_count": null,
      "outputs": [
        {
          "output_type": "error",
          "ename": "StaleElementReferenceException",
          "evalue": "ignored",
          "traceback": [
            "\u001b[0;31m---------------------------------------------------------------------------\u001b[0m",
            "\u001b[0;31mStaleElementReferenceException\u001b[0m            Traceback (most recent call last)",
            "\u001b[0;32m<ipython-input-34-e790a3057735>\u001b[0m in \u001b[0;36m<module>\u001b[0;34m()\u001b[0m\n\u001b[0;32m----> 1\u001b[0;31m \u001b[0mfaq_button\u001b[0m\u001b[0;34m.\u001b[0m\u001b[0mclick\u001b[0m\u001b[0;34m(\u001b[0m\u001b[0;34m)\u001b[0m\u001b[0;34m\u001b[0m\u001b[0;34m\u001b[0m\u001b[0m\n\u001b[0m",
            "\u001b[0;32m/usr/local/lib/python3.6/dist-packages/selenium/webdriver/remote/webelement.py\u001b[0m in \u001b[0;36mclick\u001b[0;34m(self)\u001b[0m\n\u001b[1;32m     78\u001b[0m     \u001b[0;32mdef\u001b[0m \u001b[0mclick\u001b[0m\u001b[0;34m(\u001b[0m\u001b[0mself\u001b[0m\u001b[0;34m)\u001b[0m\u001b[0;34m:\u001b[0m\u001b[0;34m\u001b[0m\u001b[0;34m\u001b[0m\u001b[0m\n\u001b[1;32m     79\u001b[0m         \u001b[0;34m\"\"\"Clicks the element.\"\"\"\u001b[0m\u001b[0;34m\u001b[0m\u001b[0;34m\u001b[0m\u001b[0m\n\u001b[0;32m---> 80\u001b[0;31m         \u001b[0mself\u001b[0m\u001b[0;34m.\u001b[0m\u001b[0m_execute\u001b[0m\u001b[0;34m(\u001b[0m\u001b[0mCommand\u001b[0m\u001b[0;34m.\u001b[0m\u001b[0mCLICK_ELEMENT\u001b[0m\u001b[0;34m)\u001b[0m\u001b[0;34m\u001b[0m\u001b[0;34m\u001b[0m\u001b[0m\n\u001b[0m\u001b[1;32m     81\u001b[0m \u001b[0;34m\u001b[0m\u001b[0m\n\u001b[1;32m     82\u001b[0m     \u001b[0;32mdef\u001b[0m \u001b[0msubmit\u001b[0m\u001b[0;34m(\u001b[0m\u001b[0mself\u001b[0m\u001b[0;34m)\u001b[0m\u001b[0;34m:\u001b[0m\u001b[0;34m\u001b[0m\u001b[0;34m\u001b[0m\u001b[0m\n",
            "\u001b[0;32m/usr/local/lib/python3.6/dist-packages/selenium/webdriver/remote/webelement.py\u001b[0m in \u001b[0;36m_execute\u001b[0;34m(self, command, params)\u001b[0m\n\u001b[1;32m    631\u001b[0m             \u001b[0mparams\u001b[0m \u001b[0;34m=\u001b[0m \u001b[0;34m{\u001b[0m\u001b[0;34m}\u001b[0m\u001b[0;34m\u001b[0m\u001b[0;34m\u001b[0m\u001b[0m\n\u001b[1;32m    632\u001b[0m         \u001b[0mparams\u001b[0m\u001b[0;34m[\u001b[0m\u001b[0;34m'id'\u001b[0m\u001b[0;34m]\u001b[0m \u001b[0;34m=\u001b[0m \u001b[0mself\u001b[0m\u001b[0;34m.\u001b[0m\u001b[0m_id\u001b[0m\u001b[0;34m\u001b[0m\u001b[0;34m\u001b[0m\u001b[0m\n\u001b[0;32m--> 633\u001b[0;31m         \u001b[0;32mreturn\u001b[0m \u001b[0mself\u001b[0m\u001b[0;34m.\u001b[0m\u001b[0m_parent\u001b[0m\u001b[0;34m.\u001b[0m\u001b[0mexecute\u001b[0m\u001b[0;34m(\u001b[0m\u001b[0mcommand\u001b[0m\u001b[0;34m,\u001b[0m \u001b[0mparams\u001b[0m\u001b[0;34m)\u001b[0m\u001b[0;34m\u001b[0m\u001b[0;34m\u001b[0m\u001b[0m\n\u001b[0m\u001b[1;32m    634\u001b[0m \u001b[0;34m\u001b[0m\u001b[0m\n\u001b[1;32m    635\u001b[0m     \u001b[0;32mdef\u001b[0m \u001b[0mfind_element\u001b[0m\u001b[0;34m(\u001b[0m\u001b[0mself\u001b[0m\u001b[0;34m,\u001b[0m \u001b[0mby\u001b[0m\u001b[0;34m=\u001b[0m\u001b[0mBy\u001b[0m\u001b[0;34m.\u001b[0m\u001b[0mID\u001b[0m\u001b[0;34m,\u001b[0m \u001b[0mvalue\u001b[0m\u001b[0;34m=\u001b[0m\u001b[0;32mNone\u001b[0m\u001b[0;34m)\u001b[0m\u001b[0;34m:\u001b[0m\u001b[0;34m\u001b[0m\u001b[0;34m\u001b[0m\u001b[0m\n",
            "\u001b[0;32m/usr/local/lib/python3.6/dist-packages/selenium/webdriver/remote/webdriver.py\u001b[0m in \u001b[0;36mexecute\u001b[0;34m(self, driver_command, params)\u001b[0m\n\u001b[1;32m    319\u001b[0m         \u001b[0mresponse\u001b[0m \u001b[0;34m=\u001b[0m \u001b[0mself\u001b[0m\u001b[0;34m.\u001b[0m\u001b[0mcommand_executor\u001b[0m\u001b[0;34m.\u001b[0m\u001b[0mexecute\u001b[0m\u001b[0;34m(\u001b[0m\u001b[0mdriver_command\u001b[0m\u001b[0;34m,\u001b[0m \u001b[0mparams\u001b[0m\u001b[0;34m)\u001b[0m\u001b[0;34m\u001b[0m\u001b[0;34m\u001b[0m\u001b[0m\n\u001b[1;32m    320\u001b[0m         \u001b[0;32mif\u001b[0m \u001b[0mresponse\u001b[0m\u001b[0;34m:\u001b[0m\u001b[0;34m\u001b[0m\u001b[0;34m\u001b[0m\u001b[0m\n\u001b[0;32m--> 321\u001b[0;31m             \u001b[0mself\u001b[0m\u001b[0;34m.\u001b[0m\u001b[0merror_handler\u001b[0m\u001b[0;34m.\u001b[0m\u001b[0mcheck_response\u001b[0m\u001b[0;34m(\u001b[0m\u001b[0mresponse\u001b[0m\u001b[0;34m)\u001b[0m\u001b[0;34m\u001b[0m\u001b[0;34m\u001b[0m\u001b[0m\n\u001b[0m\u001b[1;32m    322\u001b[0m             response['value'] = self._unwrap_value(\n\u001b[1;32m    323\u001b[0m                 response.get('value', None))\n",
            "\u001b[0;32m/usr/local/lib/python3.6/dist-packages/selenium/webdriver/remote/errorhandler.py\u001b[0m in \u001b[0;36mcheck_response\u001b[0;34m(self, response)\u001b[0m\n\u001b[1;32m    240\u001b[0m                 \u001b[0malert_text\u001b[0m \u001b[0;34m=\u001b[0m \u001b[0mvalue\u001b[0m\u001b[0;34m[\u001b[0m\u001b[0;34m'alert'\u001b[0m\u001b[0;34m]\u001b[0m\u001b[0;34m.\u001b[0m\u001b[0mget\u001b[0m\u001b[0;34m(\u001b[0m\u001b[0;34m'text'\u001b[0m\u001b[0;34m)\u001b[0m\u001b[0;34m\u001b[0m\u001b[0;34m\u001b[0m\u001b[0m\n\u001b[1;32m    241\u001b[0m             \u001b[0;32mraise\u001b[0m \u001b[0mexception_class\u001b[0m\u001b[0;34m(\u001b[0m\u001b[0mmessage\u001b[0m\u001b[0;34m,\u001b[0m \u001b[0mscreen\u001b[0m\u001b[0;34m,\u001b[0m \u001b[0mstacktrace\u001b[0m\u001b[0;34m,\u001b[0m \u001b[0malert_text\u001b[0m\u001b[0;34m)\u001b[0m\u001b[0;34m\u001b[0m\u001b[0;34m\u001b[0m\u001b[0m\n\u001b[0;32m--> 242\u001b[0;31m         \u001b[0;32mraise\u001b[0m \u001b[0mexception_class\u001b[0m\u001b[0;34m(\u001b[0m\u001b[0mmessage\u001b[0m\u001b[0;34m,\u001b[0m \u001b[0mscreen\u001b[0m\u001b[0;34m,\u001b[0m \u001b[0mstacktrace\u001b[0m\u001b[0;34m)\u001b[0m\u001b[0;34m\u001b[0m\u001b[0;34m\u001b[0m\u001b[0m\n\u001b[0m\u001b[1;32m    243\u001b[0m \u001b[0;34m\u001b[0m\u001b[0m\n\u001b[1;32m    244\u001b[0m     \u001b[0;32mdef\u001b[0m \u001b[0m_value_or_default\u001b[0m\u001b[0;34m(\u001b[0m\u001b[0mself\u001b[0m\u001b[0;34m,\u001b[0m \u001b[0mobj\u001b[0m\u001b[0;34m,\u001b[0m \u001b[0mkey\u001b[0m\u001b[0;34m,\u001b[0m \u001b[0mdefault\u001b[0m\u001b[0;34m)\u001b[0m\u001b[0;34m:\u001b[0m\u001b[0;34m\u001b[0m\u001b[0;34m\u001b[0m\u001b[0m\n",
            "\u001b[0;31mStaleElementReferenceException\u001b[0m: Message: stale element reference: element is not attached to the page document\n  (Session info: headless chrome=86.0.4240.75)\n"
          ]
        }
      ]
    },
    {
      "cell_type": "code",
      "metadata": {
        "id": "7frS7fR6Ha-I",
        "outputId": "ba546f2e-c1d3-49b7-8d46-0d2311d9cacc",
        "colab": {
          "base_uri": "https://localhost:8080/",
          "height": 323
        }
      },
      "source": [
        "faq_button.get_attribute('class')"
      ],
      "execution_count": null,
      "outputs": [
        {
          "output_type": "error",
          "ename": "StaleElementReferenceException",
          "evalue": "ignored",
          "traceback": [
            "\u001b[0;31m---------------------------------------------------------------------------\u001b[0m",
            "\u001b[0;31mStaleElementReferenceException\u001b[0m            Traceback (most recent call last)",
            "\u001b[0;32m<ipython-input-51-050aa347e40a>\u001b[0m in \u001b[0;36m<module>\u001b[0;34m()\u001b[0m\n\u001b[0;32m----> 1\u001b[0;31m \u001b[0mfaq_button\u001b[0m\u001b[0;34m.\u001b[0m\u001b[0mget_attribute\u001b[0m\u001b[0;34m(\u001b[0m\u001b[0;34m'class'\u001b[0m\u001b[0;34m)\u001b[0m\u001b[0;34m\u001b[0m\u001b[0;34m\u001b[0m\u001b[0m\n\u001b[0m",
            "\u001b[0;32m/usr/local/lib/python3.6/dist-packages/selenium/webdriver/remote/webelement.py\u001b[0m in \u001b[0;36mget_attribute\u001b[0;34m(self, name)\u001b[0m\n\u001b[1;32m    139\u001b[0m             attributeValue = self.parent.execute_script(\n\u001b[1;32m    140\u001b[0m                 \u001b[0;34m\"return (%s).apply(null, arguments);\"\u001b[0m \u001b[0;34m%\u001b[0m \u001b[0mgetAttribute_js\u001b[0m\u001b[0;34m,\u001b[0m\u001b[0;34m\u001b[0m\u001b[0;34m\u001b[0m\u001b[0m\n\u001b[0;32m--> 141\u001b[0;31m                 self, name)\n\u001b[0m\u001b[1;32m    142\u001b[0m         \u001b[0;32melse\u001b[0m\u001b[0;34m:\u001b[0m\u001b[0;34m\u001b[0m\u001b[0;34m\u001b[0m\u001b[0m\n\u001b[1;32m    143\u001b[0m             \u001b[0mresp\u001b[0m \u001b[0;34m=\u001b[0m \u001b[0mself\u001b[0m\u001b[0;34m.\u001b[0m\u001b[0m_execute\u001b[0m\u001b[0;34m(\u001b[0m\u001b[0mCommand\u001b[0m\u001b[0;34m.\u001b[0m\u001b[0mGET_ELEMENT_ATTRIBUTE\u001b[0m\u001b[0;34m,\u001b[0m \u001b[0;34m{\u001b[0m\u001b[0;34m'name'\u001b[0m\u001b[0;34m:\u001b[0m \u001b[0mname\u001b[0m\u001b[0;34m}\u001b[0m\u001b[0;34m)\u001b[0m\u001b[0;34m\u001b[0m\u001b[0;34m\u001b[0m\u001b[0m\n",
            "\u001b[0;32m/usr/local/lib/python3.6/dist-packages/selenium/webdriver/remote/webdriver.py\u001b[0m in \u001b[0;36mexecute_script\u001b[0;34m(self, script, *args)\u001b[0m\n\u001b[1;32m    634\u001b[0m         return self.execute(command, {\n\u001b[1;32m    635\u001b[0m             \u001b[0;34m'script'\u001b[0m\u001b[0;34m:\u001b[0m \u001b[0mscript\u001b[0m\u001b[0;34m,\u001b[0m\u001b[0;34m\u001b[0m\u001b[0;34m\u001b[0m\u001b[0m\n\u001b[0;32m--> 636\u001b[0;31m             'args': converted_args})['value']\n\u001b[0m\u001b[1;32m    637\u001b[0m \u001b[0;34m\u001b[0m\u001b[0m\n\u001b[1;32m    638\u001b[0m     \u001b[0;32mdef\u001b[0m \u001b[0mexecute_async_script\u001b[0m\u001b[0;34m(\u001b[0m\u001b[0mself\u001b[0m\u001b[0;34m,\u001b[0m \u001b[0mscript\u001b[0m\u001b[0;34m,\u001b[0m \u001b[0;34m*\u001b[0m\u001b[0margs\u001b[0m\u001b[0;34m)\u001b[0m\u001b[0;34m:\u001b[0m\u001b[0;34m\u001b[0m\u001b[0;34m\u001b[0m\u001b[0m\n",
            "\u001b[0;32m/usr/local/lib/python3.6/dist-packages/selenium/webdriver/remote/webdriver.py\u001b[0m in \u001b[0;36mexecute\u001b[0;34m(self, driver_command, params)\u001b[0m\n\u001b[1;32m    319\u001b[0m         \u001b[0mresponse\u001b[0m \u001b[0;34m=\u001b[0m \u001b[0mself\u001b[0m\u001b[0;34m.\u001b[0m\u001b[0mcommand_executor\u001b[0m\u001b[0;34m.\u001b[0m\u001b[0mexecute\u001b[0m\u001b[0;34m(\u001b[0m\u001b[0mdriver_command\u001b[0m\u001b[0;34m,\u001b[0m \u001b[0mparams\u001b[0m\u001b[0;34m)\u001b[0m\u001b[0;34m\u001b[0m\u001b[0;34m\u001b[0m\u001b[0m\n\u001b[1;32m    320\u001b[0m         \u001b[0;32mif\u001b[0m \u001b[0mresponse\u001b[0m\u001b[0;34m:\u001b[0m\u001b[0;34m\u001b[0m\u001b[0;34m\u001b[0m\u001b[0m\n\u001b[0;32m--> 321\u001b[0;31m             \u001b[0mself\u001b[0m\u001b[0;34m.\u001b[0m\u001b[0merror_handler\u001b[0m\u001b[0;34m.\u001b[0m\u001b[0mcheck_response\u001b[0m\u001b[0;34m(\u001b[0m\u001b[0mresponse\u001b[0m\u001b[0;34m)\u001b[0m\u001b[0;34m\u001b[0m\u001b[0;34m\u001b[0m\u001b[0m\n\u001b[0m\u001b[1;32m    322\u001b[0m             response['value'] = self._unwrap_value(\n\u001b[1;32m    323\u001b[0m                 response.get('value', None))\n",
            "\u001b[0;32m/usr/local/lib/python3.6/dist-packages/selenium/webdriver/remote/errorhandler.py\u001b[0m in \u001b[0;36mcheck_response\u001b[0;34m(self, response)\u001b[0m\n\u001b[1;32m    240\u001b[0m                 \u001b[0malert_text\u001b[0m \u001b[0;34m=\u001b[0m \u001b[0mvalue\u001b[0m\u001b[0;34m[\u001b[0m\u001b[0;34m'alert'\u001b[0m\u001b[0;34m]\u001b[0m\u001b[0;34m.\u001b[0m\u001b[0mget\u001b[0m\u001b[0;34m(\u001b[0m\u001b[0;34m'text'\u001b[0m\u001b[0;34m)\u001b[0m\u001b[0;34m\u001b[0m\u001b[0;34m\u001b[0m\u001b[0m\n\u001b[1;32m    241\u001b[0m             \u001b[0;32mraise\u001b[0m \u001b[0mexception_class\u001b[0m\u001b[0;34m(\u001b[0m\u001b[0mmessage\u001b[0m\u001b[0;34m,\u001b[0m \u001b[0mscreen\u001b[0m\u001b[0;34m,\u001b[0m \u001b[0mstacktrace\u001b[0m\u001b[0;34m,\u001b[0m \u001b[0malert_text\u001b[0m\u001b[0;34m)\u001b[0m\u001b[0;34m\u001b[0m\u001b[0;34m\u001b[0m\u001b[0m\n\u001b[0;32m--> 242\u001b[0;31m         \u001b[0;32mraise\u001b[0m \u001b[0mexception_class\u001b[0m\u001b[0;34m(\u001b[0m\u001b[0mmessage\u001b[0m\u001b[0;34m,\u001b[0m \u001b[0mscreen\u001b[0m\u001b[0;34m,\u001b[0m \u001b[0mstacktrace\u001b[0m\u001b[0;34m)\u001b[0m\u001b[0;34m\u001b[0m\u001b[0;34m\u001b[0m\u001b[0m\n\u001b[0m\u001b[1;32m    243\u001b[0m \u001b[0;34m\u001b[0m\u001b[0m\n\u001b[1;32m    244\u001b[0m     \u001b[0;32mdef\u001b[0m \u001b[0m_value_or_default\u001b[0m\u001b[0;34m(\u001b[0m\u001b[0mself\u001b[0m\u001b[0;34m,\u001b[0m \u001b[0mobj\u001b[0m\u001b[0;34m,\u001b[0m \u001b[0mkey\u001b[0m\u001b[0;34m,\u001b[0m \u001b[0mdefault\u001b[0m\u001b[0;34m)\u001b[0m\u001b[0;34m:\u001b[0m\u001b[0;34m\u001b[0m\u001b[0;34m\u001b[0m\u001b[0m\n",
            "\u001b[0;31mStaleElementReferenceException\u001b[0m: Message: stale element reference: element is not attached to the page document\n  (Session info: headless chrome=86.0.4240.75)\n"
          ]
        }
      ]
    },
    {
      "cell_type": "code",
      "metadata": {
        "scrolled": true,
        "id": "4nRxgz70Ha-N",
        "outputId": "7b658ced-3d66-4190-d58c-845e44f9e072",
        "colab": {
          "base_uri": "https://localhost:8080/"
        }
      },
      "source": [
        "[a.get_attribute('href') for a in a_tags]"
      ],
      "execution_count": null,
      "outputs": [
        {
          "output_type": "execute_result",
          "data": {
            "text/plain": [
              "['https://duckduckgo.com/?t=h_&',\n",
              " 'javascript:;',\n",
              " 'https://duckduckgo.com/bang',\n",
              " 'https://duckduckgo.com/?q=Silas+Bergen&t=h_&ia=web#',\n",
              " 'https://duckduckgo.com/?q=Silas+Bergen&t=h_&ia=web#',\n",
              " 'https://duckduckgo.com/?q=Silas+Bergen&t=h_&ia=web#',\n",
              " 'https://duckduckgo.com/?q=Silas+Bergen&t=h_&ia=web#',\n",
              " 'https://duckduckgo.com/?q=Silas+Bergen&t=h_&ia=web#',\n",
              " None,\n",
              " 'https://duckduckgo.com/?q=Silas+Bergen&t=h_&ia=web#',\n",
              " 'https://duckduckgo.com/app',\n",
              " 'https://duckduckgo.com/app',\n",
              " 'https://duckduckgo.com/newsletter',\n",
              " 'https://duckduckgo.com/newsletter',\n",
              " 'https://spreadprivacy.com/tag/device-privacy-tips/',\n",
              " 'https://spreadprivacy.com/tag/device-privacy-tips/',\n",
              " 'https://duckduckgo.com/spread',\n",
              " 'https://duckduckgo.com/spread',\n",
              " 'https://duckduckgo.com/donations',\n",
              " 'https://duckduckgo.com/donations',\n",
              " 'https://duckduckgo.com/traffic',\n",
              " 'https://duckduckgo.com/traffic',\n",
              " 'https://donttrack.us/',\n",
              " 'https://donttrack.us/',\n",
              " 'https://twitter.com/duckduckgo',\n",
              " 'https://reddit.com/r/duckduckgo',\n",
              " 'https://spreadprivacy.com/',\n",
              " 'https://duckduckgo.com/newsletter',\n",
              " 'https://duckduckgo.com/?q=Silas+Bergen&t=h_&ia=web#',\n",
              " 'https://duckduckgo.com/?q=Silas+Bergen&t=h_&ia=web#',\n",
              " 'https://duckduckgo.com/?q=Silas+Bergen&t=h_&ia=web#',\n",
              " None,\n",
              " 'https://duckduckgo.com/?q=Silas+Bergen&t=h_&ia=web#',\n",
              " 'https://duckduckgo.com/?q=Silas+Bergen&t=h_&ia=web#',\n",
              " 'http://driftlessdata.space/',\n",
              " 'http://driftlessdata.space/',\n",
              " 'https://duckduckgo.com/?q=Silas%20Bergen+site:driftlessdata.space&t=h_',\n",
              " 'http://driftlessdata.space/',\n",
              " 'https://www.pubfacts.com/author/Silas+Bergen',\n",
              " 'https://www.pubfacts.com/author/Silas+Bergen',\n",
              " 'https://duckduckgo.com/?q=Silas%20Bergen+site:www.pubfacts.com&t=h_',\n",
              " 'https://www.pubfacts.com/author/Silas+Bergen',\n",
              " 'https://www.facebook.com/silas.bergen.5',\n",
              " 'https://www.facebook.com/silas.bergen.5',\n",
              " 'https://duckduckgo.com/?q=Silas%20Bergen+site:www.facebook.com&t=h_',\n",
              " 'https://www.facebook.com/silas.bergen.5',\n",
              " 'https://www.semanticscholar.org/author/Silas-Bergen/48578284',\n",
              " 'https://www.semanticscholar.org/author/Silas-Bergen/48578284',\n",
              " 'https://duckduckgo.com/?q=Silas%20Bergen+site:www.semanticscholar.org&t=h_',\n",
              " 'https://www.semanticscholar.org/author/Silas-Bergen/48578284',\n",
              " 'https://www.goodreads.com/user/show/55807579-silas-bergen',\n",
              " 'https://www.goodreads.com/user/show/55807579-silas-bergen',\n",
              " 'https://duckduckgo.com/?q=Silas%20Bergen+site:www.goodreads.com&t=h_',\n",
              " 'https://www.goodreads.com/user/show/55807579-silas-bergen',\n",
              " 'https://www.instagram.com/silasbjerregaard/?hl=en',\n",
              " 'https://www.instagram.com/silasbjerregaard/?hl=en',\n",
              " 'https://duckduckgo.com/?q=Silas%20Bergen+site:www.instagram.com&t=h_',\n",
              " 'https://www.instagram.com/silasbjerregaard/?hl=en',\n",
              " 'https://en.visitbergen.com/visitor-information/travel-information/skyss-bus-and-bergen-light-rail-p913973',\n",
              " 'https://en.visitbergen.com/visitor-information/travel-information/skyss-bus-and-bergen-light-rail-p913973',\n",
              " 'https://duckduckgo.com/?q=Silas%20Bergen+site:en.visitbergen.com&t=h_',\n",
              " 'https://en.visitbergen.com/visitor-information/travel-information/skyss-bus-and-bergen-light-rail-p913973',\n",
              " 'https://en.wikipedia.org/wiki/Silas_Young',\n",
              " 'https://en.wikipedia.org/wiki/Silas_Young',\n",
              " 'https://duckduckgo.com/?q=Silas%20Bergen+site:en.wikipedia.org&t=h_',\n",
              " 'https://en.wikipedia.org/wiki/Silas_Young',\n",
              " 'https://highlander.fandom.com/wiki/Silas',\n",
              " 'https://highlander.fandom.com/wiki/Silas',\n",
              " 'https://duckduckgo.com/?q=Silas%20Bergen+site:highlander.fandom.com&t=h_',\n",
              " 'https://highlander.fandom.com/wiki/Silas',\n",
              " 'https://www.imdb.com/title/tt0081929/',\n",
              " 'https://www.imdb.com/title/tt0081929/',\n",
              " 'https://duckduckgo.com/?q=Silas%20Bergen+site:www.imdb.com&t=h_',\n",
              " 'https://www.imdb.com/title/tt0081929/',\n",
              " 'javascript:;',\n",
              " 'https://duckduckgo.com/settings#theme',\n",
              " 'https://duckduckgo.com/settings',\n",
              " 'https://duckduckgo.com/bangs',\n",
              " 'https://duckduckgo.com/',\n",
              " 'https://duckduckgo.com/app',\n",
              " 'https://spreadprivacy.com/',\n",
              " 'https://duckduckgo.com/newsletter',\n",
              " 'https://duckduckgo.com/spread',\n",
              " 'https://duckduckgo.com/about',\n",
              " 'https://duckduckgo.com/privacy',\n",
              " 'https://duckduckgo.com/hiring',\n",
              " 'https://duckduckgo.com/press',\n",
              " 'https://twitter.com/duckduckgo',\n",
              " 'https://duckduckgo.merchmadeeasy.com/',\n",
              " 'https://reddit.com/r/duckduckgo',\n",
              " 'https://help.duckduckgo.com/',\n",
              " 'https://duckduckgo.com/install?t=h_',\n",
              " 'https://start.duckduckgo.com/',\n",
              " 'https://duckduckgo.com/newsletter',\n",
              " 'https://duckduckgo.com/spread',\n",
              " 'https://duckduckgo.com/app',\n",
              " 'https://spreadprivacy.com/',\n",
              " 'https://twitter.com/duckduckgo',\n",
              " 'https://reddit.com/r/duckduckgo',\n",
              " 'https://duckduckgo.com/newsletter']"
            ]
          },
          "metadata": {
            "tags": []
          },
          "execution_count": 52
        }
      ]
    },
    {
      "cell_type": "code",
      "metadata": {
        "id": "uijbWUktIp9a",
        "outputId": "5d677127-fe1d-4b49-c8f4-70df7e0ed434",
        "colab": {
          "base_uri": "https://localhost:8080/"
        }
      },
      "source": [
        "! pip install composable"
      ],
      "execution_count": null,
      "outputs": [
        {
          "output_type": "stream",
          "text": [
            "Requirement already satisfied: composable in /usr/local/lib/python3.6/dist-packages (0.2.5)\n",
            "Requirement already satisfied: python-forge<19.0,>=18.6 in /usr/local/lib/python3.6/dist-packages (from composable) (18.6.0)\n",
            "Requirement already satisfied: toolz<0.12.0,>=0.11.1 in /usr/local/lib/python3.6/dist-packages (from composable) (0.11.1)\n"
          ],
          "name": "stdout"
        }
      ]
    },
    {
      "cell_type": "code",
      "metadata": {
        "scrolled": true,
        "id": "81L4UC28Ha-Q",
        "outputId": "597e41c4-a910-4c5c-ade5-93e7c3a64b58",
        "colab": {
          "base_uri": "https://localhost:8080/",
          "height": 374
        }
      },
      "source": [
        "from composable import pipeable\n",
        "get_attribute = pipeable(lambda attr, tag: tag.get_attribute(attr))\n",
        "\n",
        "(p\n",
        ">> get_attribute('class')\n",
        ")"
      ],
      "execution_count": null,
      "outputs": [
        {
          "output_type": "error",
          "ename": "StaleElementReferenceException",
          "evalue": "ignored",
          "traceback": [
            "\u001b[0;31m---------------------------------------------------------------------------\u001b[0m",
            "\u001b[0;31mStaleElementReferenceException\u001b[0m            Traceback (most recent call last)",
            "\u001b[0;32m<ipython-input-54-3fe2633d66ec>\u001b[0m in \u001b[0;36m<module>\u001b[0;34m()\u001b[0m\n\u001b[1;32m      3\u001b[0m \u001b[0;34m\u001b[0m\u001b[0m\n\u001b[1;32m      4\u001b[0m (p\n\u001b[0;32m----> 5\u001b[0;31m \u001b[0;34m>>\u001b[0m \u001b[0mget_attribute\u001b[0m\u001b[0;34m(\u001b[0m\u001b[0;34m'class'\u001b[0m\u001b[0;34m)\u001b[0m\u001b[0;34m\u001b[0m\u001b[0;34m\u001b[0m\u001b[0m\n\u001b[0m\u001b[1;32m      6\u001b[0m )\n",
            "\u001b[0;32m/usr/local/lib/python3.6/dist-packages/composable/pipeable.py\u001b[0m in \u001b[0;36m__rrshift__\u001b[0;34m(self, other)\u001b[0m\n\u001b[1;32m     18\u001b[0m         \u001b[0mNote\u001b[0m \u001b[0mthat\u001b[0m \u001b[0mthis\u001b[0m \u001b[0mform\u001b[0m \u001b[0;32mor\u001b[0m \u001b[0mpiping\u001b[0m \u001b[0massumes\u001b[0m \u001b[0ma\u001b[0m \u001b[0munary\u001b[0m \u001b[0mfunction\u001b[0m \u001b[0mcall\u001b[0m\u001b[0;34m.\u001b[0m\u001b[0;34m\u001b[0m\u001b[0;34m\u001b[0m\u001b[0m\n\u001b[1;32m     19\u001b[0m         Use a curried function to allow piping n-ary functions.\"\"\"\n\u001b[0;32m---> 20\u001b[0;31m         \u001b[0;32mreturn\u001b[0m \u001b[0mself\u001b[0m\u001b[0;34m.\u001b[0m\u001b[0m__call__\u001b[0m\u001b[0;34m(\u001b[0m\u001b[0mother\u001b[0m\u001b[0;34m)\u001b[0m\u001b[0;34m\u001b[0m\u001b[0;34m\u001b[0m\u001b[0m\n\u001b[0m\u001b[1;32m     21\u001b[0m \u001b[0;34m\u001b[0m\u001b[0m\n\u001b[1;32m     22\u001b[0m \u001b[0;34m\u001b[0m\u001b[0m\n",
            "\u001b[0;32m/usr/local/lib/python3.6/dist-packages/toolz/functoolz.py\u001b[0m in \u001b[0;36m__call__\u001b[0;34m(self, *args, **kwargs)\u001b[0m\n\u001b[1;32m    301\u001b[0m     \u001b[0;32mdef\u001b[0m \u001b[0m__call__\u001b[0m\u001b[0;34m(\u001b[0m\u001b[0mself\u001b[0m\u001b[0;34m,\u001b[0m \u001b[0;34m*\u001b[0m\u001b[0margs\u001b[0m\u001b[0;34m,\u001b[0m \u001b[0;34m**\u001b[0m\u001b[0mkwargs\u001b[0m\u001b[0;34m)\u001b[0m\u001b[0;34m:\u001b[0m\u001b[0;34m\u001b[0m\u001b[0;34m\u001b[0m\u001b[0m\n\u001b[1;32m    302\u001b[0m         \u001b[0;32mtry\u001b[0m\u001b[0;34m:\u001b[0m\u001b[0;34m\u001b[0m\u001b[0;34m\u001b[0m\u001b[0m\n\u001b[0;32m--> 303\u001b[0;31m             \u001b[0;32mreturn\u001b[0m \u001b[0mself\u001b[0m\u001b[0;34m.\u001b[0m\u001b[0m_partial\u001b[0m\u001b[0;34m(\u001b[0m\u001b[0;34m*\u001b[0m\u001b[0margs\u001b[0m\u001b[0;34m,\u001b[0m \u001b[0;34m**\u001b[0m\u001b[0mkwargs\u001b[0m\u001b[0;34m)\u001b[0m\u001b[0;34m\u001b[0m\u001b[0;34m\u001b[0m\u001b[0m\n\u001b[0m\u001b[1;32m    304\u001b[0m         \u001b[0;32mexcept\u001b[0m \u001b[0mTypeError\u001b[0m \u001b[0;32mas\u001b[0m \u001b[0mexc\u001b[0m\u001b[0;34m:\u001b[0m\u001b[0;34m\u001b[0m\u001b[0;34m\u001b[0m\u001b[0m\n\u001b[1;32m    305\u001b[0m             \u001b[0;32mif\u001b[0m \u001b[0mself\u001b[0m\u001b[0;34m.\u001b[0m\u001b[0m_should_curry\u001b[0m\u001b[0;34m(\u001b[0m\u001b[0margs\u001b[0m\u001b[0;34m,\u001b[0m \u001b[0mkwargs\u001b[0m\u001b[0;34m,\u001b[0m \u001b[0mexc\u001b[0m\u001b[0;34m)\u001b[0m\u001b[0;34m:\u001b[0m\u001b[0;34m\u001b[0m\u001b[0;34m\u001b[0m\u001b[0m\n",
            "\u001b[0;32m<ipython-input-54-3fe2633d66ec>\u001b[0m in \u001b[0;36m<lambda>\u001b[0;34m(attr, tag)\u001b[0m\n\u001b[1;32m      1\u001b[0m \u001b[0;32mfrom\u001b[0m \u001b[0mcomposable\u001b[0m \u001b[0;32mimport\u001b[0m \u001b[0mpipeable\u001b[0m\u001b[0;34m\u001b[0m\u001b[0;34m\u001b[0m\u001b[0m\n\u001b[0;32m----> 2\u001b[0;31m \u001b[0mget_attribute\u001b[0m \u001b[0;34m=\u001b[0m \u001b[0mpipeable\u001b[0m\u001b[0;34m(\u001b[0m\u001b[0;32mlambda\u001b[0m \u001b[0mattr\u001b[0m\u001b[0;34m,\u001b[0m \u001b[0mtag\u001b[0m\u001b[0;34m:\u001b[0m \u001b[0mtag\u001b[0m\u001b[0;34m.\u001b[0m\u001b[0mget_attribute\u001b[0m\u001b[0;34m(\u001b[0m\u001b[0mattr\u001b[0m\u001b[0;34m)\u001b[0m\u001b[0;34m)\u001b[0m\u001b[0;34m\u001b[0m\u001b[0;34m\u001b[0m\u001b[0m\n\u001b[0m\u001b[1;32m      3\u001b[0m \u001b[0;34m\u001b[0m\u001b[0m\n\u001b[1;32m      4\u001b[0m (p\n\u001b[1;32m      5\u001b[0m \u001b[0;34m>>\u001b[0m \u001b[0mget_attribute\u001b[0m\u001b[0;34m(\u001b[0m\u001b[0;34m'class'\u001b[0m\u001b[0;34m)\u001b[0m\u001b[0;34m\u001b[0m\u001b[0;34m\u001b[0m\u001b[0m\n",
            "\u001b[0;32m/usr/local/lib/python3.6/dist-packages/selenium/webdriver/remote/webelement.py\u001b[0m in \u001b[0;36mget_attribute\u001b[0;34m(self, name)\u001b[0m\n\u001b[1;32m    139\u001b[0m             attributeValue = self.parent.execute_script(\n\u001b[1;32m    140\u001b[0m                 \u001b[0;34m\"return (%s).apply(null, arguments);\"\u001b[0m \u001b[0;34m%\u001b[0m \u001b[0mgetAttribute_js\u001b[0m\u001b[0;34m,\u001b[0m\u001b[0;34m\u001b[0m\u001b[0;34m\u001b[0m\u001b[0m\n\u001b[0;32m--> 141\u001b[0;31m                 self, name)\n\u001b[0m\u001b[1;32m    142\u001b[0m         \u001b[0;32melse\u001b[0m\u001b[0;34m:\u001b[0m\u001b[0;34m\u001b[0m\u001b[0;34m\u001b[0m\u001b[0m\n\u001b[1;32m    143\u001b[0m             \u001b[0mresp\u001b[0m \u001b[0;34m=\u001b[0m \u001b[0mself\u001b[0m\u001b[0;34m.\u001b[0m\u001b[0m_execute\u001b[0m\u001b[0;34m(\u001b[0m\u001b[0mCommand\u001b[0m\u001b[0;34m.\u001b[0m\u001b[0mGET_ELEMENT_ATTRIBUTE\u001b[0m\u001b[0;34m,\u001b[0m \u001b[0;34m{\u001b[0m\u001b[0;34m'name'\u001b[0m\u001b[0;34m:\u001b[0m \u001b[0mname\u001b[0m\u001b[0;34m}\u001b[0m\u001b[0;34m)\u001b[0m\u001b[0;34m\u001b[0m\u001b[0;34m\u001b[0m\u001b[0m\n",
            "\u001b[0;32m/usr/local/lib/python3.6/dist-packages/selenium/webdriver/remote/webdriver.py\u001b[0m in \u001b[0;36mexecute_script\u001b[0;34m(self, script, *args)\u001b[0m\n\u001b[1;32m    634\u001b[0m         return self.execute(command, {\n\u001b[1;32m    635\u001b[0m             \u001b[0;34m'script'\u001b[0m\u001b[0;34m:\u001b[0m \u001b[0mscript\u001b[0m\u001b[0;34m,\u001b[0m\u001b[0;34m\u001b[0m\u001b[0;34m\u001b[0m\u001b[0m\n\u001b[0;32m--> 636\u001b[0;31m             'args': converted_args})['value']\n\u001b[0m\u001b[1;32m    637\u001b[0m \u001b[0;34m\u001b[0m\u001b[0m\n\u001b[1;32m    638\u001b[0m     \u001b[0;32mdef\u001b[0m \u001b[0mexecute_async_script\u001b[0m\u001b[0;34m(\u001b[0m\u001b[0mself\u001b[0m\u001b[0;34m,\u001b[0m \u001b[0mscript\u001b[0m\u001b[0;34m,\u001b[0m \u001b[0;34m*\u001b[0m\u001b[0margs\u001b[0m\u001b[0;34m)\u001b[0m\u001b[0;34m:\u001b[0m\u001b[0;34m\u001b[0m\u001b[0;34m\u001b[0m\u001b[0m\n",
            "\u001b[0;32m/usr/local/lib/python3.6/dist-packages/selenium/webdriver/remote/webdriver.py\u001b[0m in \u001b[0;36mexecute\u001b[0;34m(self, driver_command, params)\u001b[0m\n\u001b[1;32m    319\u001b[0m         \u001b[0mresponse\u001b[0m \u001b[0;34m=\u001b[0m \u001b[0mself\u001b[0m\u001b[0;34m.\u001b[0m\u001b[0mcommand_executor\u001b[0m\u001b[0;34m.\u001b[0m\u001b[0mexecute\u001b[0m\u001b[0;34m(\u001b[0m\u001b[0mdriver_command\u001b[0m\u001b[0;34m,\u001b[0m \u001b[0mparams\u001b[0m\u001b[0;34m)\u001b[0m\u001b[0;34m\u001b[0m\u001b[0;34m\u001b[0m\u001b[0m\n\u001b[1;32m    320\u001b[0m         \u001b[0;32mif\u001b[0m \u001b[0mresponse\u001b[0m\u001b[0;34m:\u001b[0m\u001b[0;34m\u001b[0m\u001b[0;34m\u001b[0m\u001b[0m\n\u001b[0;32m--> 321\u001b[0;31m             \u001b[0mself\u001b[0m\u001b[0;34m.\u001b[0m\u001b[0merror_handler\u001b[0m\u001b[0;34m.\u001b[0m\u001b[0mcheck_response\u001b[0m\u001b[0;34m(\u001b[0m\u001b[0mresponse\u001b[0m\u001b[0;34m)\u001b[0m\u001b[0;34m\u001b[0m\u001b[0;34m\u001b[0m\u001b[0m\n\u001b[0m\u001b[1;32m    322\u001b[0m             response['value'] = self._unwrap_value(\n\u001b[1;32m    323\u001b[0m                 response.get('value', None))\n",
            "\u001b[0;32m/usr/local/lib/python3.6/dist-packages/selenium/webdriver/remote/errorhandler.py\u001b[0m in \u001b[0;36mcheck_response\u001b[0;34m(self, response)\u001b[0m\n\u001b[1;32m    240\u001b[0m                 \u001b[0malert_text\u001b[0m \u001b[0;34m=\u001b[0m \u001b[0mvalue\u001b[0m\u001b[0;34m[\u001b[0m\u001b[0;34m'alert'\u001b[0m\u001b[0;34m]\u001b[0m\u001b[0;34m.\u001b[0m\u001b[0mget\u001b[0m\u001b[0;34m(\u001b[0m\u001b[0;34m'text'\u001b[0m\u001b[0;34m)\u001b[0m\u001b[0;34m\u001b[0m\u001b[0;34m\u001b[0m\u001b[0m\n\u001b[1;32m    241\u001b[0m             \u001b[0;32mraise\u001b[0m \u001b[0mexception_class\u001b[0m\u001b[0;34m(\u001b[0m\u001b[0mmessage\u001b[0m\u001b[0;34m,\u001b[0m \u001b[0mscreen\u001b[0m\u001b[0;34m,\u001b[0m \u001b[0mstacktrace\u001b[0m\u001b[0;34m,\u001b[0m \u001b[0malert_text\u001b[0m\u001b[0;34m)\u001b[0m\u001b[0;34m\u001b[0m\u001b[0;34m\u001b[0m\u001b[0m\n\u001b[0;32m--> 242\u001b[0;31m         \u001b[0;32mraise\u001b[0m \u001b[0mexception_class\u001b[0m\u001b[0;34m(\u001b[0m\u001b[0mmessage\u001b[0m\u001b[0;34m,\u001b[0m \u001b[0mscreen\u001b[0m\u001b[0;34m,\u001b[0m \u001b[0mstacktrace\u001b[0m\u001b[0;34m)\u001b[0m\u001b[0;34m\u001b[0m\u001b[0;34m\u001b[0m\u001b[0m\n\u001b[0m\u001b[1;32m    243\u001b[0m \u001b[0;34m\u001b[0m\u001b[0m\n\u001b[1;32m    244\u001b[0m     \u001b[0;32mdef\u001b[0m \u001b[0m_value_or_default\u001b[0m\u001b[0;34m(\u001b[0m\u001b[0mself\u001b[0m\u001b[0;34m,\u001b[0m \u001b[0mobj\u001b[0m\u001b[0;34m,\u001b[0m \u001b[0mkey\u001b[0m\u001b[0;34m,\u001b[0m \u001b[0mdefault\u001b[0m\u001b[0;34m)\u001b[0m\u001b[0;34m:\u001b[0m\u001b[0;34m\u001b[0m\u001b[0;34m\u001b[0m\u001b[0m\n",
            "\u001b[0;31mStaleElementReferenceException\u001b[0m: Message: stale element reference: element is not attached to the page document\n  (Session info: headless chrome=86.0.4240.75)\n"
          ]
        }
      ]
    },
    {
      "cell_type": "code",
      "metadata": {
        "scrolled": true,
        "id": "jRjVgPAiHa-U",
        "outputId": "3bb3f3fe-80a7-43a0-e0de-bb35551d612a",
        "colab": {
          "base_uri": "https://localhost:8080/"
        }
      },
      "source": [
        "from composable.strict import map\n",
        "\n",
        "(a_tags\n",
        ">> map(get_attribute('href'))\n",
        ")"
      ],
      "execution_count": null,
      "outputs": [
        {
          "output_type": "execute_result",
          "data": {
            "text/plain": [
              "['https://duckduckgo.com/?t=h_&',\n",
              " 'javascript:;',\n",
              " 'https://duckduckgo.com/bang',\n",
              " 'https://duckduckgo.com/?q=Silas+Bergen&t=h_&ia=web#',\n",
              " 'https://duckduckgo.com/?q=Silas+Bergen&t=h_&ia=web#',\n",
              " 'https://duckduckgo.com/?q=Silas+Bergen&t=h_&ia=web#',\n",
              " 'https://duckduckgo.com/?q=Silas+Bergen&t=h_&ia=web#',\n",
              " 'https://duckduckgo.com/?q=Silas+Bergen&t=h_&ia=web#',\n",
              " None,\n",
              " 'https://duckduckgo.com/?q=Silas+Bergen&t=h_&ia=web#',\n",
              " 'https://duckduckgo.com/app',\n",
              " 'https://duckduckgo.com/app',\n",
              " 'https://duckduckgo.com/newsletter',\n",
              " 'https://duckduckgo.com/newsletter',\n",
              " 'https://spreadprivacy.com/tag/device-privacy-tips/',\n",
              " 'https://spreadprivacy.com/tag/device-privacy-tips/',\n",
              " 'https://duckduckgo.com/spread',\n",
              " 'https://duckduckgo.com/spread',\n",
              " 'https://duckduckgo.com/donations',\n",
              " 'https://duckduckgo.com/donations',\n",
              " 'https://duckduckgo.com/traffic',\n",
              " 'https://duckduckgo.com/traffic',\n",
              " 'https://donttrack.us/',\n",
              " 'https://donttrack.us/',\n",
              " 'https://twitter.com/duckduckgo',\n",
              " 'https://reddit.com/r/duckduckgo',\n",
              " 'https://spreadprivacy.com/',\n",
              " 'https://duckduckgo.com/newsletter',\n",
              " 'https://duckduckgo.com/?q=Silas+Bergen&t=h_&ia=web#',\n",
              " 'https://duckduckgo.com/?q=Silas+Bergen&t=h_&ia=web#',\n",
              " 'https://duckduckgo.com/?q=Silas+Bergen&t=h_&ia=web#',\n",
              " None,\n",
              " 'https://duckduckgo.com/?q=Silas+Bergen&t=h_&ia=web#',\n",
              " 'https://duckduckgo.com/?q=Silas+Bergen&t=h_&ia=web#',\n",
              " 'http://driftlessdata.space/',\n",
              " 'http://driftlessdata.space/',\n",
              " 'https://duckduckgo.com/?q=Silas%20Bergen+site:driftlessdata.space&t=h_',\n",
              " 'http://driftlessdata.space/',\n",
              " 'https://www.pubfacts.com/author/Silas+Bergen',\n",
              " 'https://www.pubfacts.com/author/Silas+Bergen',\n",
              " 'https://duckduckgo.com/?q=Silas%20Bergen+site:www.pubfacts.com&t=h_',\n",
              " 'https://www.pubfacts.com/author/Silas+Bergen',\n",
              " 'https://www.facebook.com/silas.bergen.5',\n",
              " 'https://www.facebook.com/silas.bergen.5',\n",
              " 'https://duckduckgo.com/?q=Silas%20Bergen+site:www.facebook.com&t=h_',\n",
              " 'https://www.facebook.com/silas.bergen.5',\n",
              " 'https://www.semanticscholar.org/author/Silas-Bergen/48578284',\n",
              " 'https://www.semanticscholar.org/author/Silas-Bergen/48578284',\n",
              " 'https://duckduckgo.com/?q=Silas%20Bergen+site:www.semanticscholar.org&t=h_',\n",
              " 'https://www.semanticscholar.org/author/Silas-Bergen/48578284',\n",
              " 'https://www.goodreads.com/user/show/55807579-silas-bergen',\n",
              " 'https://www.goodreads.com/user/show/55807579-silas-bergen',\n",
              " 'https://duckduckgo.com/?q=Silas%20Bergen+site:www.goodreads.com&t=h_',\n",
              " 'https://www.goodreads.com/user/show/55807579-silas-bergen',\n",
              " 'https://www.instagram.com/silasbjerregaard/?hl=en',\n",
              " 'https://www.instagram.com/silasbjerregaard/?hl=en',\n",
              " 'https://duckduckgo.com/?q=Silas%20Bergen+site:www.instagram.com&t=h_',\n",
              " 'https://www.instagram.com/silasbjerregaard/?hl=en',\n",
              " 'https://en.visitbergen.com/visitor-information/travel-information/skyss-bus-and-bergen-light-rail-p913973',\n",
              " 'https://en.visitbergen.com/visitor-information/travel-information/skyss-bus-and-bergen-light-rail-p913973',\n",
              " 'https://duckduckgo.com/?q=Silas%20Bergen+site:en.visitbergen.com&t=h_',\n",
              " 'https://en.visitbergen.com/visitor-information/travel-information/skyss-bus-and-bergen-light-rail-p913973',\n",
              " 'https://en.wikipedia.org/wiki/Silas_Young',\n",
              " 'https://en.wikipedia.org/wiki/Silas_Young',\n",
              " 'https://duckduckgo.com/?q=Silas%20Bergen+site:en.wikipedia.org&t=h_',\n",
              " 'https://en.wikipedia.org/wiki/Silas_Young',\n",
              " 'https://highlander.fandom.com/wiki/Silas',\n",
              " 'https://highlander.fandom.com/wiki/Silas',\n",
              " 'https://duckduckgo.com/?q=Silas%20Bergen+site:highlander.fandom.com&t=h_',\n",
              " 'https://highlander.fandom.com/wiki/Silas',\n",
              " 'https://www.imdb.com/title/tt0081929/',\n",
              " 'https://www.imdb.com/title/tt0081929/',\n",
              " 'https://duckduckgo.com/?q=Silas%20Bergen+site:www.imdb.com&t=h_',\n",
              " 'https://www.imdb.com/title/tt0081929/',\n",
              " 'javascript:;',\n",
              " 'https://duckduckgo.com/settings#theme',\n",
              " 'https://duckduckgo.com/settings',\n",
              " 'https://duckduckgo.com/bangs',\n",
              " 'https://duckduckgo.com/',\n",
              " 'https://duckduckgo.com/app',\n",
              " 'https://spreadprivacy.com/',\n",
              " 'https://duckduckgo.com/newsletter',\n",
              " 'https://duckduckgo.com/spread',\n",
              " 'https://duckduckgo.com/about',\n",
              " 'https://duckduckgo.com/privacy',\n",
              " 'https://duckduckgo.com/hiring',\n",
              " 'https://duckduckgo.com/press',\n",
              " 'https://twitter.com/duckduckgo',\n",
              " 'https://duckduckgo.merchmadeeasy.com/',\n",
              " 'https://reddit.com/r/duckduckgo',\n",
              " 'https://help.duckduckgo.com/',\n",
              " 'https://duckduckgo.com/install?t=h_',\n",
              " 'https://start.duckduckgo.com/',\n",
              " 'https://duckduckgo.com/newsletter',\n",
              " 'https://duckduckgo.com/spread',\n",
              " 'https://duckduckgo.com/app',\n",
              " 'https://spreadprivacy.com/',\n",
              " 'https://twitter.com/duckduckgo',\n",
              " 'https://reddit.com/r/duckduckgo',\n",
              " 'https://duckduckgo.com/newsletter']"
            ]
          },
          "metadata": {
            "tags": []
          },
          "execution_count": 55
        }
      ]
    },
    {
      "cell_type": "markdown",
      "metadata": {
        "id": "MUigsjP8Ha-Y"
      },
      "source": [
        "## Anatomy of a Search\n",
        "\n",
        "<img src=\"https://github.com/wsu-DSCI330/module_5_lectures/blob/main/img/duckduck_search.png?raw=1\" width=\"400\"/>"
      ]
    },
    {
      "cell_type": "code",
      "metadata": {
        "id": "3UZ7BVQyHa-Y"
      },
      "source": [
        "input_field = driver.find_element_by_id('search_form_input_homepage')\n",
        "input_button = driver.find_element_by_id('search_button_homepage')"
      ],
      "execution_count": null,
      "outputs": []
    },
    {
      "cell_type": "code",
      "metadata": {
        "id": "V1nLR9RNHa-b"
      },
      "source": [
        "input_field.send_keys('Silas Bergen')"
      ],
      "execution_count": null,
      "outputs": []
    },
    {
      "cell_type": "code",
      "metadata": {
        "id": "46LB2-mZHa-h"
      },
      "source": [
        "input_button.click()"
      ],
      "execution_count": null,
      "outputs": []
    },
    {
      "cell_type": "markdown",
      "metadata": {
        "id": "K8chpDGwHa-l"
      },
      "source": [
        "## IMPORTANT -- The page will change!"
      ]
    },
    {
      "cell_type": "code",
      "metadata": {
        "scrolled": true,
        "id": "4I6upTQJHa-m",
        "outputId": "a6105bbc-0418-41d2-9321-bb242419c853",
        "colab": {
          "base_uri": "https://localhost:8080/",
          "height": 323
        }
      },
      "source": [
        "input_field = driver.find_element_by_id('search_form_input_homepage')"
      ],
      "execution_count": null,
      "outputs": [
        {
          "output_type": "error",
          "ename": "NoSuchElementException",
          "evalue": "ignored",
          "traceback": [
            "\u001b[0;31m---------------------------------------------------------------------------\u001b[0m",
            "\u001b[0;31mNoSuchElementException\u001b[0m                    Traceback (most recent call last)",
            "\u001b[0;32m<ipython-input-39-57b08a652148>\u001b[0m in \u001b[0;36m<module>\u001b[0;34m()\u001b[0m\n\u001b[0;32m----> 1\u001b[0;31m \u001b[0minput_field\u001b[0m \u001b[0;34m=\u001b[0m \u001b[0mdriver\u001b[0m\u001b[0;34m.\u001b[0m\u001b[0mfind_element_by_id\u001b[0m\u001b[0;34m(\u001b[0m\u001b[0;34m'search_form_input_homepage'\u001b[0m\u001b[0;34m)\u001b[0m\u001b[0;34m\u001b[0m\u001b[0;34m\u001b[0m\u001b[0m\n\u001b[0m",
            "\u001b[0;32m/usr/local/lib/python3.6/dist-packages/selenium/webdriver/remote/webdriver.py\u001b[0m in \u001b[0;36mfind_element_by_id\u001b[0;34m(self, id_)\u001b[0m\n\u001b[1;32m    358\u001b[0m             \u001b[0melement\u001b[0m \u001b[0;34m=\u001b[0m \u001b[0mdriver\u001b[0m\u001b[0;34m.\u001b[0m\u001b[0mfind_element_by_id\u001b[0m\u001b[0;34m(\u001b[0m\u001b[0;34m'foo'\u001b[0m\u001b[0;34m)\u001b[0m\u001b[0;34m\u001b[0m\u001b[0;34m\u001b[0m\u001b[0m\n\u001b[1;32m    359\u001b[0m         \"\"\"\n\u001b[0;32m--> 360\u001b[0;31m         \u001b[0;32mreturn\u001b[0m \u001b[0mself\u001b[0m\u001b[0;34m.\u001b[0m\u001b[0mfind_element\u001b[0m\u001b[0;34m(\u001b[0m\u001b[0mby\u001b[0m\u001b[0;34m=\u001b[0m\u001b[0mBy\u001b[0m\u001b[0;34m.\u001b[0m\u001b[0mID\u001b[0m\u001b[0;34m,\u001b[0m \u001b[0mvalue\u001b[0m\u001b[0;34m=\u001b[0m\u001b[0mid_\u001b[0m\u001b[0;34m)\u001b[0m\u001b[0;34m\u001b[0m\u001b[0;34m\u001b[0m\u001b[0m\n\u001b[0m\u001b[1;32m    361\u001b[0m \u001b[0;34m\u001b[0m\u001b[0m\n\u001b[1;32m    362\u001b[0m     \u001b[0;32mdef\u001b[0m \u001b[0mfind_elements_by_id\u001b[0m\u001b[0;34m(\u001b[0m\u001b[0mself\u001b[0m\u001b[0;34m,\u001b[0m \u001b[0mid_\u001b[0m\u001b[0;34m)\u001b[0m\u001b[0;34m:\u001b[0m\u001b[0;34m\u001b[0m\u001b[0;34m\u001b[0m\u001b[0m\n",
            "\u001b[0;32m/usr/local/lib/python3.6/dist-packages/selenium/webdriver/remote/webdriver.py\u001b[0m in \u001b[0;36mfind_element\u001b[0;34m(self, by, value)\u001b[0m\n\u001b[1;32m    976\u001b[0m         return self.execute(Command.FIND_ELEMENT, {\n\u001b[1;32m    977\u001b[0m             \u001b[0;34m'using'\u001b[0m\u001b[0;34m:\u001b[0m \u001b[0mby\u001b[0m\u001b[0;34m,\u001b[0m\u001b[0;34m\u001b[0m\u001b[0;34m\u001b[0m\u001b[0m\n\u001b[0;32m--> 978\u001b[0;31m             'value': value})['value']\n\u001b[0m\u001b[1;32m    979\u001b[0m \u001b[0;34m\u001b[0m\u001b[0m\n\u001b[1;32m    980\u001b[0m     \u001b[0;32mdef\u001b[0m \u001b[0mfind_elements\u001b[0m\u001b[0;34m(\u001b[0m\u001b[0mself\u001b[0m\u001b[0;34m,\u001b[0m \u001b[0mby\u001b[0m\u001b[0;34m=\u001b[0m\u001b[0mBy\u001b[0m\u001b[0;34m.\u001b[0m\u001b[0mID\u001b[0m\u001b[0;34m,\u001b[0m \u001b[0mvalue\u001b[0m\u001b[0;34m=\u001b[0m\u001b[0;32mNone\u001b[0m\u001b[0;34m)\u001b[0m\u001b[0;34m:\u001b[0m\u001b[0;34m\u001b[0m\u001b[0;34m\u001b[0m\u001b[0m\n",
            "\u001b[0;32m/usr/local/lib/python3.6/dist-packages/selenium/webdriver/remote/webdriver.py\u001b[0m in \u001b[0;36mexecute\u001b[0;34m(self, driver_command, params)\u001b[0m\n\u001b[1;32m    319\u001b[0m         \u001b[0mresponse\u001b[0m \u001b[0;34m=\u001b[0m \u001b[0mself\u001b[0m\u001b[0;34m.\u001b[0m\u001b[0mcommand_executor\u001b[0m\u001b[0;34m.\u001b[0m\u001b[0mexecute\u001b[0m\u001b[0;34m(\u001b[0m\u001b[0mdriver_command\u001b[0m\u001b[0;34m,\u001b[0m \u001b[0mparams\u001b[0m\u001b[0;34m)\u001b[0m\u001b[0;34m\u001b[0m\u001b[0;34m\u001b[0m\u001b[0m\n\u001b[1;32m    320\u001b[0m         \u001b[0;32mif\u001b[0m \u001b[0mresponse\u001b[0m\u001b[0;34m:\u001b[0m\u001b[0;34m\u001b[0m\u001b[0;34m\u001b[0m\u001b[0m\n\u001b[0;32m--> 321\u001b[0;31m             \u001b[0mself\u001b[0m\u001b[0;34m.\u001b[0m\u001b[0merror_handler\u001b[0m\u001b[0;34m.\u001b[0m\u001b[0mcheck_response\u001b[0m\u001b[0;34m(\u001b[0m\u001b[0mresponse\u001b[0m\u001b[0;34m)\u001b[0m\u001b[0;34m\u001b[0m\u001b[0;34m\u001b[0m\u001b[0m\n\u001b[0m\u001b[1;32m    322\u001b[0m             response['value'] = self._unwrap_value(\n\u001b[1;32m    323\u001b[0m                 response.get('value', None))\n",
            "\u001b[0;32m/usr/local/lib/python3.6/dist-packages/selenium/webdriver/remote/errorhandler.py\u001b[0m in \u001b[0;36mcheck_response\u001b[0;34m(self, response)\u001b[0m\n\u001b[1;32m    240\u001b[0m                 \u001b[0malert_text\u001b[0m \u001b[0;34m=\u001b[0m \u001b[0mvalue\u001b[0m\u001b[0;34m[\u001b[0m\u001b[0;34m'alert'\u001b[0m\u001b[0;34m]\u001b[0m\u001b[0;34m.\u001b[0m\u001b[0mget\u001b[0m\u001b[0;34m(\u001b[0m\u001b[0;34m'text'\u001b[0m\u001b[0;34m)\u001b[0m\u001b[0;34m\u001b[0m\u001b[0;34m\u001b[0m\u001b[0m\n\u001b[1;32m    241\u001b[0m             \u001b[0;32mraise\u001b[0m \u001b[0mexception_class\u001b[0m\u001b[0;34m(\u001b[0m\u001b[0mmessage\u001b[0m\u001b[0;34m,\u001b[0m \u001b[0mscreen\u001b[0m\u001b[0;34m,\u001b[0m \u001b[0mstacktrace\u001b[0m\u001b[0;34m,\u001b[0m \u001b[0malert_text\u001b[0m\u001b[0;34m)\u001b[0m\u001b[0;34m\u001b[0m\u001b[0;34m\u001b[0m\u001b[0m\n\u001b[0;32m--> 242\u001b[0;31m         \u001b[0;32mraise\u001b[0m \u001b[0mexception_class\u001b[0m\u001b[0;34m(\u001b[0m\u001b[0mmessage\u001b[0m\u001b[0;34m,\u001b[0m \u001b[0mscreen\u001b[0m\u001b[0;34m,\u001b[0m \u001b[0mstacktrace\u001b[0m\u001b[0;34m)\u001b[0m\u001b[0;34m\u001b[0m\u001b[0;34m\u001b[0m\u001b[0m\n\u001b[0m\u001b[1;32m    243\u001b[0m \u001b[0;34m\u001b[0m\u001b[0m\n\u001b[1;32m    244\u001b[0m     \u001b[0;32mdef\u001b[0m \u001b[0m_value_or_default\u001b[0m\u001b[0;34m(\u001b[0m\u001b[0mself\u001b[0m\u001b[0;34m,\u001b[0m \u001b[0mobj\u001b[0m\u001b[0;34m,\u001b[0m \u001b[0mkey\u001b[0m\u001b[0;34m,\u001b[0m \u001b[0mdefault\u001b[0m\u001b[0;34m)\u001b[0m\u001b[0;34m:\u001b[0m\u001b[0;34m\u001b[0m\u001b[0;34m\u001b[0m\u001b[0m\n",
            "\u001b[0;31mNoSuchElementException\u001b[0m: Message: no such element: Unable to locate element: {\"method\":\"css selector\",\"selector\":\"[id=\"search_form_input_homepage\"]\"}\n  (Session info: headless chrome=86.0.4240.75)\n"
          ]
        }
      ]
    },
    {
      "cell_type": "markdown",
      "metadata": {
        "id": "QywuLnI2Ha-q"
      },
      "source": [
        "## <font color=\"red\"> Exercise 2 </font> \n",
        "\n",
        "Use `selenium` to get the links for all of the results shown on the page."
      ]
    },
    {
      "cell_type": "code",
      "metadata": {
        "id": "9YgL2ugLHa-q",
        "outputId": "2eeda4d8-2a04-4a39-cb9e-f162c0a2951d",
        "colab": {
          "base_uri": "https://localhost:8080/"
        }
      },
      "source": [
        "find_elements_by_class_name = pipeable( lambda class_name, driver: driver.find_elements_by_class_name(class_name))\n",
        "find_element_by_class_name = pipeable(lambda class_name, driver: driver.find_elements_by_class_name(class_name))\n",
        "find_elements_by_id = pipeable( lambda class_name, driver: driver.find_elements_by_id(class_name))\n",
        "find_elements_by_tag_name = pipeable( lambda tag_name, driver: driver.find_elements_by_tag_name(tag_name))\n",
        "find_element_by_tag_name = pipeable(lambda tag_name, driver: driver.find_element_by_tag_name(tag_name))\n",
        "(driver\n",
        " >> find_elements_by_class_name('results_links_deep')\n",
        " >> map(find_element_by_tag_name('a'))\n",
        " >> map(get_attribute('href'))\n",
        ")"
      ],
      "execution_count": null,
      "outputs": [
        {
          "output_type": "execute_result",
          "data": {
            "text/plain": [
              "['http://driftlessdata.space/',\n",
              " 'https://www.pubfacts.com/author/Silas+Bergen',\n",
              " 'https://www.facebook.com/silas.bergen.5',\n",
              " 'https://www.semanticscholar.org/author/Silas-Bergen/48578284',\n",
              " 'https://www.goodreads.com/user/show/55807579-silas-bergen',\n",
              " 'https://www.instagram.com/silasbjerregaard/?hl=en',\n",
              " 'https://en.visitbergen.com/visitor-information/travel-information/skyss-bus-and-bergen-light-rail-p913973',\n",
              " 'https://en.wikipedia.org/wiki/Silas_Young',\n",
              " 'https://highlander.fandom.com/wiki/Silas',\n",
              " 'https://www.imdb.com/title/tt0081929/']"
            ]
          },
          "metadata": {
            "tags": []
          },
          "execution_count": 57
        }
      ]
    },
    {
      "cell_type": "markdown",
      "metadata": {
        "id": "aDpoD_46Ha-t"
      },
      "source": [
        "## <font color=\"red\"> Exercise 3 </font> \n",
        "\n",
        "Suppose that we want more than 1 page of results.  Inspect the page and find the more button. **Hint:** Right click won't work here, you will need to inspect a nearby element then navigate to the element in the console.\n",
        "\n",
        "Once you have found this button, click it at least three times, then get all of search result links."
      ]
    },
    {
      "cell_type": "code",
      "metadata": {
        "id": "g-9_S2mZHa-v"
      },
      "source": [
        "driver.find_element_by_class_name('result--more__btn').click()"
      ],
      "execution_count": null,
      "outputs": []
    },
    {
      "cell_type": "code",
      "metadata": {
        "id": "F4V1jg6EG6d2"
      },
      "source": [
        "driver.find_element_by_class_name('result--more__btn').click()"
      ],
      "execution_count": null,
      "outputs": []
    },
    {
      "cell_type": "code",
      "metadata": {
        "id": "ff4395hzG7HR"
      },
      "source": [
        "driver.find_element_by_class_name('result--more__btn').click()"
      ],
      "execution_count": null,
      "outputs": []
    },
    {
      "cell_type": "code",
      "metadata": {
        "id": "cXbJH3FoG8Cu",
        "outputId": "cc4b69a7-0d28-4e62-9a4a-4011891b31dc",
        "colab": {
          "base_uri": "https://localhost:8080/"
        }
      },
      "source": [
        "(driver\n",
        " >> find_element_by_class_name('results_links_deep')\n",
        " >> map(find_element_by_tag_name('a'))\n",
        " >> map(get_attribute('href'))\n",
        " )"
      ],
      "execution_count": null,
      "outputs": [
        {
          "output_type": "execute_result",
          "data": {
            "text/plain": [
              "['http://driftlessdata.space/',\n",
              " 'https://www.pubfacts.com/author/Silas+Bergen',\n",
              " 'https://www.facebook.com/silas.bergen.5',\n",
              " 'https://www.semanticscholar.org/author/Silas-Bergen/48578284',\n",
              " 'https://www.goodreads.com/user/show/55807579-silas-bergen',\n",
              " 'https://www.instagram.com/silasbjerregaard/?hl=en',\n",
              " 'https://en.visitbergen.com/visitor-information/travel-information/skyss-bus-and-bergen-light-rail-p913973',\n",
              " 'https://en.wikipedia.org/wiki/Silas_Young',\n",
              " 'https://highlander.fandom.com/wiki/Silas',\n",
              " 'https://www.imdb.com/title/tt0081929/',\n",
              " 'https://www.lilsebergen.be/',\n",
              " 'https://www.wowhead.com/item=156634/silas-vial-of-continuous-curing',\n",
              " 'https://vimeo.com/16912537',\n",
              " 'https://www.tripadvisor.de/Tourism-g190502-Bergen_Hordaland_Western_Norway-Vacations.html',\n",
              " 'https://www.silasdeanepawn.com/',\n",
              " 'https://www.sats.no/treningssentre/bergen/bergen-sats/',\n",
              " 'https://feheroes.gamepedia.com/Silas:_Loyal_Knight',\n",
              " 'https://gezimanya.com/bergen',\n",
              " 'https://www.dict.cc/?s=bergen',\n",
              " 'https://de.wikipedia.org/wiki/Bergensbanen',\n",
              " 'https://www.marinetraffic.com/ru/ais/details/ships/shipid:309580/mmsi:257951000/imo:9140944/vessel:SILVER_BERGEN',\n",
              " 'https://www.transfermarkt.com/silas-songani/profil/spieler/264299',\n",
              " 'https://www.radyonefes.net/bergen/',\n",
              " 'https://www.verbformen.de/konjugation/bergen.htm',\n",
              " 'http://driftlessdata.space/',\n",
              " 'https://www.facebook.com/silas.bergen.5',\n",
              " 'https://www.pubfacts.com/author/Silas+Bergen',\n",
              " 'https://www.semanticscholar.org/author/Silas-Bergen/48578284',\n",
              " 'https://www.instagram.com/silasbjerregaard/?hl=en',\n",
              " 'https://www.goodreads.com/user/show/55807579-silas-bergen',\n",
              " 'https://en.visitbergen.com/visitor-information/travel-information/skyss-bus-and-bergen-light-rail-p913973',\n",
              " 'https://en.wikipedia.org/wiki/Silas_Young',\n",
              " 'https://www.lilsebergen.be/',\n",
              " 'https://www.imdb.com/title/tt0081929/',\n",
              " 'https://highlander.fandom.com/wiki/Silas',\n",
              " 'https://vimeo.com/16912537',\n",
              " 'https://www.silasdeanepawn.com/',\n",
              " 'https://www.sats.no/treningssentre/bergen/bergen-sats/',\n",
              " 'https://www.tripadvisor.de/Tourism-g190502-Bergen_Hordaland_Western_Norway-Vacations.html',\n",
              " 'https://www.wowhead.com/item=156634/silas-vial-of-continuous-curing',\n",
              " 'https://feheroes.gamepedia.com/Silas:_Loyal_Knight',\n",
              " 'https://www.transfermarkt.com/silas-songani/profil/spieler/264299',\n",
              " 'https://de.wikipedia.org/wiki/Bergensbanen',\n",
              " 'https://www.dict.cc/?s=bergen',\n",
              " 'https://gezimanya.com/bergen',\n",
              " 'https://www.marinetraffic.com/ru/ais/details/ships/shipid:309580/mmsi:257951000/imo:9140944/vessel:SILVER_BERGEN',\n",
              " 'https://www.verbformen.de/konjugation/bergen.htm',\n",
              " 'https://www.yr.no/sted/Norge/Vestland/Bergen/',\n",
              " 'https://www.radyonefes.net/bergen/',\n",
              " 'https://www.rubrikk.no/leilighet-bolig-til-leie/bergen--leilighet',\n",
              " 'https://www.9og.org/acilarin-kadini-bergen-nasil-olduruldu/',\n",
              " 'https://www.rome2rio.com/s/Bergen/%C3%85lesund',\n",
              " 'https://www.bergen-guide.com/274.htm',\n",
              " 'https://www.sammen.no/no/bergen/bolig',\n",
              " 'https://bergen-belsen.stiftung-ng.de/',\n",
              " 'https://www.edreams.es/vuelos/bergen/BGO/',\n",
              " 'https://www.lastminute.com/flights/bergen',\n",
              " 'https://www.silvan.dk/plus-bergen-hegn-med-espalier-trykimpraegneret-165-cm-90-cm?id=5700-1252391',\n",
              " 'https://www.booking.com/hotel/no/lyder-sagens-apartment.en-gb.html',\n",
              " 'https://bergenbf.no/',\n",
              " 'https://www.izlesene.com/muzik/bergen',\n",
              " 'https://bergen.edu/',\n",
              " 'https://www.norled.no/kart-og-rutetider/hurtigbat/sogn-og-fjordane/',\n",
              " 'https://www.kristiania.no/studere-hos-oss/bergen/',\n",
              " 'https://avinor.no/flyplass/bergen/',\n",
              " 'https://commons.wikimedia.org/wiki/Bergen',\n",
              " 'https://bergenlinen.com/',\n",
              " 'https://www.engelberg.ch/en/',\n",
              " 'https://www.bergen.kommune.no/',\n",
              " 'https://www.bergen.io/',\n",
              " 'https://en.wiktionary.org/wiki/bergen',\n",
              " 'http://bergen.it/',\n",
              " 'http://www.duralbridge.com/bergen.htm',\n",
              " 'https://www.jula.no/vare-varehus/bergen-fyllingsdalen/',\n",
              " 'https://lingu.no/locations/bergen',\n",
              " 'https://www.airport-bergen.com/',\n",
              " 'https://www.pexels.com/sv-se/sok/bergen/',\n",
              " 'https://www.norskflid.no/bergen/',\n",
              " 'https://www.berlebergen.no/',\n",
              " 'https://www.tripadvisor.com/ShowTopic-g190504-i4248-k5469915-Alesund_to_Bergen-Alesund_More_og_Romsdal_Western_Norway.html',\n",
              " 'https://www.bergen.rs/en/',\n",
              " 'https://www.dccomics.com/talent/thony-silas',\n",
              " 'http://www.bergen-group.no/',\n",
              " 'https://www.volvat.no/lokasjoner/bergen/tjenester/gynekologi/',\n",
              " 'https://github.com/silasbw',\n",
              " 'https://www.strassenverkehrsamt.de/lokal/ruegen-landkreis/kfz-zulassungsstelle',\n",
              " 'https://akks.no/bergen/',\n",
              " 'https://bergensales.com/',\n",
              " 'https://www.bergeninc.com/',\n",
              " 'https://www.bergeneholm.no/',\n",
              " 'https://www.geni.com/people/Silas-Ransberger/6000000032220140853',\n",
              " 'https://www.behance.net/silasJ',\n",
              " 'http://www.bergenbags.com/',\n",
              " 'https://www.edreams.com/flights/oslo-bergen/OSL/BGO/',\n",
              " 'https://www.milliyet.com.tr/gundem/bergen-kimdir-bergen-nasil-oldu-6085092',\n",
              " 'https://www.bergensentrum.no/',\n",
              " 'https://soundcloud.com/silas-berkson',\n",
              " 'https://www.posta.com.tr/bergenin-acilarla-dolu-hayat-hikayesi-1403908',\n",
              " 'https://www.blick.ch/news/schweiz/vermisst-wo-ist-silas-13-id6102061.html',\n",
              " 'https://www.mynet.com/bergen-i-olduren-halis-serbest-cocuga-cinsel-istismardan-tutuklandi-163134-mymagazin',\n",
              " 'https://www.lifeinnorway.net/bergen-railway-trip/',\n",
              " 'https://bergenparkering.no/',\n",
              " 'https://www.flybussen.no/ruter/bergen',\n",
              " 'https://www.dailymotion.com/video/xhvgnf',\n",
              " 'https://www.fjordline.com/en/p/our-ferry-routes/bergen-stavanger-domestic',\n",
              " 'http://bricoyunu.blogspot.com/2012/05/bergen-konvansiyonu.html',\n",
              " 'https://www.klingelnberg.com/',\n",
              " 'https://www.superhaber.tv/bergeni-olduren-kocasi-halis-serbest-kimdir-haber-104598',\n",
              " 'https://www.linkedin.com/in/silas-nuernberger-61ab91174',\n",
              " 'http://www.bergen.com.tr/',\n",
              " 'https://www.fjordtours.com/de/aktivitaeten-in-norwegen/museen-und-sehenswuerdigkeiten-in-norwegen/bergen-standseilbahn-floyen/',\n",
              " 'https://isbergen.no/',\n",
              " 'https://ok.ru/video/7817333473',\n",
              " 'https://www.anticimex.com/nb-no/kontakt/bergen/',\n",
              " 'https://www.legelisten.no/tannleger/Vestland/Bergen',\n",
              " 'https://www.flygresor.se/norge/bergen',\n",
              " 'https://www.expedia.com/Bergen-Hotels-Citybox-Bergen.h9766626.Hotel-Information',\n",
              " 'http://bergenfencingclub.com/',\n",
              " 'https://encyclopediaofarkansas.net/entries/silas-herbert-hunt-1676/',\n",
              " 'https://www.bravofly.com/offers/flights/copenhagen-bergen',\n",
              " 'https://www.bymuseet.no/vaare-museer/gamle-bergen-museum/',\n",
              " 'http://www.silas.lt/akcijos/',\n",
              " 'https://www.muzikdinle.com.tr/bergen-sarkilari',\n",
              " 'https://www.spigotmc.org/members/silas1silas.460350/',\n",
              " 'https://www.surplusandoutdoors.com/shop/camping-equipment/rucksacks-bags.html',\n",
              " 'https://archive.org/details/SilasLeachman',\n",
              " 'https://www.bergenlive.no/',\n",
              " 'https://www.bergenfest.no/',\n",
              " 'https://classicdb.ch/?npc=14823',\n",
              " 'https://citybox.no/bergen-sentrum/',\n",
              " 'https://www.bergenbilutleie.no/',\n",
              " 'https://www.torp.no/direkteruter/innland/bergen/',\n",
              " 'https://www.internethaber.com/bergeni-olduren-kocasi-simdi-ne-yapiyor-iste-son-hali-foto-galerisi-1838973.htm',\n",
              " 'https://hybel.no/bolig-til-leie/bergen/',\n",
              " 'https://www.bergen.nl/',\n",
              " 'https://www.biyografi.info/kisi/bergen']"
            ]
          },
          "metadata": {
            "tags": []
          },
          "execution_count": 64
        }
      ]
    },
    {
      "cell_type": "markdown",
      "metadata": {
        "id": "OiIZmB2mHa-y"
      },
      "source": [
        "## Headless operation\n",
        "\n",
        "While the extra window is useful for exploring results, it gets annoying when rerunning common searches.  In this case, we want to run the search in headless mode."
      ]
    },
    {
      "cell_type": "code",
      "metadata": {
        "id": "OvLKulKRHa-y",
        "outputId": "663b7357-da75-48e0-a304-17087fa6161e",
        "colab": {
          "base_uri": "https://localhost:8080/",
          "height": 425
        }
      },
      "source": [
        "from selenium import webdriver\n",
        "from selenium.webdriver.chrome.options import Options\n",
        "\n",
        "options = Options()\n",
        "options.headless = True\n",
        "options.add_argument(\"--window-size=1920,1200\")\n",
        "\n",
        "driver = webdriver.Chrome(options=options, executable_path=DRIVER_PATH)\n",
        "driver.get(\"https://www.nintendo.com/\")\n",
        "print(driver.page_source)\n",
        "driver.quit()"
      ],
      "execution_count": null,
      "outputs": [
        {
          "output_type": "error",
          "ename": "WebDriverException",
          "evalue": "ignored",
          "traceback": [
            "\u001b[0;31m---------------------------------------------------------------------------\u001b[0m",
            "\u001b[0;31mFileNotFoundError\u001b[0m                         Traceback (most recent call last)",
            "\u001b[0;32m/usr/local/lib/python3.6/dist-packages/selenium/webdriver/common/service.py\u001b[0m in \u001b[0;36mstart\u001b[0;34m(self)\u001b[0m\n\u001b[1;32m     75\u001b[0m                                             \u001b[0mstderr\u001b[0m\u001b[0;34m=\u001b[0m\u001b[0mself\u001b[0m\u001b[0;34m.\u001b[0m\u001b[0mlog_file\u001b[0m\u001b[0;34m,\u001b[0m\u001b[0;34m\u001b[0m\u001b[0;34m\u001b[0m\u001b[0m\n\u001b[0;32m---> 76\u001b[0;31m                                             stdin=PIPE)\n\u001b[0m\u001b[1;32m     77\u001b[0m         \u001b[0;32mexcept\u001b[0m \u001b[0mTypeError\u001b[0m\u001b[0;34m:\u001b[0m\u001b[0;34m\u001b[0m\u001b[0;34m\u001b[0m\u001b[0m\n",
            "\u001b[0;32m/usr/lib/python3.6/subprocess.py\u001b[0m in \u001b[0;36m__init__\u001b[0;34m(self, args, bufsize, executable, stdin, stdout, stderr, preexec_fn, close_fds, shell, cwd, env, universal_newlines, startupinfo, creationflags, restore_signals, start_new_session, pass_fds, encoding, errors)\u001b[0m\n\u001b[1;32m    728\u001b[0m                                 \u001b[0merrread\u001b[0m\u001b[0;34m,\u001b[0m \u001b[0merrwrite\u001b[0m\u001b[0;34m,\u001b[0m\u001b[0;34m\u001b[0m\u001b[0;34m\u001b[0m\u001b[0m\n\u001b[0;32m--> 729\u001b[0;31m                                 restore_signals, start_new_session)\n\u001b[0m\u001b[1;32m    730\u001b[0m         \u001b[0;32mexcept\u001b[0m\u001b[0;34m:\u001b[0m\u001b[0;34m\u001b[0m\u001b[0;34m\u001b[0m\u001b[0m\n",
            "\u001b[0;32m/usr/lib/python3.6/subprocess.py\u001b[0m in \u001b[0;36m_execute_child\u001b[0;34m(self, args, executable, preexec_fn, close_fds, pass_fds, cwd, env, startupinfo, creationflags, shell, p2cread, p2cwrite, c2pread, c2pwrite, errread, errwrite, restore_signals, start_new_session)\u001b[0m\n\u001b[1;32m   1363\u001b[0m                             \u001b[0merr_msg\u001b[0m \u001b[0;34m+=\u001b[0m \u001b[0;34m': '\u001b[0m \u001b[0;34m+\u001b[0m \u001b[0mrepr\u001b[0m\u001b[0;34m(\u001b[0m\u001b[0merr_filename\u001b[0m\u001b[0;34m)\u001b[0m\u001b[0;34m\u001b[0m\u001b[0;34m\u001b[0m\u001b[0m\n\u001b[0;32m-> 1364\u001b[0;31m                     \u001b[0;32mraise\u001b[0m \u001b[0mchild_exception_type\u001b[0m\u001b[0;34m(\u001b[0m\u001b[0merrno_num\u001b[0m\u001b[0;34m,\u001b[0m \u001b[0merr_msg\u001b[0m\u001b[0;34m,\u001b[0m \u001b[0merr_filename\u001b[0m\u001b[0;34m)\u001b[0m\u001b[0;34m\u001b[0m\u001b[0;34m\u001b[0m\u001b[0m\n\u001b[0m\u001b[1;32m   1365\u001b[0m                 \u001b[0;32mraise\u001b[0m \u001b[0mchild_exception_type\u001b[0m\u001b[0;34m(\u001b[0m\u001b[0merr_msg\u001b[0m\u001b[0;34m)\u001b[0m\u001b[0;34m\u001b[0m\u001b[0;34m\u001b[0m\u001b[0m\n",
            "\u001b[0;31mFileNotFoundError\u001b[0m: [Errno 2] No such file or directory: '/Users/bn8210wy/Downloads/chromedriver': '/Users/bn8210wy/Downloads/chromedriver'",
            "\nDuring handling of the above exception, another exception occurred:\n",
            "\u001b[0;31mWebDriverException\u001b[0m                        Traceback (most recent call last)",
            "\u001b[0;32m<ipython-input-65-434fab3b120e>\u001b[0m in \u001b[0;36m<module>\u001b[0;34m()\u001b[0m\n\u001b[1;32m      6\u001b[0m \u001b[0moptions\u001b[0m\u001b[0;34m.\u001b[0m\u001b[0madd_argument\u001b[0m\u001b[0;34m(\u001b[0m\u001b[0;34m\"--window-size=1920,1200\"\u001b[0m\u001b[0;34m)\u001b[0m\u001b[0;34m\u001b[0m\u001b[0;34m\u001b[0m\u001b[0m\n\u001b[1;32m      7\u001b[0m \u001b[0;34m\u001b[0m\u001b[0m\n\u001b[0;32m----> 8\u001b[0;31m \u001b[0mdriver\u001b[0m \u001b[0;34m=\u001b[0m \u001b[0mwebdriver\u001b[0m\u001b[0;34m.\u001b[0m\u001b[0mChrome\u001b[0m\u001b[0;34m(\u001b[0m\u001b[0moptions\u001b[0m\u001b[0;34m=\u001b[0m\u001b[0moptions\u001b[0m\u001b[0;34m,\u001b[0m \u001b[0mexecutable_path\u001b[0m\u001b[0;34m=\u001b[0m\u001b[0mDRIVER_PATH\u001b[0m\u001b[0;34m)\u001b[0m\u001b[0;34m\u001b[0m\u001b[0;34m\u001b[0m\u001b[0m\n\u001b[0m\u001b[1;32m      9\u001b[0m \u001b[0mdriver\u001b[0m\u001b[0;34m.\u001b[0m\u001b[0mget\u001b[0m\u001b[0;34m(\u001b[0m\u001b[0;34m\"https://www.nintendo.com/\"\u001b[0m\u001b[0;34m)\u001b[0m\u001b[0;34m\u001b[0m\u001b[0;34m\u001b[0m\u001b[0m\n\u001b[1;32m     10\u001b[0m \u001b[0mprint\u001b[0m\u001b[0;34m(\u001b[0m\u001b[0mdriver\u001b[0m\u001b[0;34m.\u001b[0m\u001b[0mpage_source\u001b[0m\u001b[0;34m)\u001b[0m\u001b[0;34m\u001b[0m\u001b[0;34m\u001b[0m\u001b[0m\n",
            "\u001b[0;32m/usr/local/lib/python3.6/dist-packages/selenium/webdriver/chrome/webdriver.py\u001b[0m in \u001b[0;36m__init__\u001b[0;34m(self, executable_path, port, options, service_args, desired_capabilities, service_log_path, chrome_options, keep_alive)\u001b[0m\n\u001b[1;32m     71\u001b[0m             \u001b[0mservice_args\u001b[0m\u001b[0;34m=\u001b[0m\u001b[0mservice_args\u001b[0m\u001b[0;34m,\u001b[0m\u001b[0;34m\u001b[0m\u001b[0;34m\u001b[0m\u001b[0m\n\u001b[1;32m     72\u001b[0m             log_path=service_log_path)\n\u001b[0;32m---> 73\u001b[0;31m         \u001b[0mself\u001b[0m\u001b[0;34m.\u001b[0m\u001b[0mservice\u001b[0m\u001b[0;34m.\u001b[0m\u001b[0mstart\u001b[0m\u001b[0;34m(\u001b[0m\u001b[0;34m)\u001b[0m\u001b[0;34m\u001b[0m\u001b[0;34m\u001b[0m\u001b[0m\n\u001b[0m\u001b[1;32m     74\u001b[0m \u001b[0;34m\u001b[0m\u001b[0m\n\u001b[1;32m     75\u001b[0m         \u001b[0;32mtry\u001b[0m\u001b[0;34m:\u001b[0m\u001b[0;34m\u001b[0m\u001b[0;34m\u001b[0m\u001b[0m\n",
            "\u001b[0;32m/usr/local/lib/python3.6/dist-packages/selenium/webdriver/common/service.py\u001b[0m in \u001b[0;36mstart\u001b[0;34m(self)\u001b[0m\n\u001b[1;32m     81\u001b[0m                 raise WebDriverException(\n\u001b[1;32m     82\u001b[0m                     \"'%s' executable needs to be in PATH. %s\" % (\n\u001b[0;32m---> 83\u001b[0;31m                         os.path.basename(self.path), self.start_error_message)\n\u001b[0m\u001b[1;32m     84\u001b[0m                 )\n\u001b[1;32m     85\u001b[0m             \u001b[0;32melif\u001b[0m \u001b[0merr\u001b[0m\u001b[0;34m.\u001b[0m\u001b[0merrno\u001b[0m \u001b[0;34m==\u001b[0m \u001b[0merrno\u001b[0m\u001b[0;34m.\u001b[0m\u001b[0mEACCES\u001b[0m\u001b[0;34m:\u001b[0m\u001b[0;34m\u001b[0m\u001b[0;34m\u001b[0m\u001b[0m\n",
            "\u001b[0;31mWebDriverException\u001b[0m: Message: 'chromedriver' executable needs to be in PATH. Please see https://sites.google.com/a/chromium.org/chromedriver/home\n"
          ]
        }
      ]
    }
  ]
}